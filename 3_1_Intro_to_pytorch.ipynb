{
  "nbformat": 4,
  "nbformat_minor": 0,
  "metadata": {
    "colab": {
      "provenance": []
    },
    "kernelspec": {
      "name": "python3",
      "display_name": "Python 3"
    },
    "language_info": {
      "name": "python"
    },
    "accelerator": "GPU",
    "widgets": {
      "application/vnd.jupyter.widget-state+json": {
        "822555e932a343229bf3570372ac1d1c": {
          "model_module": "@jupyter-widgets/controls",
          "model_name": "HBoxModel",
          "model_module_version": "1.5.0",
          "state": {
            "_dom_classes": [],
            "_model_module": "@jupyter-widgets/controls",
            "_model_module_version": "1.5.0",
            "_model_name": "HBoxModel",
            "_view_count": null,
            "_view_module": "@jupyter-widgets/controls",
            "_view_module_version": "1.5.0",
            "_view_name": "HBoxView",
            "box_style": "",
            "children": [
              "IPY_MODEL_ef5f2d42dc654c9387b44b809d437654",
              "IPY_MODEL_da10f33a2b244f33b6449a4350d68112",
              "IPY_MODEL_b6af76ae6011467882883c3dba030ccb"
            ],
            "layout": "IPY_MODEL_16c8d395be6247f5bb6842902e260467"
          }
        },
        "ef5f2d42dc654c9387b44b809d437654": {
          "model_module": "@jupyter-widgets/controls",
          "model_name": "HTMLModel",
          "model_module_version": "1.5.0",
          "state": {
            "_dom_classes": [],
            "_model_module": "@jupyter-widgets/controls",
            "_model_module_version": "1.5.0",
            "_model_name": "HTMLModel",
            "_view_count": null,
            "_view_module": "@jupyter-widgets/controls",
            "_view_module_version": "1.5.0",
            "_view_name": "HTMLView",
            "description": "",
            "description_tooltip": null,
            "layout": "IPY_MODEL_0728b813fc244a7dbdf1fc8dda47a0e1",
            "placeholder": "​",
            "style": "IPY_MODEL_34d1f99076974b9fbec8fbdf9c5336fb",
            "value": "100%"
          }
        },
        "da10f33a2b244f33b6449a4350d68112": {
          "model_module": "@jupyter-widgets/controls",
          "model_name": "FloatProgressModel",
          "model_module_version": "1.5.0",
          "state": {
            "_dom_classes": [],
            "_model_module": "@jupyter-widgets/controls",
            "_model_module_version": "1.5.0",
            "_model_name": "FloatProgressModel",
            "_view_count": null,
            "_view_module": "@jupyter-widgets/controls",
            "_view_module_version": "1.5.0",
            "_view_name": "ProgressView",
            "bar_style": "success",
            "description": "",
            "description_tooltip": null,
            "layout": "IPY_MODEL_f9e9b81965494cb8b8dfbd6a8ed919d1",
            "max": 26421880,
            "min": 0,
            "orientation": "horizontal",
            "style": "IPY_MODEL_3d5d0eb884734ef0b6555ee1c46943de",
            "value": 26421880
          }
        },
        "b6af76ae6011467882883c3dba030ccb": {
          "model_module": "@jupyter-widgets/controls",
          "model_name": "HTMLModel",
          "model_module_version": "1.5.0",
          "state": {
            "_dom_classes": [],
            "_model_module": "@jupyter-widgets/controls",
            "_model_module_version": "1.5.0",
            "_model_name": "HTMLModel",
            "_view_count": null,
            "_view_module": "@jupyter-widgets/controls",
            "_view_module_version": "1.5.0",
            "_view_name": "HTMLView",
            "description": "",
            "description_tooltip": null,
            "layout": "IPY_MODEL_0af148bbf9b04f4cadee1d064d48b0ab",
            "placeholder": "​",
            "style": "IPY_MODEL_4acaccb1f7324d09bd6c1f7da66d63b1",
            "value": " 26421880/26421880 [00:01&lt;00:00, 25147348.34it/s]"
          }
        },
        "16c8d395be6247f5bb6842902e260467": {
          "model_module": "@jupyter-widgets/base",
          "model_name": "LayoutModel",
          "model_module_version": "1.2.0",
          "state": {
            "_model_module": "@jupyter-widgets/base",
            "_model_module_version": "1.2.0",
            "_model_name": "LayoutModel",
            "_view_count": null,
            "_view_module": "@jupyter-widgets/base",
            "_view_module_version": "1.2.0",
            "_view_name": "LayoutView",
            "align_content": null,
            "align_items": null,
            "align_self": null,
            "border": null,
            "bottom": null,
            "display": null,
            "flex": null,
            "flex_flow": null,
            "grid_area": null,
            "grid_auto_columns": null,
            "grid_auto_flow": null,
            "grid_auto_rows": null,
            "grid_column": null,
            "grid_gap": null,
            "grid_row": null,
            "grid_template_areas": null,
            "grid_template_columns": null,
            "grid_template_rows": null,
            "height": null,
            "justify_content": null,
            "justify_items": null,
            "left": null,
            "margin": null,
            "max_height": null,
            "max_width": null,
            "min_height": null,
            "min_width": null,
            "object_fit": null,
            "object_position": null,
            "order": null,
            "overflow": null,
            "overflow_x": null,
            "overflow_y": null,
            "padding": null,
            "right": null,
            "top": null,
            "visibility": null,
            "width": null
          }
        },
        "0728b813fc244a7dbdf1fc8dda47a0e1": {
          "model_module": "@jupyter-widgets/base",
          "model_name": "LayoutModel",
          "model_module_version": "1.2.0",
          "state": {
            "_model_module": "@jupyter-widgets/base",
            "_model_module_version": "1.2.0",
            "_model_name": "LayoutModel",
            "_view_count": null,
            "_view_module": "@jupyter-widgets/base",
            "_view_module_version": "1.2.0",
            "_view_name": "LayoutView",
            "align_content": null,
            "align_items": null,
            "align_self": null,
            "border": null,
            "bottom": null,
            "display": null,
            "flex": null,
            "flex_flow": null,
            "grid_area": null,
            "grid_auto_columns": null,
            "grid_auto_flow": null,
            "grid_auto_rows": null,
            "grid_column": null,
            "grid_gap": null,
            "grid_row": null,
            "grid_template_areas": null,
            "grid_template_columns": null,
            "grid_template_rows": null,
            "height": null,
            "justify_content": null,
            "justify_items": null,
            "left": null,
            "margin": null,
            "max_height": null,
            "max_width": null,
            "min_height": null,
            "min_width": null,
            "object_fit": null,
            "object_position": null,
            "order": null,
            "overflow": null,
            "overflow_x": null,
            "overflow_y": null,
            "padding": null,
            "right": null,
            "top": null,
            "visibility": null,
            "width": null
          }
        },
        "34d1f99076974b9fbec8fbdf9c5336fb": {
          "model_module": "@jupyter-widgets/controls",
          "model_name": "DescriptionStyleModel",
          "model_module_version": "1.5.0",
          "state": {
            "_model_module": "@jupyter-widgets/controls",
            "_model_module_version": "1.5.0",
            "_model_name": "DescriptionStyleModel",
            "_view_count": null,
            "_view_module": "@jupyter-widgets/base",
            "_view_module_version": "1.2.0",
            "_view_name": "StyleView",
            "description_width": ""
          }
        },
        "f9e9b81965494cb8b8dfbd6a8ed919d1": {
          "model_module": "@jupyter-widgets/base",
          "model_name": "LayoutModel",
          "model_module_version": "1.2.0",
          "state": {
            "_model_module": "@jupyter-widgets/base",
            "_model_module_version": "1.2.0",
            "_model_name": "LayoutModel",
            "_view_count": null,
            "_view_module": "@jupyter-widgets/base",
            "_view_module_version": "1.2.0",
            "_view_name": "LayoutView",
            "align_content": null,
            "align_items": null,
            "align_self": null,
            "border": null,
            "bottom": null,
            "display": null,
            "flex": null,
            "flex_flow": null,
            "grid_area": null,
            "grid_auto_columns": null,
            "grid_auto_flow": null,
            "grid_auto_rows": null,
            "grid_column": null,
            "grid_gap": null,
            "grid_row": null,
            "grid_template_areas": null,
            "grid_template_columns": null,
            "grid_template_rows": null,
            "height": null,
            "justify_content": null,
            "justify_items": null,
            "left": null,
            "margin": null,
            "max_height": null,
            "max_width": null,
            "min_height": null,
            "min_width": null,
            "object_fit": null,
            "object_position": null,
            "order": null,
            "overflow": null,
            "overflow_x": null,
            "overflow_y": null,
            "padding": null,
            "right": null,
            "top": null,
            "visibility": null,
            "width": null
          }
        },
        "3d5d0eb884734ef0b6555ee1c46943de": {
          "model_module": "@jupyter-widgets/controls",
          "model_name": "ProgressStyleModel",
          "model_module_version": "1.5.0",
          "state": {
            "_model_module": "@jupyter-widgets/controls",
            "_model_module_version": "1.5.0",
            "_model_name": "ProgressStyleModel",
            "_view_count": null,
            "_view_module": "@jupyter-widgets/base",
            "_view_module_version": "1.2.0",
            "_view_name": "StyleView",
            "bar_color": null,
            "description_width": ""
          }
        },
        "0af148bbf9b04f4cadee1d064d48b0ab": {
          "model_module": "@jupyter-widgets/base",
          "model_name": "LayoutModel",
          "model_module_version": "1.2.0",
          "state": {
            "_model_module": "@jupyter-widgets/base",
            "_model_module_version": "1.2.0",
            "_model_name": "LayoutModel",
            "_view_count": null,
            "_view_module": "@jupyter-widgets/base",
            "_view_module_version": "1.2.0",
            "_view_name": "LayoutView",
            "align_content": null,
            "align_items": null,
            "align_self": null,
            "border": null,
            "bottom": null,
            "display": null,
            "flex": null,
            "flex_flow": null,
            "grid_area": null,
            "grid_auto_columns": null,
            "grid_auto_flow": null,
            "grid_auto_rows": null,
            "grid_column": null,
            "grid_gap": null,
            "grid_row": null,
            "grid_template_areas": null,
            "grid_template_columns": null,
            "grid_template_rows": null,
            "height": null,
            "justify_content": null,
            "justify_items": null,
            "left": null,
            "margin": null,
            "max_height": null,
            "max_width": null,
            "min_height": null,
            "min_width": null,
            "object_fit": null,
            "object_position": null,
            "order": null,
            "overflow": null,
            "overflow_x": null,
            "overflow_y": null,
            "padding": null,
            "right": null,
            "top": null,
            "visibility": null,
            "width": null
          }
        },
        "4acaccb1f7324d09bd6c1f7da66d63b1": {
          "model_module": "@jupyter-widgets/controls",
          "model_name": "DescriptionStyleModel",
          "model_module_version": "1.5.0",
          "state": {
            "_model_module": "@jupyter-widgets/controls",
            "_model_module_version": "1.5.0",
            "_model_name": "DescriptionStyleModel",
            "_view_count": null,
            "_view_module": "@jupyter-widgets/base",
            "_view_module_version": "1.2.0",
            "_view_name": "StyleView",
            "description_width": ""
          }
        },
        "49b1a722c8b84869aeb7815296a95549": {
          "model_module": "@jupyter-widgets/controls",
          "model_name": "HBoxModel",
          "model_module_version": "1.5.0",
          "state": {
            "_dom_classes": [],
            "_model_module": "@jupyter-widgets/controls",
            "_model_module_version": "1.5.0",
            "_model_name": "HBoxModel",
            "_view_count": null,
            "_view_module": "@jupyter-widgets/controls",
            "_view_module_version": "1.5.0",
            "_view_name": "HBoxView",
            "box_style": "",
            "children": [
              "IPY_MODEL_ea17429e1cc94b21bf8ca1f354db8ee4",
              "IPY_MODEL_7d946a8644e54f5c8ef644e4e9729960",
              "IPY_MODEL_2a39e470aa1545e99494d55f06561304"
            ],
            "layout": "IPY_MODEL_7032ff3101304f269b936e039e7a0c90"
          }
        },
        "ea17429e1cc94b21bf8ca1f354db8ee4": {
          "model_module": "@jupyter-widgets/controls",
          "model_name": "HTMLModel",
          "model_module_version": "1.5.0",
          "state": {
            "_dom_classes": [],
            "_model_module": "@jupyter-widgets/controls",
            "_model_module_version": "1.5.0",
            "_model_name": "HTMLModel",
            "_view_count": null,
            "_view_module": "@jupyter-widgets/controls",
            "_view_module_version": "1.5.0",
            "_view_name": "HTMLView",
            "description": "",
            "description_tooltip": null,
            "layout": "IPY_MODEL_36560d5b724d4a54a7a4e34c4dea3eac",
            "placeholder": "​",
            "style": "IPY_MODEL_0b4de0276f46479aa8d6595c79388977",
            "value": "100%"
          }
        },
        "7d946a8644e54f5c8ef644e4e9729960": {
          "model_module": "@jupyter-widgets/controls",
          "model_name": "FloatProgressModel",
          "model_module_version": "1.5.0",
          "state": {
            "_dom_classes": [],
            "_model_module": "@jupyter-widgets/controls",
            "_model_module_version": "1.5.0",
            "_model_name": "FloatProgressModel",
            "_view_count": null,
            "_view_module": "@jupyter-widgets/controls",
            "_view_module_version": "1.5.0",
            "_view_name": "ProgressView",
            "bar_style": "success",
            "description": "",
            "description_tooltip": null,
            "layout": "IPY_MODEL_160b55b9c67a4e01a47e4c6d498284e3",
            "max": 29515,
            "min": 0,
            "orientation": "horizontal",
            "style": "IPY_MODEL_703f8a80668940d19406add24013cb9e",
            "value": 29515
          }
        },
        "2a39e470aa1545e99494d55f06561304": {
          "model_module": "@jupyter-widgets/controls",
          "model_name": "HTMLModel",
          "model_module_version": "1.5.0",
          "state": {
            "_dom_classes": [],
            "_model_module": "@jupyter-widgets/controls",
            "_model_module_version": "1.5.0",
            "_model_name": "HTMLModel",
            "_view_count": null,
            "_view_module": "@jupyter-widgets/controls",
            "_view_module_version": "1.5.0",
            "_view_name": "HTMLView",
            "description": "",
            "description_tooltip": null,
            "layout": "IPY_MODEL_e118076f389b4d68846c063bf5518515",
            "placeholder": "​",
            "style": "IPY_MODEL_565dd0d00c06468bb1a08c835b4798a7",
            "value": " 29515/29515 [00:00&lt;00:00, 262890.52it/s]"
          }
        },
        "7032ff3101304f269b936e039e7a0c90": {
          "model_module": "@jupyter-widgets/base",
          "model_name": "LayoutModel",
          "model_module_version": "1.2.0",
          "state": {
            "_model_module": "@jupyter-widgets/base",
            "_model_module_version": "1.2.0",
            "_model_name": "LayoutModel",
            "_view_count": null,
            "_view_module": "@jupyter-widgets/base",
            "_view_module_version": "1.2.0",
            "_view_name": "LayoutView",
            "align_content": null,
            "align_items": null,
            "align_self": null,
            "border": null,
            "bottom": null,
            "display": null,
            "flex": null,
            "flex_flow": null,
            "grid_area": null,
            "grid_auto_columns": null,
            "grid_auto_flow": null,
            "grid_auto_rows": null,
            "grid_column": null,
            "grid_gap": null,
            "grid_row": null,
            "grid_template_areas": null,
            "grid_template_columns": null,
            "grid_template_rows": null,
            "height": null,
            "justify_content": null,
            "justify_items": null,
            "left": null,
            "margin": null,
            "max_height": null,
            "max_width": null,
            "min_height": null,
            "min_width": null,
            "object_fit": null,
            "object_position": null,
            "order": null,
            "overflow": null,
            "overflow_x": null,
            "overflow_y": null,
            "padding": null,
            "right": null,
            "top": null,
            "visibility": null,
            "width": null
          }
        },
        "36560d5b724d4a54a7a4e34c4dea3eac": {
          "model_module": "@jupyter-widgets/base",
          "model_name": "LayoutModel",
          "model_module_version": "1.2.0",
          "state": {
            "_model_module": "@jupyter-widgets/base",
            "_model_module_version": "1.2.0",
            "_model_name": "LayoutModel",
            "_view_count": null,
            "_view_module": "@jupyter-widgets/base",
            "_view_module_version": "1.2.0",
            "_view_name": "LayoutView",
            "align_content": null,
            "align_items": null,
            "align_self": null,
            "border": null,
            "bottom": null,
            "display": null,
            "flex": null,
            "flex_flow": null,
            "grid_area": null,
            "grid_auto_columns": null,
            "grid_auto_flow": null,
            "grid_auto_rows": null,
            "grid_column": null,
            "grid_gap": null,
            "grid_row": null,
            "grid_template_areas": null,
            "grid_template_columns": null,
            "grid_template_rows": null,
            "height": null,
            "justify_content": null,
            "justify_items": null,
            "left": null,
            "margin": null,
            "max_height": null,
            "max_width": null,
            "min_height": null,
            "min_width": null,
            "object_fit": null,
            "object_position": null,
            "order": null,
            "overflow": null,
            "overflow_x": null,
            "overflow_y": null,
            "padding": null,
            "right": null,
            "top": null,
            "visibility": null,
            "width": null
          }
        },
        "0b4de0276f46479aa8d6595c79388977": {
          "model_module": "@jupyter-widgets/controls",
          "model_name": "DescriptionStyleModel",
          "model_module_version": "1.5.0",
          "state": {
            "_model_module": "@jupyter-widgets/controls",
            "_model_module_version": "1.5.0",
            "_model_name": "DescriptionStyleModel",
            "_view_count": null,
            "_view_module": "@jupyter-widgets/base",
            "_view_module_version": "1.2.0",
            "_view_name": "StyleView",
            "description_width": ""
          }
        },
        "160b55b9c67a4e01a47e4c6d498284e3": {
          "model_module": "@jupyter-widgets/base",
          "model_name": "LayoutModel",
          "model_module_version": "1.2.0",
          "state": {
            "_model_module": "@jupyter-widgets/base",
            "_model_module_version": "1.2.0",
            "_model_name": "LayoutModel",
            "_view_count": null,
            "_view_module": "@jupyter-widgets/base",
            "_view_module_version": "1.2.0",
            "_view_name": "LayoutView",
            "align_content": null,
            "align_items": null,
            "align_self": null,
            "border": null,
            "bottom": null,
            "display": null,
            "flex": null,
            "flex_flow": null,
            "grid_area": null,
            "grid_auto_columns": null,
            "grid_auto_flow": null,
            "grid_auto_rows": null,
            "grid_column": null,
            "grid_gap": null,
            "grid_row": null,
            "grid_template_areas": null,
            "grid_template_columns": null,
            "grid_template_rows": null,
            "height": null,
            "justify_content": null,
            "justify_items": null,
            "left": null,
            "margin": null,
            "max_height": null,
            "max_width": null,
            "min_height": null,
            "min_width": null,
            "object_fit": null,
            "object_position": null,
            "order": null,
            "overflow": null,
            "overflow_x": null,
            "overflow_y": null,
            "padding": null,
            "right": null,
            "top": null,
            "visibility": null,
            "width": null
          }
        },
        "703f8a80668940d19406add24013cb9e": {
          "model_module": "@jupyter-widgets/controls",
          "model_name": "ProgressStyleModel",
          "model_module_version": "1.5.0",
          "state": {
            "_model_module": "@jupyter-widgets/controls",
            "_model_module_version": "1.5.0",
            "_model_name": "ProgressStyleModel",
            "_view_count": null,
            "_view_module": "@jupyter-widgets/base",
            "_view_module_version": "1.2.0",
            "_view_name": "StyleView",
            "bar_color": null,
            "description_width": ""
          }
        },
        "e118076f389b4d68846c063bf5518515": {
          "model_module": "@jupyter-widgets/base",
          "model_name": "LayoutModel",
          "model_module_version": "1.2.0",
          "state": {
            "_model_module": "@jupyter-widgets/base",
            "_model_module_version": "1.2.0",
            "_model_name": "LayoutModel",
            "_view_count": null,
            "_view_module": "@jupyter-widgets/base",
            "_view_module_version": "1.2.0",
            "_view_name": "LayoutView",
            "align_content": null,
            "align_items": null,
            "align_self": null,
            "border": null,
            "bottom": null,
            "display": null,
            "flex": null,
            "flex_flow": null,
            "grid_area": null,
            "grid_auto_columns": null,
            "grid_auto_flow": null,
            "grid_auto_rows": null,
            "grid_column": null,
            "grid_gap": null,
            "grid_row": null,
            "grid_template_areas": null,
            "grid_template_columns": null,
            "grid_template_rows": null,
            "height": null,
            "justify_content": null,
            "justify_items": null,
            "left": null,
            "margin": null,
            "max_height": null,
            "max_width": null,
            "min_height": null,
            "min_width": null,
            "object_fit": null,
            "object_position": null,
            "order": null,
            "overflow": null,
            "overflow_x": null,
            "overflow_y": null,
            "padding": null,
            "right": null,
            "top": null,
            "visibility": null,
            "width": null
          }
        },
        "565dd0d00c06468bb1a08c835b4798a7": {
          "model_module": "@jupyter-widgets/controls",
          "model_name": "DescriptionStyleModel",
          "model_module_version": "1.5.0",
          "state": {
            "_model_module": "@jupyter-widgets/controls",
            "_model_module_version": "1.5.0",
            "_model_name": "DescriptionStyleModel",
            "_view_count": null,
            "_view_module": "@jupyter-widgets/base",
            "_view_module_version": "1.2.0",
            "_view_name": "StyleView",
            "description_width": ""
          }
        },
        "27bc850465af4ddbbf191dbe7c3dc917": {
          "model_module": "@jupyter-widgets/controls",
          "model_name": "HBoxModel",
          "model_module_version": "1.5.0",
          "state": {
            "_dom_classes": [],
            "_model_module": "@jupyter-widgets/controls",
            "_model_module_version": "1.5.0",
            "_model_name": "HBoxModel",
            "_view_count": null,
            "_view_module": "@jupyter-widgets/controls",
            "_view_module_version": "1.5.0",
            "_view_name": "HBoxView",
            "box_style": "",
            "children": [
              "IPY_MODEL_b2680437f93a4468aa6c3170b7d52e88",
              "IPY_MODEL_059c5908c58c43e4a218ab66c64dcf72",
              "IPY_MODEL_c977d728052149c882750760b0565825"
            ],
            "layout": "IPY_MODEL_ceb82736648d427384c982ba867c8a30"
          }
        },
        "b2680437f93a4468aa6c3170b7d52e88": {
          "model_module": "@jupyter-widgets/controls",
          "model_name": "HTMLModel",
          "model_module_version": "1.5.0",
          "state": {
            "_dom_classes": [],
            "_model_module": "@jupyter-widgets/controls",
            "_model_module_version": "1.5.0",
            "_model_name": "HTMLModel",
            "_view_count": null,
            "_view_module": "@jupyter-widgets/controls",
            "_view_module_version": "1.5.0",
            "_view_name": "HTMLView",
            "description": "",
            "description_tooltip": null,
            "layout": "IPY_MODEL_35c97823e5a74c5d956972eff8aa0185",
            "placeholder": "​",
            "style": "IPY_MODEL_9b630e35591e4e149bc163b4218b5874",
            "value": "100%"
          }
        },
        "059c5908c58c43e4a218ab66c64dcf72": {
          "model_module": "@jupyter-widgets/controls",
          "model_name": "FloatProgressModel",
          "model_module_version": "1.5.0",
          "state": {
            "_dom_classes": [],
            "_model_module": "@jupyter-widgets/controls",
            "_model_module_version": "1.5.0",
            "_model_name": "FloatProgressModel",
            "_view_count": null,
            "_view_module": "@jupyter-widgets/controls",
            "_view_module_version": "1.5.0",
            "_view_name": "ProgressView",
            "bar_style": "success",
            "description": "",
            "description_tooltip": null,
            "layout": "IPY_MODEL_60bac7c3bb76473fa9a4d31a068c822d",
            "max": 4422102,
            "min": 0,
            "orientation": "horizontal",
            "style": "IPY_MODEL_5f2e87ed5e6640f795e5fc3d51e1199a",
            "value": 4422102
          }
        },
        "c977d728052149c882750760b0565825": {
          "model_module": "@jupyter-widgets/controls",
          "model_name": "HTMLModel",
          "model_module_version": "1.5.0",
          "state": {
            "_dom_classes": [],
            "_model_module": "@jupyter-widgets/controls",
            "_model_module_version": "1.5.0",
            "_model_name": "HTMLModel",
            "_view_count": null,
            "_view_module": "@jupyter-widgets/controls",
            "_view_module_version": "1.5.0",
            "_view_name": "HTMLView",
            "description": "",
            "description_tooltip": null,
            "layout": "IPY_MODEL_0086ac4e500e4328b49c6fbc68539e8e",
            "placeholder": "​",
            "style": "IPY_MODEL_ec3267acec6043ce844e7e8fcd0f59b9",
            "value": " 4422102/4422102 [00:00&lt;00:00, 8468911.39it/s]"
          }
        },
        "ceb82736648d427384c982ba867c8a30": {
          "model_module": "@jupyter-widgets/base",
          "model_name": "LayoutModel",
          "model_module_version": "1.2.0",
          "state": {
            "_model_module": "@jupyter-widgets/base",
            "_model_module_version": "1.2.0",
            "_model_name": "LayoutModel",
            "_view_count": null,
            "_view_module": "@jupyter-widgets/base",
            "_view_module_version": "1.2.0",
            "_view_name": "LayoutView",
            "align_content": null,
            "align_items": null,
            "align_self": null,
            "border": null,
            "bottom": null,
            "display": null,
            "flex": null,
            "flex_flow": null,
            "grid_area": null,
            "grid_auto_columns": null,
            "grid_auto_flow": null,
            "grid_auto_rows": null,
            "grid_column": null,
            "grid_gap": null,
            "grid_row": null,
            "grid_template_areas": null,
            "grid_template_columns": null,
            "grid_template_rows": null,
            "height": null,
            "justify_content": null,
            "justify_items": null,
            "left": null,
            "margin": null,
            "max_height": null,
            "max_width": null,
            "min_height": null,
            "min_width": null,
            "object_fit": null,
            "object_position": null,
            "order": null,
            "overflow": null,
            "overflow_x": null,
            "overflow_y": null,
            "padding": null,
            "right": null,
            "top": null,
            "visibility": null,
            "width": null
          }
        },
        "35c97823e5a74c5d956972eff8aa0185": {
          "model_module": "@jupyter-widgets/base",
          "model_name": "LayoutModel",
          "model_module_version": "1.2.0",
          "state": {
            "_model_module": "@jupyter-widgets/base",
            "_model_module_version": "1.2.0",
            "_model_name": "LayoutModel",
            "_view_count": null,
            "_view_module": "@jupyter-widgets/base",
            "_view_module_version": "1.2.0",
            "_view_name": "LayoutView",
            "align_content": null,
            "align_items": null,
            "align_self": null,
            "border": null,
            "bottom": null,
            "display": null,
            "flex": null,
            "flex_flow": null,
            "grid_area": null,
            "grid_auto_columns": null,
            "grid_auto_flow": null,
            "grid_auto_rows": null,
            "grid_column": null,
            "grid_gap": null,
            "grid_row": null,
            "grid_template_areas": null,
            "grid_template_columns": null,
            "grid_template_rows": null,
            "height": null,
            "justify_content": null,
            "justify_items": null,
            "left": null,
            "margin": null,
            "max_height": null,
            "max_width": null,
            "min_height": null,
            "min_width": null,
            "object_fit": null,
            "object_position": null,
            "order": null,
            "overflow": null,
            "overflow_x": null,
            "overflow_y": null,
            "padding": null,
            "right": null,
            "top": null,
            "visibility": null,
            "width": null
          }
        },
        "9b630e35591e4e149bc163b4218b5874": {
          "model_module": "@jupyter-widgets/controls",
          "model_name": "DescriptionStyleModel",
          "model_module_version": "1.5.0",
          "state": {
            "_model_module": "@jupyter-widgets/controls",
            "_model_module_version": "1.5.0",
            "_model_name": "DescriptionStyleModel",
            "_view_count": null,
            "_view_module": "@jupyter-widgets/base",
            "_view_module_version": "1.2.0",
            "_view_name": "StyleView",
            "description_width": ""
          }
        },
        "60bac7c3bb76473fa9a4d31a068c822d": {
          "model_module": "@jupyter-widgets/base",
          "model_name": "LayoutModel",
          "model_module_version": "1.2.0",
          "state": {
            "_model_module": "@jupyter-widgets/base",
            "_model_module_version": "1.2.0",
            "_model_name": "LayoutModel",
            "_view_count": null,
            "_view_module": "@jupyter-widgets/base",
            "_view_module_version": "1.2.0",
            "_view_name": "LayoutView",
            "align_content": null,
            "align_items": null,
            "align_self": null,
            "border": null,
            "bottom": null,
            "display": null,
            "flex": null,
            "flex_flow": null,
            "grid_area": null,
            "grid_auto_columns": null,
            "grid_auto_flow": null,
            "grid_auto_rows": null,
            "grid_column": null,
            "grid_gap": null,
            "grid_row": null,
            "grid_template_areas": null,
            "grid_template_columns": null,
            "grid_template_rows": null,
            "height": null,
            "justify_content": null,
            "justify_items": null,
            "left": null,
            "margin": null,
            "max_height": null,
            "max_width": null,
            "min_height": null,
            "min_width": null,
            "object_fit": null,
            "object_position": null,
            "order": null,
            "overflow": null,
            "overflow_x": null,
            "overflow_y": null,
            "padding": null,
            "right": null,
            "top": null,
            "visibility": null,
            "width": null
          }
        },
        "5f2e87ed5e6640f795e5fc3d51e1199a": {
          "model_module": "@jupyter-widgets/controls",
          "model_name": "ProgressStyleModel",
          "model_module_version": "1.5.0",
          "state": {
            "_model_module": "@jupyter-widgets/controls",
            "_model_module_version": "1.5.0",
            "_model_name": "ProgressStyleModel",
            "_view_count": null,
            "_view_module": "@jupyter-widgets/base",
            "_view_module_version": "1.2.0",
            "_view_name": "StyleView",
            "bar_color": null,
            "description_width": ""
          }
        },
        "0086ac4e500e4328b49c6fbc68539e8e": {
          "model_module": "@jupyter-widgets/base",
          "model_name": "LayoutModel",
          "model_module_version": "1.2.0",
          "state": {
            "_model_module": "@jupyter-widgets/base",
            "_model_module_version": "1.2.0",
            "_model_name": "LayoutModel",
            "_view_count": null,
            "_view_module": "@jupyter-widgets/base",
            "_view_module_version": "1.2.0",
            "_view_name": "LayoutView",
            "align_content": null,
            "align_items": null,
            "align_self": null,
            "border": null,
            "bottom": null,
            "display": null,
            "flex": null,
            "flex_flow": null,
            "grid_area": null,
            "grid_auto_columns": null,
            "grid_auto_flow": null,
            "grid_auto_rows": null,
            "grid_column": null,
            "grid_gap": null,
            "grid_row": null,
            "grid_template_areas": null,
            "grid_template_columns": null,
            "grid_template_rows": null,
            "height": null,
            "justify_content": null,
            "justify_items": null,
            "left": null,
            "margin": null,
            "max_height": null,
            "max_width": null,
            "min_height": null,
            "min_width": null,
            "object_fit": null,
            "object_position": null,
            "order": null,
            "overflow": null,
            "overflow_x": null,
            "overflow_y": null,
            "padding": null,
            "right": null,
            "top": null,
            "visibility": null,
            "width": null
          }
        },
        "ec3267acec6043ce844e7e8fcd0f59b9": {
          "model_module": "@jupyter-widgets/controls",
          "model_name": "DescriptionStyleModel",
          "model_module_version": "1.5.0",
          "state": {
            "_model_module": "@jupyter-widgets/controls",
            "_model_module_version": "1.5.0",
            "_model_name": "DescriptionStyleModel",
            "_view_count": null,
            "_view_module": "@jupyter-widgets/base",
            "_view_module_version": "1.2.0",
            "_view_name": "StyleView",
            "description_width": ""
          }
        },
        "e21db228b2a9442dbe9983ab512215ee": {
          "model_module": "@jupyter-widgets/controls",
          "model_name": "HBoxModel",
          "model_module_version": "1.5.0",
          "state": {
            "_dom_classes": [],
            "_model_module": "@jupyter-widgets/controls",
            "_model_module_version": "1.5.0",
            "_model_name": "HBoxModel",
            "_view_count": null,
            "_view_module": "@jupyter-widgets/controls",
            "_view_module_version": "1.5.0",
            "_view_name": "HBoxView",
            "box_style": "",
            "children": [
              "IPY_MODEL_28165e15fcc24b1b8cf0095e5acddc9a",
              "IPY_MODEL_43c2fad052284e34860c10465bc938c0",
              "IPY_MODEL_80cde7c9e3ce4d6ba024ca14c9821ce9"
            ],
            "layout": "IPY_MODEL_a0b9a7f081b2456f9d8fa60ca2a4dd6a"
          }
        },
        "28165e15fcc24b1b8cf0095e5acddc9a": {
          "model_module": "@jupyter-widgets/controls",
          "model_name": "HTMLModel",
          "model_module_version": "1.5.0",
          "state": {
            "_dom_classes": [],
            "_model_module": "@jupyter-widgets/controls",
            "_model_module_version": "1.5.0",
            "_model_name": "HTMLModel",
            "_view_count": null,
            "_view_module": "@jupyter-widgets/controls",
            "_view_module_version": "1.5.0",
            "_view_name": "HTMLView",
            "description": "",
            "description_tooltip": null,
            "layout": "IPY_MODEL_d21bb201b673400fa711f943f52bf9fe",
            "placeholder": "​",
            "style": "IPY_MODEL_46c87607478f4152a9b47bd1a22316a5",
            "value": "100%"
          }
        },
        "43c2fad052284e34860c10465bc938c0": {
          "model_module": "@jupyter-widgets/controls",
          "model_name": "FloatProgressModel",
          "model_module_version": "1.5.0",
          "state": {
            "_dom_classes": [],
            "_model_module": "@jupyter-widgets/controls",
            "_model_module_version": "1.5.0",
            "_model_name": "FloatProgressModel",
            "_view_count": null,
            "_view_module": "@jupyter-widgets/controls",
            "_view_module_version": "1.5.0",
            "_view_name": "ProgressView",
            "bar_style": "success",
            "description": "",
            "description_tooltip": null,
            "layout": "IPY_MODEL_f26492da0273416680b6885d458b46be",
            "max": 5148,
            "min": 0,
            "orientation": "horizontal",
            "style": "IPY_MODEL_b6c5b8edb38d4deb82de3fc81c154657",
            "value": 5148
          }
        },
        "80cde7c9e3ce4d6ba024ca14c9821ce9": {
          "model_module": "@jupyter-widgets/controls",
          "model_name": "HTMLModel",
          "model_module_version": "1.5.0",
          "state": {
            "_dom_classes": [],
            "_model_module": "@jupyter-widgets/controls",
            "_model_module_version": "1.5.0",
            "_model_name": "HTMLModel",
            "_view_count": null,
            "_view_module": "@jupyter-widgets/controls",
            "_view_module_version": "1.5.0",
            "_view_name": "HTMLView",
            "description": "",
            "description_tooltip": null,
            "layout": "IPY_MODEL_7bd2ae387b454dcd889983950a100af4",
            "placeholder": "​",
            "style": "IPY_MODEL_1845423240d9461e899fca2a5380d11a",
            "value": " 5148/5148 [00:00&lt;00:00, 190731.02it/s]"
          }
        },
        "a0b9a7f081b2456f9d8fa60ca2a4dd6a": {
          "model_module": "@jupyter-widgets/base",
          "model_name": "LayoutModel",
          "model_module_version": "1.2.0",
          "state": {
            "_model_module": "@jupyter-widgets/base",
            "_model_module_version": "1.2.0",
            "_model_name": "LayoutModel",
            "_view_count": null,
            "_view_module": "@jupyter-widgets/base",
            "_view_module_version": "1.2.0",
            "_view_name": "LayoutView",
            "align_content": null,
            "align_items": null,
            "align_self": null,
            "border": null,
            "bottom": null,
            "display": null,
            "flex": null,
            "flex_flow": null,
            "grid_area": null,
            "grid_auto_columns": null,
            "grid_auto_flow": null,
            "grid_auto_rows": null,
            "grid_column": null,
            "grid_gap": null,
            "grid_row": null,
            "grid_template_areas": null,
            "grid_template_columns": null,
            "grid_template_rows": null,
            "height": null,
            "justify_content": null,
            "justify_items": null,
            "left": null,
            "margin": null,
            "max_height": null,
            "max_width": null,
            "min_height": null,
            "min_width": null,
            "object_fit": null,
            "object_position": null,
            "order": null,
            "overflow": null,
            "overflow_x": null,
            "overflow_y": null,
            "padding": null,
            "right": null,
            "top": null,
            "visibility": null,
            "width": null
          }
        },
        "d21bb201b673400fa711f943f52bf9fe": {
          "model_module": "@jupyter-widgets/base",
          "model_name": "LayoutModel",
          "model_module_version": "1.2.0",
          "state": {
            "_model_module": "@jupyter-widgets/base",
            "_model_module_version": "1.2.0",
            "_model_name": "LayoutModel",
            "_view_count": null,
            "_view_module": "@jupyter-widgets/base",
            "_view_module_version": "1.2.0",
            "_view_name": "LayoutView",
            "align_content": null,
            "align_items": null,
            "align_self": null,
            "border": null,
            "bottom": null,
            "display": null,
            "flex": null,
            "flex_flow": null,
            "grid_area": null,
            "grid_auto_columns": null,
            "grid_auto_flow": null,
            "grid_auto_rows": null,
            "grid_column": null,
            "grid_gap": null,
            "grid_row": null,
            "grid_template_areas": null,
            "grid_template_columns": null,
            "grid_template_rows": null,
            "height": null,
            "justify_content": null,
            "justify_items": null,
            "left": null,
            "margin": null,
            "max_height": null,
            "max_width": null,
            "min_height": null,
            "min_width": null,
            "object_fit": null,
            "object_position": null,
            "order": null,
            "overflow": null,
            "overflow_x": null,
            "overflow_y": null,
            "padding": null,
            "right": null,
            "top": null,
            "visibility": null,
            "width": null
          }
        },
        "46c87607478f4152a9b47bd1a22316a5": {
          "model_module": "@jupyter-widgets/controls",
          "model_name": "DescriptionStyleModel",
          "model_module_version": "1.5.0",
          "state": {
            "_model_module": "@jupyter-widgets/controls",
            "_model_module_version": "1.5.0",
            "_model_name": "DescriptionStyleModel",
            "_view_count": null,
            "_view_module": "@jupyter-widgets/base",
            "_view_module_version": "1.2.0",
            "_view_name": "StyleView",
            "description_width": ""
          }
        },
        "f26492da0273416680b6885d458b46be": {
          "model_module": "@jupyter-widgets/base",
          "model_name": "LayoutModel",
          "model_module_version": "1.2.0",
          "state": {
            "_model_module": "@jupyter-widgets/base",
            "_model_module_version": "1.2.0",
            "_model_name": "LayoutModel",
            "_view_count": null,
            "_view_module": "@jupyter-widgets/base",
            "_view_module_version": "1.2.0",
            "_view_name": "LayoutView",
            "align_content": null,
            "align_items": null,
            "align_self": null,
            "border": null,
            "bottom": null,
            "display": null,
            "flex": null,
            "flex_flow": null,
            "grid_area": null,
            "grid_auto_columns": null,
            "grid_auto_flow": null,
            "grid_auto_rows": null,
            "grid_column": null,
            "grid_gap": null,
            "grid_row": null,
            "grid_template_areas": null,
            "grid_template_columns": null,
            "grid_template_rows": null,
            "height": null,
            "justify_content": null,
            "justify_items": null,
            "left": null,
            "margin": null,
            "max_height": null,
            "max_width": null,
            "min_height": null,
            "min_width": null,
            "object_fit": null,
            "object_position": null,
            "order": null,
            "overflow": null,
            "overflow_x": null,
            "overflow_y": null,
            "padding": null,
            "right": null,
            "top": null,
            "visibility": null,
            "width": null
          }
        },
        "b6c5b8edb38d4deb82de3fc81c154657": {
          "model_module": "@jupyter-widgets/controls",
          "model_name": "ProgressStyleModel",
          "model_module_version": "1.5.0",
          "state": {
            "_model_module": "@jupyter-widgets/controls",
            "_model_module_version": "1.5.0",
            "_model_name": "ProgressStyleModel",
            "_view_count": null,
            "_view_module": "@jupyter-widgets/base",
            "_view_module_version": "1.2.0",
            "_view_name": "StyleView",
            "bar_color": null,
            "description_width": ""
          }
        },
        "7bd2ae387b454dcd889983950a100af4": {
          "model_module": "@jupyter-widgets/base",
          "model_name": "LayoutModel",
          "model_module_version": "1.2.0",
          "state": {
            "_model_module": "@jupyter-widgets/base",
            "_model_module_version": "1.2.0",
            "_model_name": "LayoutModel",
            "_view_count": null,
            "_view_module": "@jupyter-widgets/base",
            "_view_module_version": "1.2.0",
            "_view_name": "LayoutView",
            "align_content": null,
            "align_items": null,
            "align_self": null,
            "border": null,
            "bottom": null,
            "display": null,
            "flex": null,
            "flex_flow": null,
            "grid_area": null,
            "grid_auto_columns": null,
            "grid_auto_flow": null,
            "grid_auto_rows": null,
            "grid_column": null,
            "grid_gap": null,
            "grid_row": null,
            "grid_template_areas": null,
            "grid_template_columns": null,
            "grid_template_rows": null,
            "height": null,
            "justify_content": null,
            "justify_items": null,
            "left": null,
            "margin": null,
            "max_height": null,
            "max_width": null,
            "min_height": null,
            "min_width": null,
            "object_fit": null,
            "object_position": null,
            "order": null,
            "overflow": null,
            "overflow_x": null,
            "overflow_y": null,
            "padding": null,
            "right": null,
            "top": null,
            "visibility": null,
            "width": null
          }
        },
        "1845423240d9461e899fca2a5380d11a": {
          "model_module": "@jupyter-widgets/controls",
          "model_name": "DescriptionStyleModel",
          "model_module_version": "1.5.0",
          "state": {
            "_model_module": "@jupyter-widgets/controls",
            "_model_module_version": "1.5.0",
            "_model_name": "DescriptionStyleModel",
            "_view_count": null,
            "_view_module": "@jupyter-widgets/base",
            "_view_module_version": "1.2.0",
            "_view_name": "StyleView",
            "description_width": ""
          }
        },
        "e902ea60f8234d14b48b9940f9afbc74": {
          "model_module": "@jupyter-widgets/controls",
          "model_name": "HBoxModel",
          "model_module_version": "1.5.0",
          "state": {
            "_dom_classes": [],
            "_model_module": "@jupyter-widgets/controls",
            "_model_module_version": "1.5.0",
            "_model_name": "HBoxModel",
            "_view_count": null,
            "_view_module": "@jupyter-widgets/controls",
            "_view_module_version": "1.5.0",
            "_view_name": "HBoxView",
            "box_style": "",
            "children": [
              "IPY_MODEL_85514a3c9af44fd9a8270fd561f409b8",
              "IPY_MODEL_a640cb94a759474fb54056ee35a86c63",
              "IPY_MODEL_6a68b9b013b44e66b79e81f77363b51e"
            ],
            "layout": "IPY_MODEL_67e16c6efe8d4c729a911ad3c2c06309"
          }
        },
        "85514a3c9af44fd9a8270fd561f409b8": {
          "model_module": "@jupyter-widgets/controls",
          "model_name": "HTMLModel",
          "model_module_version": "1.5.0",
          "state": {
            "_dom_classes": [],
            "_model_module": "@jupyter-widgets/controls",
            "_model_module_version": "1.5.0",
            "_model_name": "HTMLModel",
            "_view_count": null,
            "_view_module": "@jupyter-widgets/controls",
            "_view_module_version": "1.5.0",
            "_view_name": "HTMLView",
            "description": "",
            "description_tooltip": null,
            "layout": "IPY_MODEL_3e408f12977549a392a1565e4c116006",
            "placeholder": "​",
            "style": "IPY_MODEL_05eab4c0ee5341c5b311e4480c3987e9",
            "value": "100%"
          }
        },
        "a640cb94a759474fb54056ee35a86c63": {
          "model_module": "@jupyter-widgets/controls",
          "model_name": "FloatProgressModel",
          "model_module_version": "1.5.0",
          "state": {
            "_dom_classes": [],
            "_model_module": "@jupyter-widgets/controls",
            "_model_module_version": "1.5.0",
            "_model_name": "FloatProgressModel",
            "_view_count": null,
            "_view_module": "@jupyter-widgets/controls",
            "_view_module_version": "1.5.0",
            "_view_name": "ProgressView",
            "bar_style": "success",
            "description": "",
            "description_tooltip": null,
            "layout": "IPY_MODEL_1db8aeae67d04ffcb928754639129c05",
            "max": 553433881,
            "min": 0,
            "orientation": "horizontal",
            "style": "IPY_MODEL_038e5ed3464b42bc86d8e2bf3d84c783",
            "value": 553433881
          }
        },
        "6a68b9b013b44e66b79e81f77363b51e": {
          "model_module": "@jupyter-widgets/controls",
          "model_name": "HTMLModel",
          "model_module_version": "1.5.0",
          "state": {
            "_dom_classes": [],
            "_model_module": "@jupyter-widgets/controls",
            "_model_module_version": "1.5.0",
            "_model_name": "HTMLModel",
            "_view_count": null,
            "_view_module": "@jupyter-widgets/controls",
            "_view_module_version": "1.5.0",
            "_view_name": "HTMLView",
            "description": "",
            "description_tooltip": null,
            "layout": "IPY_MODEL_80c059e6c6224872b268b2d1cab624fe",
            "placeholder": "​",
            "style": "IPY_MODEL_3eb051288a864d5a8b029ea032d7282b",
            "value": " 528M/528M [00:02&lt;00:00, 223MB/s]"
          }
        },
        "67e16c6efe8d4c729a911ad3c2c06309": {
          "model_module": "@jupyter-widgets/base",
          "model_name": "LayoutModel",
          "model_module_version": "1.2.0",
          "state": {
            "_model_module": "@jupyter-widgets/base",
            "_model_module_version": "1.2.0",
            "_model_name": "LayoutModel",
            "_view_count": null,
            "_view_module": "@jupyter-widgets/base",
            "_view_module_version": "1.2.0",
            "_view_name": "LayoutView",
            "align_content": null,
            "align_items": null,
            "align_self": null,
            "border": null,
            "bottom": null,
            "display": null,
            "flex": null,
            "flex_flow": null,
            "grid_area": null,
            "grid_auto_columns": null,
            "grid_auto_flow": null,
            "grid_auto_rows": null,
            "grid_column": null,
            "grid_gap": null,
            "grid_row": null,
            "grid_template_areas": null,
            "grid_template_columns": null,
            "grid_template_rows": null,
            "height": null,
            "justify_content": null,
            "justify_items": null,
            "left": null,
            "margin": null,
            "max_height": null,
            "max_width": null,
            "min_height": null,
            "min_width": null,
            "object_fit": null,
            "object_position": null,
            "order": null,
            "overflow": null,
            "overflow_x": null,
            "overflow_y": null,
            "padding": null,
            "right": null,
            "top": null,
            "visibility": null,
            "width": null
          }
        },
        "3e408f12977549a392a1565e4c116006": {
          "model_module": "@jupyter-widgets/base",
          "model_name": "LayoutModel",
          "model_module_version": "1.2.0",
          "state": {
            "_model_module": "@jupyter-widgets/base",
            "_model_module_version": "1.2.0",
            "_model_name": "LayoutModel",
            "_view_count": null,
            "_view_module": "@jupyter-widgets/base",
            "_view_module_version": "1.2.0",
            "_view_name": "LayoutView",
            "align_content": null,
            "align_items": null,
            "align_self": null,
            "border": null,
            "bottom": null,
            "display": null,
            "flex": null,
            "flex_flow": null,
            "grid_area": null,
            "grid_auto_columns": null,
            "grid_auto_flow": null,
            "grid_auto_rows": null,
            "grid_column": null,
            "grid_gap": null,
            "grid_row": null,
            "grid_template_areas": null,
            "grid_template_columns": null,
            "grid_template_rows": null,
            "height": null,
            "justify_content": null,
            "justify_items": null,
            "left": null,
            "margin": null,
            "max_height": null,
            "max_width": null,
            "min_height": null,
            "min_width": null,
            "object_fit": null,
            "object_position": null,
            "order": null,
            "overflow": null,
            "overflow_x": null,
            "overflow_y": null,
            "padding": null,
            "right": null,
            "top": null,
            "visibility": null,
            "width": null
          }
        },
        "05eab4c0ee5341c5b311e4480c3987e9": {
          "model_module": "@jupyter-widgets/controls",
          "model_name": "DescriptionStyleModel",
          "model_module_version": "1.5.0",
          "state": {
            "_model_module": "@jupyter-widgets/controls",
            "_model_module_version": "1.5.0",
            "_model_name": "DescriptionStyleModel",
            "_view_count": null,
            "_view_module": "@jupyter-widgets/base",
            "_view_module_version": "1.2.0",
            "_view_name": "StyleView",
            "description_width": ""
          }
        },
        "1db8aeae67d04ffcb928754639129c05": {
          "model_module": "@jupyter-widgets/base",
          "model_name": "LayoutModel",
          "model_module_version": "1.2.0",
          "state": {
            "_model_module": "@jupyter-widgets/base",
            "_model_module_version": "1.2.0",
            "_model_name": "LayoutModel",
            "_view_count": null,
            "_view_module": "@jupyter-widgets/base",
            "_view_module_version": "1.2.0",
            "_view_name": "LayoutView",
            "align_content": null,
            "align_items": null,
            "align_self": null,
            "border": null,
            "bottom": null,
            "display": null,
            "flex": null,
            "flex_flow": null,
            "grid_area": null,
            "grid_auto_columns": null,
            "grid_auto_flow": null,
            "grid_auto_rows": null,
            "grid_column": null,
            "grid_gap": null,
            "grid_row": null,
            "grid_template_areas": null,
            "grid_template_columns": null,
            "grid_template_rows": null,
            "height": null,
            "justify_content": null,
            "justify_items": null,
            "left": null,
            "margin": null,
            "max_height": null,
            "max_width": null,
            "min_height": null,
            "min_width": null,
            "object_fit": null,
            "object_position": null,
            "order": null,
            "overflow": null,
            "overflow_x": null,
            "overflow_y": null,
            "padding": null,
            "right": null,
            "top": null,
            "visibility": null,
            "width": null
          }
        },
        "038e5ed3464b42bc86d8e2bf3d84c783": {
          "model_module": "@jupyter-widgets/controls",
          "model_name": "ProgressStyleModel",
          "model_module_version": "1.5.0",
          "state": {
            "_model_module": "@jupyter-widgets/controls",
            "_model_module_version": "1.5.0",
            "_model_name": "ProgressStyleModel",
            "_view_count": null,
            "_view_module": "@jupyter-widgets/base",
            "_view_module_version": "1.2.0",
            "_view_name": "StyleView",
            "bar_color": null,
            "description_width": ""
          }
        },
        "80c059e6c6224872b268b2d1cab624fe": {
          "model_module": "@jupyter-widgets/base",
          "model_name": "LayoutModel",
          "model_module_version": "1.2.0",
          "state": {
            "_model_module": "@jupyter-widgets/base",
            "_model_module_version": "1.2.0",
            "_model_name": "LayoutModel",
            "_view_count": null,
            "_view_module": "@jupyter-widgets/base",
            "_view_module_version": "1.2.0",
            "_view_name": "LayoutView",
            "align_content": null,
            "align_items": null,
            "align_self": null,
            "border": null,
            "bottom": null,
            "display": null,
            "flex": null,
            "flex_flow": null,
            "grid_area": null,
            "grid_auto_columns": null,
            "grid_auto_flow": null,
            "grid_auto_rows": null,
            "grid_column": null,
            "grid_gap": null,
            "grid_row": null,
            "grid_template_areas": null,
            "grid_template_columns": null,
            "grid_template_rows": null,
            "height": null,
            "justify_content": null,
            "justify_items": null,
            "left": null,
            "margin": null,
            "max_height": null,
            "max_width": null,
            "min_height": null,
            "min_width": null,
            "object_fit": null,
            "object_position": null,
            "order": null,
            "overflow": null,
            "overflow_x": null,
            "overflow_y": null,
            "padding": null,
            "right": null,
            "top": null,
            "visibility": null,
            "width": null
          }
        },
        "3eb051288a864d5a8b029ea032d7282b": {
          "model_module": "@jupyter-widgets/controls",
          "model_name": "DescriptionStyleModel",
          "model_module_version": "1.5.0",
          "state": {
            "_model_module": "@jupyter-widgets/controls",
            "_model_module_version": "1.5.0",
            "_model_name": "DescriptionStyleModel",
            "_view_count": null,
            "_view_module": "@jupyter-widgets/base",
            "_view_module_version": "1.2.0",
            "_view_name": "StyleView",
            "description_width": ""
          }
        }
      }
    },
    "gpuClass": "standard"
  },
  "cells": [
    {
      "cell_type": "markdown",
      "metadata": {
        "id": "qnRwKKN8rVOq"
      },
      "source": [
        "#Intro to PyTorch\n",
        "In this lab, we will introduce one of the most important deep learning frameworks: [PyTorch](https://pytorch.org/). We will go through the most basic concepts first, to finally see how we can use different datasets, write our own training and testing functions and some other important stuff. "
      ]
    },
    {
      "cell_type": "markdown",
      "metadata": {
        "id": "vRMLjqMMsW1o"
      },
      "source": [
        "##Tensors \n",
        "\n",
        "Tensors are a specialized data structure that are very similar to arrays and matrices. In PyTorch, we use tensors to encode the inputs and outputs of a model, as well as the model’s parameters.\n",
        "\n",
        "Tensors are similar to [NumPy’s](https://numpy.org/) ndarrays, except that tensors can run on GPUs or other hardware accelerators. Tensors \n",
        "are also optimized for automatic differentiation. If you are familiar with `ndarrays`, you’ll be right at home with the Tensor API. "
      ]
    },
    {
      "cell_type": "code",
      "metadata": {
        "id": "GgklG1BEqiqq"
      },
      "source": [
        "import torch\n",
        "import numpy as np"
      ],
      "execution_count": null,
      "outputs": []
    },
    {
      "cell_type": "markdown",
      "metadata": {
        "id": "CiwCHE01wev5"
      },
      "source": [
        "###Initializing a tensor\n",
        "Tensors can be initialized in various ways. Take a look at the following examples:\n",
        "\n",
        "**Directly from data**\n",
        "\n",
        "Tensors can be created directly from data. The data type is automatically inferred."
      ]
    },
    {
      "cell_type": "code",
      "metadata": {
        "id": "XutIch4mwuKA",
        "colab": {
          "base_uri": "https://localhost:8080/"
        },
        "outputId": "3fc56fb3-af21-40fc-ce21-925fef583a2a"
      },
      "source": [
        "data = [[1, 2],[3, 4]]\n",
        "x_data = torch.tensor(data)\n",
        "print(x_data)"
      ],
      "execution_count": null,
      "outputs": [
        {
          "output_type": "stream",
          "name": "stdout",
          "text": [
            "tensor([[1, 2],\n",
            "        [3, 4]])\n"
          ]
        }
      ]
    },
    {
      "cell_type": "markdown",
      "metadata": {
        "id": "Jc9I3wanxQVM"
      },
      "source": [
        "**From a NumPy array**\n",
        "\n",
        "Tensors can be created from NumPy arrays (and vice versa):"
      ]
    },
    {
      "cell_type": "code",
      "metadata": {
        "id": "bQDTS2HTxREt",
        "colab": {
          "base_uri": "https://localhost:8080/"
        },
        "outputId": "696dd2e8-e381-4a4a-ddc2-b9ab458841a8"
      },
      "source": [
        "np_array = np.array(data)\n",
        "x_np = torch.from_numpy(np_array)\n",
        "print(x_np)"
      ],
      "execution_count": null,
      "outputs": [
        {
          "output_type": "stream",
          "name": "stdout",
          "text": [
            "tensor([[1, 2],\n",
            "        [3, 4]])\n"
          ]
        }
      ]
    },
    {
      "cell_type": "markdown",
      "metadata": {
        "id": "HMD58FkbxWZz"
      },
      "source": [
        "**From another tensor:**\n",
        "\n",
        "The new tensor retains the properties (shape, datatype) of the argument tensor, unless explicitly overridden."
      ]
    },
    {
      "cell_type": "code",
      "metadata": {
        "id": "OfJsRzp1xZ7E",
        "colab": {
          "base_uri": "https://localhost:8080/"
        },
        "outputId": "c2bf8ea4-d353-4c8b-fd2e-d48b46c3eaea"
      },
      "source": [
        "x_ones = torch.ones_like(x_data) # retains the properties of x_data\n",
        "print(f\"Ones Tensor: \\n {x_ones} \\n\")\n",
        "\n",
        "x_rand = torch.rand_like(x_data, dtype=torch.float) # overrides the datatype of x_data\n",
        "print(f\"Random Tensor: \\n {x_rand} \\n\")"
      ],
      "execution_count": null,
      "outputs": [
        {
          "output_type": "stream",
          "name": "stdout",
          "text": [
            "Ones Tensor: \n",
            " tensor([[1, 1],\n",
            "        [1, 1]]) \n",
            "\n",
            "Random Tensor: \n",
            " tensor([[0.9598, 0.1413],\n",
            "        [0.4592, 0.4576]]) \n",
            "\n"
          ]
        }
      ]
    },
    {
      "cell_type": "markdown",
      "metadata": {
        "id": "05GgpFxYxduG"
      },
      "source": [
        "**With random or constant values:**\n",
        "\n",
        "``shape`` is a tuple of tensor dimensions. In the functions below, it determines the dimensionality of the output tensor."
      ]
    },
    {
      "cell_type": "code",
      "metadata": {
        "id": "0A0fwJhGxh-8",
        "colab": {
          "base_uri": "https://localhost:8080/"
        },
        "outputId": "68cf05cd-3576-414c-99a1-f2232c424b65"
      },
      "source": [
        "shape = (2,3)\n",
        "rand_tensor = torch.rand(shape)\n",
        "ones_tensor = torch.ones(shape)\n",
        "zeros_tensor = torch.zeros(shape)\n",
        "\n",
        "print(f\"Random Tensor: \\n {rand_tensor} \\n\")\n",
        "print(f\"Ones Tensor: \\n {ones_tensor} \\n\")\n",
        "print(f\"Zeros Tensor: \\n {zeros_tensor}\")"
      ],
      "execution_count": null,
      "outputs": [
        {
          "output_type": "stream",
          "name": "stdout",
          "text": [
            "Random Tensor: \n",
            " tensor([[0.2066, 0.9948, 0.2135],\n",
            "        [0.7486, 0.0617, 0.6366]]) \n",
            "\n",
            "Ones Tensor: \n",
            " tensor([[1., 1., 1.],\n",
            "        [1., 1., 1.]]) \n",
            "\n",
            "Zeros Tensor: \n",
            " tensor([[0., 0., 0.],\n",
            "        [0., 0., 0.]])\n"
          ]
        }
      ]
    },
    {
      "cell_type": "markdown",
      "metadata": {
        "id": "eUzoRPeCxlo_"
      },
      "source": [
        "###Attributes of a Tensor\n",
        "\n",
        "Tensor attributes describe their shape, datatype, and the device on which they are stored."
      ]
    },
    {
      "cell_type": "code",
      "metadata": {
        "id": "6TKkHgCTxrSw",
        "colab": {
          "base_uri": "https://localhost:8080/"
        },
        "outputId": "69cd164e-f269-4fc4-e5c9-36c2d558f78b"
      },
      "source": [
        "tensor = torch.rand(3,4)\n",
        "\n",
        "print(f\"Shape of tensor: {tensor.shape}\")\n",
        "print(f\"Datatype of tensor: {tensor.dtype}\")\n",
        "print(f\"Device tensor is stored on: {tensor.device}\")"
      ],
      "execution_count": null,
      "outputs": [
        {
          "output_type": "stream",
          "name": "stdout",
          "text": [
            "Shape of tensor: torch.Size([3, 4])\n",
            "Datatype of tensor: torch.float32\n",
            "Device tensor is stored on: cpu\n"
          ]
        }
      ]
    },
    {
      "cell_type": "markdown",
      "metadata": {
        "id": "2X1dsGdrx0wx"
      },
      "source": [
        "###Operations on Tensors\n",
        "\n",
        "Over 100 tensor operations, including arithmetic, linear algebra, matrix manipulation (transposing, \n",
        "indexing, slicing), sampling and more are\n",
        "comprehensively described [here](https://pytorch.org/docs/stable/torch.html).\n",
        "\n",
        "Each of these operations can be run on the GPU (at typically higher speeds than on a\n",
        "CPU). If you’re using Colab, allocate a GPU by going to Runtime > Change runtime type > GPU.\n",
        "\n",
        "**Note:** you may have to execute previous cells again (`import` cells specially), since changing the runtime restarts the runtime. \n",
        "\n",
        "By default, tensors are created on the CPU. We need to explicitly move tensors to the GPU using \n",
        "``.to`` method (after checking for GPU availability). Keep in mind that copying large tensors\n",
        "across devices can be expensive in terms of time and memory!"
      ]
    },
    {
      "cell_type": "code",
      "metadata": {
        "id": "8D42oqmsyBXl",
        "colab": {
          "base_uri": "https://localhost:8080/"
        },
        "outputId": "2c08f8b7-668d-495f-bc65-772512f36448"
      },
      "source": [
        "# We move our tensor to the GPU if available\n",
        "if torch.cuda.is_available():\n",
        "  tensor = tensor.to('cuda')\n",
        "\n",
        "print(f\"Shape of tensor: {tensor.shape}\")\n",
        "print(f\"Datatype of tensor: {tensor.dtype}\")\n",
        "print(f\"Device tensor is stored on: {tensor.device}\")"
      ],
      "execution_count": null,
      "outputs": [
        {
          "output_type": "stream",
          "name": "stdout",
          "text": [
            "Shape of tensor: torch.Size([3, 4])\n",
            "Datatype of tensor: torch.float32\n",
            "Device tensor is stored on: cuda:0\n"
          ]
        }
      ]
    },
    {
      "cell_type": "markdown",
      "metadata": {
        "id": "YjTE_qjHyELi"
      },
      "source": [
        "Try out some of the operations from the list.\n",
        "If you're familiar with the NumPy API, you'll find the Tensor API a breeze to use."
      ]
    },
    {
      "cell_type": "markdown",
      "metadata": {
        "id": "lr76WUZryGwe"
      },
      "source": [
        "**Standard numpy-like indexing and slicing:**"
      ]
    },
    {
      "cell_type": "code",
      "metadata": {
        "id": "qeObwNHByHam",
        "colab": {
          "base_uri": "https://localhost:8080/"
        },
        "outputId": "dcbdc57c-5620-4115-ca46-2ca5b7255707"
      },
      "source": [
        "tensor = torch.ones(4, 4)\n",
        "print('First row: ',tensor[0])\n",
        "print('First column: ', tensor[:, 0])\n",
        "print('Last column:', tensor[..., -1])\n",
        "tensor[:,1] = 0\n",
        "print(tensor)"
      ],
      "execution_count": null,
      "outputs": [
        {
          "output_type": "stream",
          "name": "stdout",
          "text": [
            "First row:  tensor([1., 1., 1., 1.])\n",
            "First column:  tensor([1., 1., 1., 1.])\n",
            "Last column: tensor([1., 1., 1., 1.])\n",
            "tensor([[1., 0., 1., 1.],\n",
            "        [1., 0., 1., 1.],\n",
            "        [1., 0., 1., 1.],\n",
            "        [1., 0., 1., 1.]])\n"
          ]
        }
      ]
    },
    {
      "cell_type": "markdown",
      "metadata": {
        "id": "GG82rlRnyMCA"
      },
      "source": [
        "**Joining tensors** You can use ``torch.cat`` to concatenate a sequence of tensors along a given dimension.\n",
        "See also [`torch.stack`](https://pytorch.org/docs/stable/generated/torch.stack.html),\n",
        "another tensor joining op that is subtly different from ``torch.cat``."
      ]
    },
    {
      "cell_type": "code",
      "metadata": {
        "id": "wC1nuD8AjjGa",
        "colab": {
          "base_uri": "https://localhost:8080/"
        },
        "outputId": "01463c1e-01e6-4334-8fce-137bd77e4349"
      },
      "source": [
        "t1 = torch.cat([tensor, tensor, tensor], dim=1)\n",
        "print(t1)"
      ],
      "execution_count": null,
      "outputs": [
        {
          "output_type": "stream",
          "name": "stdout",
          "text": [
            "tensor([[1., 0., 1., 1., 1., 0., 1., 1., 1., 0., 1., 1.],\n",
            "        [1., 0., 1., 1., 1., 0., 1., 1., 1., 0., 1., 1.],\n",
            "        [1., 0., 1., 1., 1., 0., 1., 1., 1., 0., 1., 1.],\n",
            "        [1., 0., 1., 1., 1., 0., 1., 1., 1., 0., 1., 1.]])\n"
          ]
        }
      ]
    },
    {
      "cell_type": "markdown",
      "metadata": {
        "id": "p9QHB9ch7aU1"
      },
      "source": [
        "A typical tensor joining operation is [`torch.vstack`](https://pytorch.org/docs/stable/generated/torch.vstack.html), which stacks tensors in sequence vertically, i.e. row wise."
      ]
    },
    {
      "cell_type": "code",
      "metadata": {
        "id": "nL6jVODL7_4b",
        "colab": {
          "base_uri": "https://localhost:8080/"
        },
        "outputId": "50aa2442-320f-487b-e8d2-0825f9502d2d"
      },
      "source": [
        "a = torch.tensor([1, 2, 3])\n",
        "b = torch.tensor([4, 5, 6])\n",
        "c = torch.vstack((a, b))\n",
        "print(f'c: \\n {c}')\n",
        "\n",
        "a = torch.tensor([[1],[2],[3]])\n",
        "b = torch.tensor([[4],[5],[6]])\n",
        "c = torch.vstack((a,b))\n",
        "print(f'c: \\n {c}')"
      ],
      "execution_count": null,
      "outputs": [
        {
          "output_type": "stream",
          "name": "stdout",
          "text": [
            "c: \n",
            " tensor([[1, 2, 3],\n",
            "        [4, 5, 6]])\n",
            "c: \n",
            " tensor([[1],\n",
            "        [2],\n",
            "        [3],\n",
            "        [4],\n",
            "        [5],\n",
            "        [6]])\n"
          ]
        }
      ]
    },
    {
      "cell_type": "markdown",
      "metadata": {
        "id": "9XH56hpajjt1"
      },
      "source": [
        "**Arithmetic operations**"
      ]
    },
    {
      "cell_type": "code",
      "metadata": {
        "id": "Kh1xs9zXjnj2",
        "colab": {
          "base_uri": "https://localhost:8080/"
        },
        "outputId": "f984e265-8ed3-4cbd-c33c-02cf07c24744"
      },
      "source": [
        "tensor = torch.ones(4, 4)\n",
        "# This computes the matrix multiplication between two tensors. y1, y2, y3 will have the same value\n",
        "y1 = tensor @ tensor.T\n",
        "y2 = tensor.matmul(tensor.T)\n",
        "\n",
        "y3 = torch.rand_like(tensor)\n",
        "torch.matmul(tensor, tensor.T, out=y3)\n",
        "\n",
        "print(f'y1: \\n {y1} \\n')\n",
        "print(f'y2: \\n {y2} \\n')\n",
        "print(f'y3: \\n {y3} \\n')\n",
        "\n",
        "\n",
        "# This computes the element-wise product. z1, z2, z3 will have the same value\n",
        "z1 = tensor * tensor\n",
        "z2 = tensor.mul(tensor)\n",
        "\n",
        "z3 = torch.rand_like(tensor)\n",
        "torch.mul(tensor, tensor, out=z3)\n",
        "\n",
        "print(f'z1: \\n {z1} \\n')\n",
        "print(f'z2: \\n {z2} \\n')\n",
        "print(f'z3: \\n {z3} \\n')"
      ],
      "execution_count": null,
      "outputs": [
        {
          "output_type": "stream",
          "name": "stdout",
          "text": [
            "y1: \n",
            " tensor([[4., 4., 4., 4.],\n",
            "        [4., 4., 4., 4.],\n",
            "        [4., 4., 4., 4.],\n",
            "        [4., 4., 4., 4.]]) \n",
            "\n",
            "y2: \n",
            " tensor([[4., 4., 4., 4.],\n",
            "        [4., 4., 4., 4.],\n",
            "        [4., 4., 4., 4.],\n",
            "        [4., 4., 4., 4.]]) \n",
            "\n",
            "y3: \n",
            " tensor([[4., 4., 4., 4.],\n",
            "        [4., 4., 4., 4.],\n",
            "        [4., 4., 4., 4.],\n",
            "        [4., 4., 4., 4.]]) \n",
            "\n",
            "z1: \n",
            " tensor([[1., 1., 1., 1.],\n",
            "        [1., 1., 1., 1.],\n",
            "        [1., 1., 1., 1.],\n",
            "        [1., 1., 1., 1.]]) \n",
            "\n",
            "z2: \n",
            " tensor([[1., 1., 1., 1.],\n",
            "        [1., 1., 1., 1.],\n",
            "        [1., 1., 1., 1.],\n",
            "        [1., 1., 1., 1.]]) \n",
            "\n",
            "z3: \n",
            " tensor([[1., 1., 1., 1.],\n",
            "        [1., 1., 1., 1.],\n",
            "        [1., 1., 1., 1.],\n",
            "        [1., 1., 1., 1.]]) \n",
            "\n"
          ]
        }
      ]
    },
    {
      "cell_type": "markdown",
      "metadata": {
        "id": "7KzJuwm1jtMG"
      },
      "source": [
        "**Single-element tensors** If you have a one-element tensor, for example by aggregating all\n",
        "values of a tensor into one value, you can convert it to a Python\n",
        "numerical value using ``item()``:"
      ]
    },
    {
      "cell_type": "code",
      "metadata": {
        "id": "VNiV0E10jx7e",
        "colab": {
          "base_uri": "https://localhost:8080/"
        },
        "outputId": "a876394e-b316-4665-e8ee-f57e4e9434e6"
      },
      "source": [
        "agg = tensor.sum()\n",
        "agg_item = agg.item()  \n",
        "print(agg_item, type(agg_item))"
      ],
      "execution_count": null,
      "outputs": [
        {
          "output_type": "stream",
          "name": "stdout",
          "text": [
            "16.0 <class 'float'>\n"
          ]
        }
      ]
    },
    {
      "cell_type": "markdown",
      "metadata": {
        "id": "pCIgpklF9KlE"
      },
      "source": [
        "**Reshaping operations** Tensors have a given shape, but we can change it if needed. Typical operations to reshape tensors are `torch.squeeze` and `torch.unsqueeze`. The first one returns a tensor with all the dimensions of input of size 1 removed (we use this operation in this tutorial when visualizing images). Let's see an example:"
      ]
    },
    {
      "cell_type": "code",
      "metadata": {
        "id": "isfoOYC29t7r",
        "colab": {
          "base_uri": "https://localhost:8080/"
        },
        "outputId": "cc62a8c9-82be-4ec4-ff38-d622771462f0"
      },
      "source": [
        "x = torch.zeros(2, 1, 2, 1, 2)\n",
        "print(f'Shape of x: {x.size()}')\n",
        "\n",
        "y = torch.squeeze(x)\n",
        "print(f'Shape of y: {y.size()}')\n",
        "\n",
        "y = torch.squeeze(x, 0) # We can specify a dimension to squeeze; if given, the input will be squeezed only in this dimension\n",
        "print(f'Shape of y after squeezing only dimension 0: {y.size()}')\n",
        "\n",
        "y = torch.squeeze(x, 1)\n",
        "print(f'Shape of y after squeezing only dimension 1: {y.size()}')"
      ],
      "execution_count": null,
      "outputs": [
        {
          "output_type": "stream",
          "name": "stdout",
          "text": [
            "Shape of x: torch.Size([2, 1, 2, 1, 2])\n",
            "Shape of y: torch.Size([2, 2, 2])\n",
            "Shape of y after squeezing only dimension 0: torch.Size([2, 1, 2, 1, 2])\n",
            "Shape of y after squeezing only dimension 1: torch.Size([2, 2, 1, 2])\n"
          ]
        }
      ]
    },
    {
      "cell_type": "markdown",
      "metadata": {
        "id": "I8LEJqRr-yGt"
      },
      "source": [
        "On the other hand, `torch.unsqueeze` returns a new tensor with a dimension of size one inserted at the specified position.\n",
        "\n"
      ]
    },
    {
      "cell_type": "code",
      "metadata": {
        "id": "6NHiV5sV-6pE",
        "colab": {
          "base_uri": "https://localhost:8080/"
        },
        "outputId": "4111bf3b-5020-435e-f58e-21e60dbde502"
      },
      "source": [
        "x = torch.tensor([1, 2, 3, 4])\n",
        "print(f'Shape of x: {x.size()}')\n",
        "y = torch.unsqueeze(x, 0)\n",
        "print(f'y= {y}')\n",
        "print(f'Shape of y (unsqueeze dimension 0): {y.size()}')\n",
        "\n",
        "y = torch.unsqueeze(x, 1)\n",
        "print(f'y= {y}')\n",
        "print(f'Shape of y (unsqueeze dimension 1): {y.size()}')"
      ],
      "execution_count": null,
      "outputs": [
        {
          "output_type": "stream",
          "name": "stdout",
          "text": [
            "Shape of x: torch.Size([4])\n",
            "y= tensor([[1, 2, 3, 4]])\n",
            "Shape of y (unsqueeze dimension 0): torch.Size([1, 4])\n",
            "y= tensor([[1],\n",
            "        [2],\n",
            "        [3],\n",
            "        [4]])\n",
            "Shape of y (unsqueeze dimension 1): torch.Size([4, 1])\n"
          ]
        }
      ]
    },
    {
      "cell_type": "markdown",
      "metadata": {
        "id": "O0R48RkoAHPf"
      },
      "source": [
        "**Broadcasting** Let's see some magic now:"
      ]
    },
    {
      "cell_type": "code",
      "metadata": {
        "id": "xyb7L0TKAbyB",
        "colab": {
          "base_uri": "https://localhost:8080/"
        },
        "outputId": "5ec5a1ef-53d2-4e75-f3eb-08a2f7df8a3e"
      },
      "source": [
        "a = torch.tensor([[1, 2, 3]])\n",
        "print(f'Shape of a: {a.size()}')\n",
        "b = torch.tensor([[4], [5], [6]])\n",
        "print(f'Shape of b: {b.size()}')\n",
        "\n",
        "c = a+b\n",
        "print(f'c: \\n {c}')"
      ],
      "execution_count": null,
      "outputs": [
        {
          "output_type": "stream",
          "name": "stdout",
          "text": [
            "Shape of a: torch.Size([1, 3])\n",
            "Shape of b: torch.Size([3, 1])\n",
            "c: \n",
            " tensor([[5, 6, 7],\n",
            "        [6, 7, 8],\n",
            "        [7, 8, 9]])\n"
          ]
        }
      ]
    },
    {
      "cell_type": "markdown",
      "metadata": {
        "id": "eBZmLcK3CBaz"
      },
      "source": [
        "Is that even possible? We added a tensor of shape (1, 3) to a tensor of shape (3, 1) and we obtained a tensor of shape (3, 3). How did Pytorch do such a thing? It is called **broadcasting** and allows performing arithmetic operations easily in certain conditions (Numpy also supports broadcasting in the same way). To know whether two tensors are broadcastable, we have to check the following rules for all dimensions:\n",
        "\n",
        "1.   Are they equal to each other? \n",
        "2.   Is one of them 1?\n",
        "\n",
        "So in our previous example, starting from the last dimension we have that: `a` tensor's last dimension is of size 3, whereas `b` tensor's last dimension is of size 1. Are they compatible? Yes! For the first dimension, we have sizes 3 and 1 respectively, so they are also compatible. As all the dimensions are compatible, `a` and `b` are broadcastable. The shape of a given arithmetic operation will be the maximum size of all dimensions, i.e. (3, 3).\n",
        "\n",
        "What Pytorch does under the hood is to broadcast each tensor to be of shape (3, 3) first. Thus, `a` tensor is converted to a new (3, 3) tensor such that:\n",
        "\n",
        "````\n",
        "Tensor\n",
        "[[1, 2, 3],\n",
        " [1, 2, 3],\n",
        " [1, 2, 3]]\n",
        "````\n",
        "Similarly, `b` is broadcasted:\n",
        "````\n",
        "Tensor\n",
        "[[4, 4, 4],\n",
        " [5, 5, 5],\n",
        " [6, 6, 6]]\n",
        "````\n",
        "Afterwards, the element-wise sum is calculated."
      ]
    },
    {
      "cell_type": "markdown",
      "metadata": {
        "id": "TvcMAOsFj1Xm"
      },
      "source": [
        "**In-place operations**\n",
        "Operations that store the result into the operand are called in-place. They are denoted by a ``_`` suffix. \n",
        "For example: ``x.copy_(y)``, ``x.t_()``, will change ``x``."
      ]
    },
    {
      "cell_type": "code",
      "metadata": {
        "id": "tmtdGVD7j-AX",
        "colab": {
          "base_uri": "https://localhost:8080/"
        },
        "outputId": "7fe94a2a-5898-451e-bd1e-a0e8e9a12cdf"
      },
      "source": [
        "print(tensor, \"\\n\")\n",
        "tensor.add_(5)\n",
        "print(tensor)"
      ],
      "execution_count": null,
      "outputs": [
        {
          "output_type": "stream",
          "name": "stdout",
          "text": [
            "tensor([[1., 1., 1., 1.],\n",
            "        [1., 1., 1., 1.],\n",
            "        [1., 1., 1., 1.],\n",
            "        [1., 1., 1., 1.]]) \n",
            "\n",
            "tensor([[6., 6., 6., 6.],\n",
            "        [6., 6., 6., 6.],\n",
            "        [6., 6., 6., 6.],\n",
            "        [6., 6., 6., 6.]])\n"
          ]
        }
      ]
    },
    {
      "cell_type": "markdown",
      "metadata": {
        "id": "JwkRZL_akDin"
      },
      "source": [
        "**Note**\n",
        "\n",
        "In-place operations save some memory, but can be problematic when computing derivatives because of an immediate loss of history. Hence, their use is discouraged."
      ]
    },
    {
      "cell_type": "markdown",
      "metadata": {
        "id": "xLyUo-GDkLb3"
      },
      "source": [
        "**Bridge with NumPy**\n",
        "\n",
        "Tensors on the CPU and NumPy arrays can share their underlying memory\n",
        "locations, and changing one will change\tthe other."
      ]
    },
    {
      "cell_type": "markdown",
      "metadata": {
        "id": "iLj2obv8kQnJ"
      },
      "source": [
        "Tensor to NumPy array"
      ]
    },
    {
      "cell_type": "code",
      "metadata": {
        "id": "MWmLhxOJkUfL",
        "colab": {
          "base_uri": "https://localhost:8080/"
        },
        "outputId": "33c1fe1d-b369-4d89-ada3-3707058b795b"
      },
      "source": [
        "t = torch.ones(5)\n",
        "print(f\"t: {t}\")\n",
        "n = t.numpy()\n",
        "print(f\"n: {n} type: {type(n)}\")"
      ],
      "execution_count": null,
      "outputs": [
        {
          "output_type": "stream",
          "name": "stdout",
          "text": [
            "t: tensor([1., 1., 1., 1., 1.])\n",
            "n: [1. 1. 1. 1. 1.] type: <class 'numpy.ndarray'>\n"
          ]
        }
      ]
    },
    {
      "cell_type": "markdown",
      "metadata": {
        "id": "zVMlKRjwkWNA"
      },
      "source": [
        "A change in the tensor reflects in the NumPy array."
      ]
    },
    {
      "cell_type": "code",
      "metadata": {
        "id": "z3U476ZCkXUw",
        "colab": {
          "base_uri": "https://localhost:8080/"
        },
        "outputId": "c0165cf7-311f-4997-a9fa-a5c14172d5ea"
      },
      "source": [
        "t.add_(1)\n",
        "print(f\"t: {t}\")\n",
        "print(f\"n: {n}\")"
      ],
      "execution_count": null,
      "outputs": [
        {
          "output_type": "stream",
          "name": "stdout",
          "text": [
            "t: tensor([2., 2., 2., 2., 2.])\n",
            "n: [2. 2. 2. 2. 2.]\n"
          ]
        }
      ]
    },
    {
      "cell_type": "markdown",
      "metadata": {
        "id": "IAasKjRrkbUX"
      },
      "source": [
        "NumPy array to Tensor"
      ]
    },
    {
      "cell_type": "code",
      "metadata": {
        "id": "DwsEWb0vkb8M"
      },
      "source": [
        "n = np.ones(5)\n",
        "t = torch.from_numpy(n)"
      ],
      "execution_count": null,
      "outputs": []
    },
    {
      "cell_type": "markdown",
      "metadata": {
        "id": "2uEQU5UqkgYA"
      },
      "source": [
        "Changes in the NumPy array reflects in the tensor."
      ]
    },
    {
      "cell_type": "code",
      "metadata": {
        "id": "x3TqXqOskiDF",
        "colab": {
          "base_uri": "https://localhost:8080/"
        },
        "outputId": "4eac3886-fb3a-4a6c-8a17-a66f5f636ec4"
      },
      "source": [
        "np.add(n, 1, out=n)\n",
        "print(f\"t: {t}\")\n",
        "print(f\"n: {n}\")"
      ],
      "execution_count": null,
      "outputs": [
        {
          "output_type": "stream",
          "name": "stdout",
          "text": [
            "t: tensor([2., 2., 2., 2., 2.], dtype=torch.float64)\n",
            "n: [2. 2. 2. 2. 2.]\n"
          ]
        }
      ]
    },
    {
      "cell_type": "markdown",
      "metadata": {
        "id": "DCFc0jPxnuOs"
      },
      "source": [
        "##Autograd\n",
        "When training neural networks, the most frequently used algorithm is\n",
        "**back propagation**. In this algorithm, parameters (model weights) are\n",
        "adjusted according to the **gradient** of the loss function with respect\n",
        "to the given parameter.\n",
        "\n",
        "To compute those gradients, PyTorch has a built-in differentiation engine\n",
        "called ``torch.autograd``. It supports automatic computation of gradient for any\n",
        "computational graph.\n",
        "\n",
        "Consider the simplest one-layer neural network, with input ``x``,\n",
        "parameters ``w`` and ``b``, and some loss function. It can be defined in\n",
        "PyTorch in the following manner:"
      ]
    },
    {
      "cell_type": "code",
      "metadata": {
        "id": "D22NjBnsoFx7"
      },
      "source": [
        "import torch\n",
        "\n",
        "x = torch.ones(5)  # input tensor\n",
        "y = torch.zeros(3)  # expected output\n",
        "w = torch.randn(5, 3, requires_grad=True)\n",
        "b = torch.randn(3, requires_grad=True)\n",
        "z = torch.matmul(x, w)+b\n",
        "loss = torch.nn.functional.binary_cross_entropy_with_logits(z, y)"
      ],
      "execution_count": null,
      "outputs": []
    },
    {
      "cell_type": "markdown",
      "metadata": {
        "id": "YLrRS0Hoo84Z"
      },
      "source": [
        "###Tensors, Functions and Computational graph\n",
        "\n",
        "This code defines the following **computational graph**:\n",
        "\n",
        "![image.png](data:image/png;base64,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)\n",
        "\n",
        "In this network, ``w`` and ``b`` are **parameters**, which we need to\n",
        "optimize. Thus, we need to be able to compute the gradients of loss\n",
        "function with respect to those variables. In order to do that, we set\n",
        "the ``requires_grad`` property of those tensors."
      ]
    },
    {
      "cell_type": "markdown",
      "metadata": {
        "id": "YBNYiVD3pleD"
      },
      "source": [
        "**Note**\n",
        "\n",
        "You can set the value of `requires_grad` when creating a tensor, or later by using `x.requires_grad_(True)` method."
      ]
    },
    {
      "cell_type": "markdown",
      "metadata": {
        "id": "5E1h17POpp-i"
      },
      "source": [
        "A function that we apply to tensors to construct a computational graph is\n",
        "in fact an object of class `Function`. This object knows how to\n",
        "compute the function in the *forward* direction, and also how to compute\n",
        "its derivative during the *backward propagation* step. A reference to\n",
        "the backward propagation function is stored in `grad_fn` property of a\n",
        "tensor. You can find more information of `Function` [in the\n",
        "documentation](https://pytorch.org/docs/stable/autograd.html#function)."
      ]
    },
    {
      "cell_type": "code",
      "metadata": {
        "id": "rC4voCHFpgqP",
        "colab": {
          "base_uri": "https://localhost:8080/"
        },
        "outputId": "efc16b27-b7f0-4a65-b254-64663b10e204"
      },
      "source": [
        "print('Gradient function for z =',z.grad_fn)\n",
        "print('Gradient function for loss =', loss.grad_fn)"
      ],
      "execution_count": null,
      "outputs": [
        {
          "output_type": "stream",
          "name": "stdout",
          "text": [
            "Gradient function for z = <AddBackward0 object at 0x7fc82c14b5d0>\n",
            "Gradient function for loss = <BinaryCrossEntropyWithLogitsBackward0 object at 0x7fc82c14be90>\n"
          ]
        }
      ]
    },
    {
      "cell_type": "markdown",
      "metadata": {
        "id": "ubCY1mxsrAz0"
      },
      "source": [
        "###Computing Gradients\n",
        "\n",
        "To optimize weights of parameters in the neural network, we need to\n",
        "compute the derivatives of our loss function with respect to parameters,\n",
        "namely, we need $\\frac{\\partial loss}{\\partial w}$ and\n",
        "$\\frac{\\partial loss}{\\partial b}$ under some fixed values of\n",
        "``x`` and ``y``. To compute those derivatives, we call\n",
        "``loss.backward()``, and then retrieve the values from ``w.grad`` and\n",
        "``b.grad``:"
      ]
    },
    {
      "cell_type": "code",
      "metadata": {
        "id": "nQTs1Od3rQ0b",
        "colab": {
          "base_uri": "https://localhost:8080/"
        },
        "outputId": "6c645386-64e5-44b9-a7dc-6cd68ee7bfc9"
      },
      "source": [
        "loss.backward()\n",
        "print(w.grad)\n",
        "print(b.grad)"
      ],
      "execution_count": null,
      "outputs": [
        {
          "output_type": "stream",
          "name": "stdout",
          "text": [
            "tensor([[0.3236, 0.0022, 0.3322],\n",
            "        [0.3236, 0.0022, 0.3322],\n",
            "        [0.3236, 0.0022, 0.3322],\n",
            "        [0.3236, 0.0022, 0.3322],\n",
            "        [0.3236, 0.0022, 0.3322]])\n",
            "tensor([0.3236, 0.0022, 0.3322])\n"
          ]
        }
      ]
    },
    {
      "cell_type": "markdown",
      "metadata": {
        "id": "X23W2OsArTzZ"
      },
      "source": [
        "**Note**\n",
        "\n",
        "We can only obtain the `grad` properties for the leaf nodes of the computational graph, which have `requires_grad` property set to `True`. For all other nodes in our graph, gradients will not be available.\n",
        "\n",
        "We can only perform gradient calculations using `backward` once on a given graph, for performance reasons. If we need to do several `backward` calls on the same graph, we need to pass `retain_graph=True` to the `backward` call."
      ]
    },
    {
      "cell_type": "markdown",
      "metadata": {
        "id": "YdSUN2r5rX9p"
      },
      "source": [
        "###Disabling Gradient Tracking\n",
        "\n",
        "By default, all tensors with ``requires_grad=True`` are tracking their\n",
        "computational history and support gradient computation. However, there\n",
        "are some cases when we do not need to do that, for example, when we have\n",
        "trained the model and just want to apply it to some input data, i.e. we\n",
        "only want to do *forward* computations through the network. We can stop\n",
        "tracking computations by surrounding our computation code with\n",
        "``torch.no_grad()`` block:"
      ]
    },
    {
      "cell_type": "code",
      "metadata": {
        "id": "jQQn0q12ra0Z",
        "colab": {
          "base_uri": "https://localhost:8080/"
        },
        "outputId": "7e88e49d-f428-4951-de34-b1a7ec15ddc6"
      },
      "source": [
        "z = torch.matmul(x, w)+b\n",
        "print(z.requires_grad)\n",
        "\n",
        "with torch.no_grad():\n",
        "    z = torch.matmul(x, w)+b\n",
        "print(z.requires_grad)"
      ],
      "execution_count": null,
      "outputs": [
        {
          "output_type": "stream",
          "name": "stdout",
          "text": [
            "True\n",
            "False\n"
          ]
        }
      ]
    },
    {
      "cell_type": "markdown",
      "metadata": {
        "id": "J1Hy5cAhrfLg"
      },
      "source": [
        "Another way to achieve the same result is to use the ``detach()`` method\n",
        "on the tensor:"
      ]
    },
    {
      "cell_type": "code",
      "metadata": {
        "id": "Sy-dh_1Jrh7i",
        "colab": {
          "base_uri": "https://localhost:8080/"
        },
        "outputId": "06fbbddb-dc7c-4ec1-9d9d-2f1f333a8ce7"
      },
      "source": [
        "z = torch.matmul(x, w)+b\n",
        "z_det = z.detach()\n",
        "print(z_det.requires_grad)"
      ],
      "execution_count": null,
      "outputs": [
        {
          "output_type": "stream",
          "name": "stdout",
          "text": [
            "False\n"
          ]
        }
      ]
    },
    {
      "cell_type": "markdown",
      "metadata": {
        "id": "ndZUGZAvshpU"
      },
      "source": [
        "There are reasons you might want to disable gradient tracking:\n",
        "  - To mark some parameters in your neural network as **frozen parameters**. This is a very common scenario for [finetuning a pretrained network](https://pytorch.org/tutorials/beginner/finetuning_torchvision_models_tutorial.html) (we will see this later in the course).  \n",
        "  - To **speed up computations** when you are only doing forward pass, because computations on tensors that do not track gradients would be more efficient."
      ]
    },
    {
      "cell_type": "markdown",
      "metadata": {
        "id": "hTjTrKrWskq4"
      },
      "source": [
        "###More on Computational Graphs\n",
        "\n",
        "Conceptually, autograd keeps a record of data (tensors) and all executed\n",
        "operations (along with the resulting new tensors) in a directed acyclic\n",
        "graph (DAG) consisting of [Function](https://pytorch.org/docs/stable/autograd.html#torch.autograd.Function) objects. In this DAG, leaves are the input tensors, roots are the output tensors. By tracing this graph from roots to leaves, you can automatically compute the gradients using the chain rule.\n",
        "\n",
        "In a forward pass, autograd does two things simultaneously:\n",
        "\n",
        "- run the requested operation to compute a resulting tensor\n",
        "- maintain the operation’s *gradient function* in the DAG.\n",
        "\n",
        "The backward pass kicks off when ``.backward()`` is called on the DAG\n",
        "root. ``autograd`` then:\n",
        "\n",
        "- computes the gradients from each ``.grad_fn``,\n",
        "- accumulates them in the respective tensor’s ``.grad`` attribute\n",
        "- using the chain rule, propagates all the way to the leaf tensors.\n",
        "\n",
        "**Note**\n",
        "\n",
        "**DAGs are dynamic in PyTorch**. An important thing to note is that the graph is recreated from scratch; after each ``.backward()`` call, autograd starts populating a new graph. This is exactly what allows you to use control flow statements in your model; you can change the shape, size and operations at every iteration if needed."
      ]
    },
    {
      "cell_type": "markdown",
      "metadata": {
        "id": "Ysz5K-QX1z26"
      },
      "source": [
        "##Datasets and Dataloaders\n",
        "Code for processing data samples can get messy and hard to maintain; we ideally want our dataset code\n",
        "to be decoupled from our model training code for better readability and modularity.\n",
        "PyTorch provides two data primitives: ``torch.utils.data.DataLoader`` and ``torch.utils.data.Dataset``\n",
        "that allow you to use pre-loaded datasets as well as your own data.\n",
        "``Dataset`` stores the samples and their corresponding labels, and ``DataLoader`` wraps an iterable around\n",
        "the ``Dataset`` to enable easy access to the samples.\n",
        "\n",
        "PyTorch domain libraries provide a number of pre-loaded datasets (such as FashionMNIST) that \n",
        "subclass ``torch.utils.data.Dataset`` and implement functions specific to the particular data.\n",
        "They can be used to prototype and benchmark your model. You can find them\n",
        "here: [Image Datasets](https://pytorch.org/vision/stable/datasets.html),\n",
        "[Text Datasets](https://pytorch.org/text/stable/datasets.html), and\n",
        "[Audio Datasets](https://pytorch.org/audio/stable/datasets.html)."
      ]
    },
    {
      "cell_type": "markdown",
      "metadata": {
        "id": "GlR9DDVw2ajZ"
      },
      "source": [
        "###Loading a Dataset\n",
        "\n",
        "Here is an example of how to load the [Fashion-MNIST](https://research.zalando.com/project/fashion_mnist/fashion_mnist/) dataset from TorchVision.\n",
        "Fashion-MNIST is a dataset of Zalando’s article images consisting of 60,000 training examples and 10,000 test examples.\n",
        "Each example comprises a $28 \\times 28$ grayscale image and an associated label from one of 10 classes.\n",
        "\n",
        "We load the [FashionMNIST Dataset](https://pytorch.org/vision/stable/datasets.html#fashion-mnist) with the following parameters:\n",
        " - ``root`` is the path where the train/test data is stored,\n",
        " - ``train`` specifies training or test dataset,\n",
        " - ``download=True`` downloads the data from the internet if it's not available at ``root``.\n",
        " - ``transform`` and ``target_transform`` specify the feature and label transformations"
      ]
    },
    {
      "cell_type": "code",
      "metadata": {
        "id": "-ab_8KM63AIy",
        "colab": {
          "base_uri": "https://localhost:8080/",
          "height": 423,
          "referenced_widgets": [
            "822555e932a343229bf3570372ac1d1c",
            "ef5f2d42dc654c9387b44b809d437654",
            "da10f33a2b244f33b6449a4350d68112",
            "b6af76ae6011467882883c3dba030ccb",
            "16c8d395be6247f5bb6842902e260467",
            "0728b813fc244a7dbdf1fc8dda47a0e1",
            "34d1f99076974b9fbec8fbdf9c5336fb",
            "f9e9b81965494cb8b8dfbd6a8ed919d1",
            "3d5d0eb884734ef0b6555ee1c46943de",
            "0af148bbf9b04f4cadee1d064d48b0ab",
            "4acaccb1f7324d09bd6c1f7da66d63b1",
            "49b1a722c8b84869aeb7815296a95549",
            "ea17429e1cc94b21bf8ca1f354db8ee4",
            "7d946a8644e54f5c8ef644e4e9729960",
            "2a39e470aa1545e99494d55f06561304",
            "7032ff3101304f269b936e039e7a0c90",
            "36560d5b724d4a54a7a4e34c4dea3eac",
            "0b4de0276f46479aa8d6595c79388977",
            "160b55b9c67a4e01a47e4c6d498284e3",
            "703f8a80668940d19406add24013cb9e",
            "e118076f389b4d68846c063bf5518515",
            "565dd0d00c06468bb1a08c835b4798a7",
            "27bc850465af4ddbbf191dbe7c3dc917",
            "b2680437f93a4468aa6c3170b7d52e88",
            "059c5908c58c43e4a218ab66c64dcf72",
            "c977d728052149c882750760b0565825",
            "ceb82736648d427384c982ba867c8a30",
            "35c97823e5a74c5d956972eff8aa0185",
            "9b630e35591e4e149bc163b4218b5874",
            "60bac7c3bb76473fa9a4d31a068c822d",
            "5f2e87ed5e6640f795e5fc3d51e1199a",
            "0086ac4e500e4328b49c6fbc68539e8e",
            "ec3267acec6043ce844e7e8fcd0f59b9",
            "e21db228b2a9442dbe9983ab512215ee",
            "28165e15fcc24b1b8cf0095e5acddc9a",
            "43c2fad052284e34860c10465bc938c0",
            "80cde7c9e3ce4d6ba024ca14c9821ce9",
            "a0b9a7f081b2456f9d8fa60ca2a4dd6a",
            "d21bb201b673400fa711f943f52bf9fe",
            "46c87607478f4152a9b47bd1a22316a5",
            "f26492da0273416680b6885d458b46be",
            "b6c5b8edb38d4deb82de3fc81c154657",
            "7bd2ae387b454dcd889983950a100af4",
            "1845423240d9461e899fca2a5380d11a"
          ]
        },
        "outputId": "ee92f1ca-2280-4f89-f412-f31ebb3ab720"
      },
      "source": [
        "import torch\n",
        "from torch.utils.data import Dataset\n",
        "from torchvision import datasets\n",
        "from torchvision.transforms import ToTensor\n",
        "import matplotlib.pyplot as plt\n",
        "\n",
        "\n",
        "training_data = datasets.FashionMNIST(\n",
        "    root=\"data\",\n",
        "    train=True,\n",
        "    download=True,\n",
        "    transform=ToTensor()\n",
        ")\n",
        "\n",
        "test_data = datasets.FashionMNIST(\n",
        "    root=\"data\",\n",
        "    train=False,\n",
        "    download=True,\n",
        "    transform=ToTensor()\n",
        ")"
      ],
      "execution_count": null,
      "outputs": [
        {
          "output_type": "stream",
          "name": "stdout",
          "text": [
            "Downloading http://fashion-mnist.s3-website.eu-central-1.amazonaws.com/train-images-idx3-ubyte.gz\n",
            "Downloading http://fashion-mnist.s3-website.eu-central-1.amazonaws.com/train-images-idx3-ubyte.gz to data/FashionMNIST/raw/train-images-idx3-ubyte.gz\n"
          ]
        },
        {
          "output_type": "display_data",
          "data": {
            "text/plain": [
              "  0%|          | 0/26421880 [00:00<?, ?it/s]"
            ],
            "application/vnd.jupyter.widget-view+json": {
              "version_major": 2,
              "version_minor": 0,
              "model_id": "822555e932a343229bf3570372ac1d1c"
            }
          },
          "metadata": {}
        },
        {
          "output_type": "stream",
          "name": "stdout",
          "text": [
            "Extracting data/FashionMNIST/raw/train-images-idx3-ubyte.gz to data/FashionMNIST/raw\n",
            "\n",
            "Downloading http://fashion-mnist.s3-website.eu-central-1.amazonaws.com/train-labels-idx1-ubyte.gz\n",
            "Downloading http://fashion-mnist.s3-website.eu-central-1.amazonaws.com/train-labels-idx1-ubyte.gz to data/FashionMNIST/raw/train-labels-idx1-ubyte.gz\n"
          ]
        },
        {
          "output_type": "display_data",
          "data": {
            "text/plain": [
              "  0%|          | 0/29515 [00:00<?, ?it/s]"
            ],
            "application/vnd.jupyter.widget-view+json": {
              "version_major": 2,
              "version_minor": 0,
              "model_id": "49b1a722c8b84869aeb7815296a95549"
            }
          },
          "metadata": {}
        },
        {
          "output_type": "stream",
          "name": "stdout",
          "text": [
            "Extracting data/FashionMNIST/raw/train-labels-idx1-ubyte.gz to data/FashionMNIST/raw\n",
            "\n",
            "Downloading http://fashion-mnist.s3-website.eu-central-1.amazonaws.com/t10k-images-idx3-ubyte.gz\n",
            "Downloading http://fashion-mnist.s3-website.eu-central-1.amazonaws.com/t10k-images-idx3-ubyte.gz to data/FashionMNIST/raw/t10k-images-idx3-ubyte.gz\n"
          ]
        },
        {
          "output_type": "display_data",
          "data": {
            "text/plain": [
              "  0%|          | 0/4422102 [00:00<?, ?it/s]"
            ],
            "application/vnd.jupyter.widget-view+json": {
              "version_major": 2,
              "version_minor": 0,
              "model_id": "27bc850465af4ddbbf191dbe7c3dc917"
            }
          },
          "metadata": {}
        },
        {
          "output_type": "stream",
          "name": "stdout",
          "text": [
            "Extracting data/FashionMNIST/raw/t10k-images-idx3-ubyte.gz to data/FashionMNIST/raw\n",
            "\n",
            "Downloading http://fashion-mnist.s3-website.eu-central-1.amazonaws.com/t10k-labels-idx1-ubyte.gz\n",
            "Downloading http://fashion-mnist.s3-website.eu-central-1.amazonaws.com/t10k-labels-idx1-ubyte.gz to data/FashionMNIST/raw/t10k-labels-idx1-ubyte.gz\n"
          ]
        },
        {
          "output_type": "display_data",
          "data": {
            "text/plain": [
              "  0%|          | 0/5148 [00:00<?, ?it/s]"
            ],
            "application/vnd.jupyter.widget-view+json": {
              "version_major": 2,
              "version_minor": 0,
              "model_id": "e21db228b2a9442dbe9983ab512215ee"
            }
          },
          "metadata": {}
        },
        {
          "output_type": "stream",
          "name": "stdout",
          "text": [
            "Extracting data/FashionMNIST/raw/t10k-labels-idx1-ubyte.gz to data/FashionMNIST/raw\n",
            "\n"
          ]
        }
      ]
    },
    {
      "cell_type": "markdown",
      "metadata": {
        "id": "d-OoTUVV3EGw"
      },
      "source": [
        "###Iterating and Visualizing the Dataset\n",
        "\n",
        "We can index `Datasets` manually like a list: `training_data[index]`. \n",
        "We use `matplotlib` to visualize some samples in our training data."
      ]
    },
    {
      "cell_type": "code",
      "metadata": {
        "id": "PY_O6XEn3PGj",
        "colab": {
          "base_uri": "https://localhost:8080/",
          "height": 482
        },
        "outputId": "948debfc-db9a-4e45-e5c8-e5b8a5b526a5"
      },
      "source": [
        "labels_map = {\n",
        "    0: \"T-Shirt\",\n",
        "    1: \"Trouser\",\n",
        "    2: \"Pullover\",\n",
        "    3: \"Dress\",\n",
        "    4: \"Coat\",\n",
        "    5: \"Sandal\",\n",
        "    6: \"Shirt\",\n",
        "    7: \"Sneaker\",\n",
        "    8: \"Bag\",\n",
        "    9: \"Ankle Boot\",\n",
        "}\n",
        "figure = plt.figure(figsize=(8, 8))\n",
        "cols, rows = 3, 3\n",
        "for i in range(1, cols * rows + 1):\n",
        "    sample_idx = torch.randint(len(training_data), size=(1,)).item()\n",
        "    img, label = training_data[sample_idx]\n",
        "    figure.add_subplot(rows, cols, i)\n",
        "    plt.title(labels_map[label])\n",
        "    plt.axis(\"off\")\n",
        "    plt.imshow(img.squeeze(), cmap=\"gray\")\n",
        "plt.show()"
      ],
      "execution_count": null,
      "outputs": [
        {
          "output_type": "display_data",
          "data": {
            "text/plain": [
              "<Figure size 576x576 with 9 Axes>"
            ],
            "image/png": "[encoded data removed]"
          },
          "metadata": {
            "needs_background": "light"
          }
        }
      ]
    },
    {
      "cell_type": "markdown",
      "metadata": {
        "id": "vfumlLN73cYB"
      },
      "source": [
        "###Creating a Custom Dataset for your files\n",
        "\n",
        "A custom Dataset class must implement three functions: `__init__`, `__len__`, and `__getitem__`. \n",
        "Take a look at this implementation; the FashionMNIST images are stored \n",
        "in a directory `img_dir`, and their labels are stored separately in a CSV file `annotations_file`. \n",
        "\n",
        "In the next sections, we'll break down what's happening in each of these functions."
      ]
    },
    {
      "cell_type": "code",
      "metadata": {
        "id": "sikPdHYu3maC"
      },
      "source": [
        "import os\n",
        "import pandas as pd\n",
        "from torchvision.io import read_image\n",
        "\n",
        "class CustomImageDataset(Dataset):\n",
        "    def __init__(self, annotations_file, img_dir, transform=None, target_transform=None):\n",
        "        self.img_labels = pd.read_csv(annotations_file)\n",
        "        self.img_dir = img_dir\n",
        "        self.transform = transform\n",
        "        self.target_transform = target_transform\n",
        "\n",
        "    def __len__(self):\n",
        "        return len(self.img_labels)\n",
        "\n",
        "    def __getitem__(self, idx):\n",
        "        img_path = os.path.join(self.img_dir, self.img_labels.iloc[idx, 0])\n",
        "        image = read_image(img_path)\n",
        "        label = self.img_labels.iloc[idx, 1]\n",
        "        if self.transform:\n",
        "            image = self.transform(image)\n",
        "        if self.target_transform:\n",
        "            label = self.target_transform(label)\n",
        "        return image, label"
      ],
      "execution_count": null,
      "outputs": []
    },
    {
      "cell_type": "markdown",
      "metadata": {
        "id": "Vn8FOzQ-3q5v"
      },
      "source": [
        "**`__init__`**\n",
        "\n",
        "The `__init__` function is run once when instantiating the `Dataset` object. We initialize the directory containing the images, the annotations file, and both transforms (covered in more detail in the next section). \n",
        "\n",
        "The `labels.csv` file looks like:\n",
        "\n",
        "    tshirt1.jpg, 0\n",
        "    tshirt2.jpg, 0\n",
        "    ......\n",
        "    ankleboot999.jpg, 9"
      ]
    },
    {
      "cell_type": "markdown",
      "metadata": {
        "id": "J3HRfDN34NFl"
      },
      "source": [
        "**`__len__`**\n",
        "\n",
        "The `__len__` function returns the number of samples in our dataset."
      ]
    },
    {
      "cell_type": "markdown",
      "metadata": {
        "id": "tlLnxIkM4WGo"
      },
      "source": [
        "**`__getitem__`**\n",
        "\n",
        "The `__getitem__` function loads and returns a sample from the dataset at the given index `idx`. \n",
        "Based on the index, it identifies the image's location on disk, converts that to a tensor using `read_image`, retrieves the corresponding label from the csv data in `self.img_labels`, calls the transform functions on them (if applicable), and returns the tensor image and corresponding label in a tuple."
      ]
    },
    {
      "cell_type": "markdown",
      "metadata": {
        "id": "IJECC__T4ltj"
      },
      "source": [
        "###Preparing your data for training with DataLoaders\n",
        "\n",
        "The `Dataset` retrieves our dataset's features and labels one sample at a time. While training a model, we typically want to \n",
        "pass samples in \"minibatches\", reshuffle the data at every epoch to reduce model overfitting, and use Python's `multiprocessing` to\n",
        "speed up data retrieval.\n",
        "\n",
        "`DataLoader` is an iterable that abstracts this complexity for us in an easy API."
      ]
    },
    {
      "cell_type": "code",
      "metadata": {
        "id": "mkrTi6-v4uSe"
      },
      "source": [
        "from torch.utils.data import DataLoader\n",
        "\n",
        "train_dataloader = DataLoader(training_data, batch_size=64, shuffle=True)\n",
        "test_dataloader = DataLoader(test_data, batch_size=64, shuffle=False) # You don't have to shuffle the test set. It's just for evaluation"
      ],
      "execution_count": null,
      "outputs": []
    },
    {
      "cell_type": "markdown",
      "metadata": {
        "id": "tOsOJfAs4yr3"
      },
      "source": [
        "###Iterate through the DataLoader\n",
        "\n",
        "We have loaded that dataset into the `Dataloader` and can iterate through the dataset as needed. Each iteration below returns a batch of `train_features` and `train_labels` (containing `batch_size=64` features and labels respectively).\n",
        "Because we specified `shuffle=True`, after we iterate over all batches the data is shuffled (for finer-grained control over the data loading order, take a look at [Samplers](https://pytorch.org/docs/stable/data.html#data-loading-order-and-sampler))."
      ]
    },
    {
      "cell_type": "code",
      "metadata": {
        "id": "ml2AKoI15E8Y",
        "colab": {
          "base_uri": "https://localhost:8080/",
          "height": 317
        },
        "outputId": "20d71669-4943-4e22-89d7-27791580ecdb"
      },
      "source": [
        "# Display image and label.\n",
        "train_features, train_labels = next(iter(train_dataloader))\n",
        "print(f\"Feature batch shape: {train_features.size()}\")\n",
        "print(f\"Labels batch shape: {train_labels.size()}\")\n",
        "img = train_features[0].squeeze()\n",
        "label = train_labels[0]\n",
        "plt.imshow(img, cmap=\"gray\")\n",
        "plt.show()\n",
        "print(f\"Label: {label}\")"
      ],
      "execution_count": null,
      "outputs": [
        {
          "output_type": "stream",
          "name": "stdout",
          "text": [
            "Feature batch shape: torch.Size([64, 1, 28, 28])\n",
            "Labels batch shape: torch.Size([64])\n"
          ]
        },
        {
          "output_type": "display_data",
          "data": {
            "text/plain": [
              "<Figure size 432x288 with 1 Axes>"
            ],
            "image/png": "[encoded data removed]"
          },
          "metadata": {
            "needs_background": "light"
          }
        },
        {
          "output_type": "stream",
          "name": "stdout",
          "text": [
            "Label: 5\n"
          ]
        }
      ]
    },
    {
      "cell_type": "markdown",
      "metadata": {
        "id": "CSiNbC705SLE"
      },
      "source": [
        "##Transforms\n",
        "Data does not always come in its final processed form that is required for \n",
        "training machine learning algorithms. We use **transforms** to perform some\n",
        "manipulation of the data and make it suitable for training.\n",
        "\n",
        "All TorchVision datasets have two parameters -`transform` to modify the features and `target_transform` to modify the labels - that accept callables containing the transformation logic. The [torchvision.transforms](https://pytorch.org/vision/stable/transforms.html) module offers several commonly-used transforms out of the box.\n",
        "\n",
        "The FashionMNIST features are in PIL Image format, and the labels are integers.\n",
        "For training, we need the features as normalized tensors, and the labels as one-hot encoded tensors. To make these transformations, we use `ToTensor` and `Lambda`."
      ]
    },
    {
      "cell_type": "code",
      "metadata": {
        "id": "MKAjeLbq5uHp"
      },
      "source": [
        "import torch\n",
        "from torchvision import datasets\n",
        "from torchvision.transforms import ToTensor, Lambda\n",
        "\n",
        "ds = datasets.FashionMNIST(\n",
        "    root=\"data\",\n",
        "    train=True,\n",
        "    download=True,\n",
        "    transform=ToTensor(),\n",
        "    target_transform=Lambda(lambda y: torch.zeros(10, dtype=torch.float).scatter_(0, torch.tensor(y), value=1))\n",
        ")"
      ],
      "execution_count": null,
      "outputs": []
    },
    {
      "cell_type": "markdown",
      "metadata": {
        "id": "ouhacGEV5xt1"
      },
      "source": [
        "###`ToTensor()`\n",
        "\n",
        "[ToTensor](https://pytorch.org/vision/stable/transforms.html#torchvision.transforms.ToTensor) converts a PIL image or NumPy `ndarray` into a `FloatTensor` and scales the image's pixel intensity values in the range $[0., 1.]$"
      ]
    },
    {
      "cell_type": "markdown",
      "metadata": {
        "id": "uzCqMp416Icv"
      },
      "source": [
        "###`Lambda Transforms`\n",
        "\n",
        "Lambda transforms apply any user-defined lambda function. Here, we define a function to turn the integer into a one-hot encoded tensor. It first creates a zero tensor of size 10 (the number of labels in our dataset) and calls \n",
        "[scatter_](https://pytorch.org/docs/stable/tensors.html#torch.Tensor.scatter_)  which assigns a `value=1` on the index as given by the label `y`."
      ]
    },
    {
      "cell_type": "markdown",
      "metadata": {
        "id": "70dcw_Wm7UPV"
      },
      "source": [
        "##Build your neural network\n",
        "Neural networks comprise of layers/modules that perform operations on data. \n",
        "The [torch.nn](https://pytorch.org/docs/stable/nn.html) namespace provides all the building blocks you need to build your own neural network. Every module in PyTorch subclasses the [nn.Module](https://pytorch.org/docs/stable/generated/torch.nn.Module.html). A neural network is a module itself that consists of other modules (layers). This nested structure allows for building and managing complex architectures easily.\n",
        "\n",
        "In the following sections, we'll build a neural network to classify images in the FashionMNIST dataset."
      ]
    },
    {
      "cell_type": "code",
      "metadata": {
        "id": "CcBSp5J57vfo"
      },
      "source": [
        "import os\n",
        "import torch\n",
        "from torch import nn\n",
        "from torch.utils.data import DataLoader\n",
        "from torchvision import datasets, transforms"
      ],
      "execution_count": null,
      "outputs": []
    },
    {
      "cell_type": "markdown",
      "metadata": {
        "id": "PcPNNiU57xyQ"
      },
      "source": [
        "###Get Device for Training\n",
        "\n",
        "We want to be able to train our model on a hardware accelerator like the GPU, \n",
        "if it is available. Let's check to see if [torch.cuda](https://pytorch.org/docs/stable/notes/cuda.html) is available, else we continue to use the CPU."
      ]
    },
    {
      "cell_type": "code",
      "metadata": {
        "id": "8P9HTRI27_90",
        "colab": {
          "base_uri": "https://localhost:8080/"
        },
        "outputId": "605dfe48-bcd4-4fb0-e9e8-56de20eabbe1"
      },
      "source": [
        "device = 'cuda' if torch.cuda.is_available() else 'cpu'\n",
        "print('Using {} device'.format(device))"
      ],
      "execution_count": null,
      "outputs": [
        {
          "output_type": "stream",
          "name": "stdout",
          "text": [
            "Using cuda device\n"
          ]
        }
      ]
    },
    {
      "cell_type": "markdown",
      "metadata": {
        "id": "tVgTKDTy8EyL"
      },
      "source": [
        "###Define a layer\n",
        "One of the nice things of PyTorch is that we can define our own layers and architectures following the `nn.Module` API. We only have to specify the behaviour for the forward pass, since the backward pass is automatically calculated by `torch.autograd`.\n",
        "\n",
        "Let's define our own linear layer to build a multi-layer perceptron.\n",
        "\n",
        "**EXERCISE:** Implement the initialization of a linear layer following the He or Kaiming initialization approach (see slides). Hint: use `torch.randn` to generate a random tensor from a normal distribution $N(0, 1)$. Initialize the bias as a vector of zeros.\n",
        "\n",
        "**EXERCISE:** Implement the forward pass of a linear layer. Remember $z = W x + b$, where $W$ is the weight matrix, $x$ the input and $b$ the bias vector of the layer."
      ]
    },
    {
      "cell_type": "code",
      "metadata": {
        "id": "AVhGZYHH8miN"
      },
      "source": [
        "import math\n",
        "class MyLinearLayer(nn.Module):\n",
        "    \"\"\" Custom Linear layer \"\"\"\n",
        "    def __init__(self, size_in, size_out):\n",
        "        # NOTE: This is the constructor of the class, so it will be executed only once.\n",
        "        # We declare our variables here and initialize the parameters of the layer\n",
        "        super().__init__()\n",
        "        self.size_in, self.size_out = size_in, size_out        \n",
        "        \n",
        "        # Implement He or Kaiming initialization for weights; init bias with zeros\n",
        "        weights = torch.from_numpy(np.random.randn(self.size_out, self.size_in)*np.sqrt(2/self.size_in))\n",
        "        bias = torch.zeros(size_out)\n",
        "\n",
        "        self.weights = nn.Parameter(weights)\n",
        "        self.bias = nn.Parameter(bias)\n",
        "        \n",
        "\n",
        "    def forward(self, x):\n",
        "      # NOTE: This is the function we will call in each forward pass of neural network\n",
        "      # We will implement here the transfer function of a linear layer\n",
        "      z = torch.matmul(x, self.weights)+self.bias\n",
        "      #z = nn.Parameter(z)\n",
        "\n",
        "      return z"
      ],
      "execution_count": null,
      "outputs": []
    },
    {
      "cell_type": "markdown",
      "metadata": {
        "id": "zKOIVZe0T8BS"
      },
      "source": [
        "As can be seen, we use `nn.Parameter()` for the weights and biases of our linear layer. This is very important. Parameters are Tensor subclasses, that have a very special property when used with `Module` s - when they’re assigned as Module attributes they are automatically added to the list of its parameters, and will appear e.g. in `parameters()` iterator. Assigning a Tensor doesn’t have such effect. This is because one might want to cache some temporary state in the model. If there was no such class as `Parameter`, these temporaries would get registered too."
      ]
    },
    {
      "cell_type": "markdown",
      "metadata": {
        "id": "15JIeWxZELJ-"
      },
      "source": [
        "We will also define our own ReLU activation function.\n",
        "\n",
        "**EXERCISE:** Implement the forward pass of a ReLU activation function. Remember $a = max\\{0, x\\}$, where $x$ is the input tensor. Hint: have a look at `torch.clamp()` function."
      ]
    },
    {
      "cell_type": "code",
      "metadata": {
        "id": "pMCxRuKbEQ9T"
      },
      "source": [
        "class MyRelu(nn.Module):\n",
        "  \"\"\" Custom Relu activation function\"\"\"\n",
        "  def __init__(self):\n",
        "    super().__init__()\n",
        "  \n",
        "  def forward(self, x):    \n",
        "    a = torch.clamp(x, min=0, max=None)\n",
        "    #a = nn.Parameter(a)\n",
        "\n",
        "    #return x.clamp(min=0)\n",
        "    return a\n"
      ],
      "execution_count": null,
      "outputs": []
    },
    {
      "cell_type": "markdown",
      "metadata": {
        "id": "2CO9Jrne83Ah"
      },
      "source": [
        "We define our neural network by subclassing again `nn.Module`, and initialize the neural network layers in `__init__`. Every `nn.Module` subclass implements the operations on input data in the `forward` method. "
      ]
    },
    {
      "cell_type": "code",
      "metadata": {
        "id": "Ow2vzwcx8_Eu"
      },
      "source": [
        "class MyMLP(nn.Module):\n",
        "    def __init__(self):\n",
        "        super(MyMLP, self).__init__()\n",
        "        self.flatten = nn.Flatten()\n",
        "        self.linear_relu_stack = nn.Sequential(\n",
        "            MyLinearLayer(28*28, 512),\n",
        "            MyRelu(),\n",
        "            MyLinearLayer(512, 512),\n",
        "            MyRelu(),\n",
        "            MyLinearLayer(512, 10),\n",
        "            MyRelu()\n",
        "        )\n",
        "\n",
        "    def forward(self, x):\n",
        "        x = self.flatten(x)\n",
        "        logits = self.linear_relu_stack(x)\n",
        "        return logits"
      ],
      "execution_count": null,
      "outputs": []
    },
    {
      "cell_type": "markdown",
      "metadata": {
        "id": "6yzk3tIM9R9_"
      },
      "source": [
        "We create an instance of `MyMLP`, and move it to the `device`, and print its structure."
      ]
    },
    {
      "cell_type": "code",
      "metadata": {
        "id": "nXAXOlVb9bOn",
        "colab": {
          "base_uri": "https://localhost:8080/"
        },
        "outputId": "b02cf8f4-0b5b-4229-f1ec-348b50c74f4a"
      },
      "source": [
        "model = MyMLP().to(device)\n",
        "print(model)"
      ],
      "execution_count": null,
      "outputs": [
        {
          "output_type": "stream",
          "name": "stdout",
          "text": [
            "MyMLP(\n",
            "  (flatten): Flatten(start_dim=1, end_dim=-1)\n",
            "  (linear_relu_stack): Sequential(\n",
            "    (0): MyLinearLayer()\n",
            "    (1): MyRelu()\n",
            "    (2): MyLinearLayer()\n",
            "    (3): MyRelu()\n",
            "    (4): MyLinearLayer()\n",
            "    (5): MyRelu()\n",
            "  )\n",
            ")\n"
          ]
        }
      ]
    },
    {
      "cell_type": "markdown",
      "metadata": {
        "id": "IEJzr6PP92Yx"
      },
      "source": [
        "To use the model, we pass it the input data. This executes the model's `forward`, along with some [background operations](https://github.com/pytorch/pytorch/blob/270111b7b611d174967ed204776985cefca9c144/torch/nn/modules/module.py#L866). Do not call `model.forward()` directly!\n",
        "\n",
        "Calling the model on the input returns a 10-dimensional tensor with raw predicted values for each class (logits). We get the prediction probabilities by passing it through an instance of the `nn.Softmax` module."
      ]
    },
    {
      "cell_type": "code",
      "metadata": {
        "id": "GP59pMgJ-I6F"
      },
      "source": [
        "X = torch.rand(1, 28, 28, device=device)\n",
        "logits = model(X) \n",
        "pred_probab = nn.Softmax(dim=1)(logits)\n",
        "y_pred = pred_probab.argmax(1)\n",
        "print(f\"Predicted class: {y_pred}\")"
      ],
      "execution_count": null,
      "outputs": []
    },
    {
      "cell_type": "markdown",
      "metadata": {
        "id": "qliuKp3K-Q-G"
      },
      "source": [
        "###Model Layers\n",
        "\n",
        "Let's break down the layers in the FashionMNIST model. To illustrate it, we \n",
        "will take a sample minibatch of 3 images of size $28 \\times 28$ and see what happens to it as we pass it through the network. "
      ]
    },
    {
      "cell_type": "code",
      "metadata": {
        "id": "2iQ-oLb1-Wms",
        "colab": {
          "base_uri": "https://localhost:8080/"
        },
        "outputId": "4851b07b-5e99-4e6c-a6cf-d341724a8772"
      },
      "source": [
        "input_image = torch.rand(3,28,28)\n",
        "print(input_image.size())"
      ],
      "execution_count": null,
      "outputs": [
        {
          "output_type": "stream",
          "name": "stdout",
          "text": [
            "torch.Size([3, 28, 28])\n"
          ]
        }
      ]
    },
    {
      "cell_type": "markdown",
      "metadata": {
        "id": "mBhL9TCA-aMB"
      },
      "source": [
        "`nn.Flatten`\n",
        "\n",
        "We initialize the [nn.Flatten](https://pytorch.org/docs/stable/generated/torch.nn.Flatten.html) layer to convert each 2D $28 \\times 28$ image into a contiguous array of 784 pixel values (the minibatch dimension (at dim=0) is maintained)."
      ]
    },
    {
      "cell_type": "code",
      "metadata": {
        "id": "yfi4p4dC-mPz",
        "colab": {
          "base_uri": "https://localhost:8080/"
        },
        "outputId": "63f5161f-b9fb-483b-b69b-f4755302c795"
      },
      "source": [
        "flatten = nn.Flatten()\n",
        "flat_image = flatten(input_image)\n",
        "print(flat_image.size())"
      ],
      "execution_count": null,
      "outputs": [
        {
          "output_type": "stream",
          "name": "stdout",
          "text": [
            "torch.Size([3, 784])\n"
          ]
        }
      ]
    },
    {
      "cell_type": "markdown",
      "metadata": {
        "id": "mBOMi2t--pi4"
      },
      "source": [
        "`MyLinearLayer` \n",
        "\n",
        "The `MyLinearLayer` is a module that applies a linear transformation on the input using its stored weights and biases."
      ]
    },
    {
      "cell_type": "code",
      "metadata": {
        "id": "N-1P9pim-z53"
      },
      "source": [
        "layer1 = MyLinearLayer(size_in=28*28, size_out=20)\n",
        "hidden1 = layer1(flat_image)\n",
        "print(hidden1.size())"
      ],
      "execution_count": null,
      "outputs": []
    },
    {
      "cell_type": "markdown",
      "metadata": {
        "id": "gosLa4ty_hxM"
      },
      "source": [
        "`MyRelu`\n",
        "\n",
        "Non-linear activations are what create the complex mappings between the model's inputs and outputs. They are applied after linear transformations to introduce *nonlinearity*, helping neural networks learn a wide variety of phenomena."
      ]
    },
    {
      "cell_type": "code",
      "metadata": {
        "id": "WUveUB7y_xIi"
      },
      "source": [
        "print(f\"Before ReLU: {hidden1}\\n\\n\")\n",
        "hidden1 = MyRelu()(hidden1)\n",
        "print(f\"After ReLU: {hidden1}\")"
      ],
      "execution_count": null,
      "outputs": []
    },
    {
      "cell_type": "markdown",
      "metadata": {
        "id": "Id2My8hI_3KP"
      },
      "source": [
        "`nn.Sequential`\n",
        "\n",
        "[nn.Sequential](https://pytorch.org/docs/stable/generated/torch.nn.Sequential.html) is an ordered container of modules. The data is passed through all the modules in the same order as defined. You can use sequential containers to put together a quick network like `seq_modules`."
      ]
    },
    {
      "cell_type": "code",
      "metadata": {
        "id": "BmQC1Qm-AC_J"
      },
      "source": [
        "seq_modules = nn.Sequential(\n",
        "    flatten,\n",
        "    layer1,\n",
        "    MyRelu(),\n",
        "    MyLinearLayer(20, 10)\n",
        ")\n",
        "input_image = torch.rand(3,28,28)\n",
        "logits = seq_modules(input_image)\n",
        "print(f'logits: {logits}')"
      ],
      "execution_count": null,
      "outputs": []
    },
    {
      "cell_type": "markdown",
      "metadata": {
        "id": "2o_3_l0fAGYC"
      },
      "source": [
        "`nn.Softmax`\n",
        "\n",
        "The last linear layer of the neural network returns `logits` - raw values in $[-\\infty, \\infty]$ - which are passed to the [nn.Softmax](https://pytorch.org/docs/stable/generated/torch.nn.Softmax.html) module. The logits are scaled to values $[0, 1]$ representing the model's predicted probabilities for each class. `dim` parameter indicates the dimension along \n",
        "which the values must sum to 1. "
      ]
    },
    {
      "cell_type": "code",
      "metadata": {
        "id": "XOwrtlVJAZpa"
      },
      "source": [
        "softmax = nn.Softmax(dim=1)\n",
        "pred_probab = softmax(logits)\n",
        "print(f'pred_probab: {pred_probab}')"
      ],
      "execution_count": null,
      "outputs": []
    },
    {
      "cell_type": "markdown",
      "metadata": {
        "id": "-hKaoR-eAdXR"
      },
      "source": [
        "###Model Parameters\n",
        "\n",
        "Many layers inside a neural network are *parameterized*, i.e. have associated weights and biases that are optimized during training. Subclassing `nn.Module` automatically tracks all fields defined inside your model object, and makes all parameters accessible using your model's `parameters()` or `named_parameters()` methods. \n",
        "\n",
        "In this example, we iterate over each parameter, and print its size and a preview of its values. "
      ]
    },
    {
      "cell_type": "code",
      "metadata": {
        "id": "ntzEHFuRAmEa",
        "colab": {
          "base_uri": "https://localhost:8080/"
        },
        "outputId": "8d29e88b-f06d-44c4-f87f-c18ad56f3db4"
      },
      "source": [
        "print(\"Model structure: \", model, \"\\n\\n\")\n",
        "\n",
        "for name, param in model.named_parameters():\n",
        "    print(f\"Layer: {name} | Size: {param.size()} | Values : {param[:2]} \\n\")"
      ],
      "execution_count": null,
      "outputs": [
        {
          "output_type": "stream",
          "name": "stdout",
          "text": [
            "Model structure:  MyMLP(\n",
            "  (flatten): Flatten(start_dim=1, end_dim=-1)\n",
            "  (linear_relu_stack): Sequential(\n",
            "    (0): MyLinearLayer()\n",
            "    (1): MyRelu()\n",
            "    (2): MyLinearLayer()\n",
            "    (3): MyRelu()\n",
            "    (4): MyLinearLayer()\n",
            "    (5): MyRelu()\n",
            "  )\n",
            ") \n",
            "\n",
            "\n",
            "Layer: linear_relu_stack.0.weights | Size: torch.Size([512, 784]) | Values : tensor([[-0.0285,  0.0832,  0.0252,  ..., -0.0067,  0.0770,  0.0240],\n",
            "        [-0.0411,  0.0054,  0.0142,  ..., -0.0380,  0.0161,  0.1225]],\n",
            "       device='cuda:0', dtype=torch.float64, grad_fn=<SliceBackward0>) \n",
            "\n",
            "Layer: linear_relu_stack.0.bias | Size: torch.Size([512]) | Values : tensor([0., 0.], device='cuda:0', grad_fn=<SliceBackward0>) \n",
            "\n",
            "Layer: linear_relu_stack.2.weights | Size: torch.Size([512, 512]) | Values : tensor([[ 0.0081, -0.0793, -0.0128,  ..., -0.0217,  0.0248,  0.1695],\n",
            "        [-0.0315, -0.0953,  0.1078,  ...,  0.0658,  0.0129, -0.0330]],\n",
            "       device='cuda:0', dtype=torch.float64, grad_fn=<SliceBackward0>) \n",
            "\n",
            "Layer: linear_relu_stack.2.bias | Size: torch.Size([512]) | Values : tensor([0., 0.], device='cuda:0', grad_fn=<SliceBackward0>) \n",
            "\n",
            "Layer: linear_relu_stack.4.weights | Size: torch.Size([10, 512]) | Values : tensor([[-0.0071, -0.0391,  0.0430,  ..., -0.0063,  0.0283, -0.1227],\n",
            "        [ 0.0101,  0.0953, -0.0495,  ..., -0.1194, -0.0278,  0.0522]],\n",
            "       device='cuda:0', dtype=torch.float64, grad_fn=<SliceBackward0>) \n",
            "\n",
            "Layer: linear_relu_stack.4.bias | Size: torch.Size([10]) | Values : tensor([0., 0.], device='cuda:0', grad_fn=<SliceBackward0>) \n",
            "\n"
          ]
        }
      ]
    },
    {
      "cell_type": "markdown",
      "metadata": {
        "id": "JsLEGaDcJEvT"
      },
      "source": [
        "##Training and evaluating the neural network\n",
        "Now that we have a model and data it's time to train, validate and test our model by optimizing its parameters on our data. Training a model is an iterative process; in each iteration the model makes a guess about the output, calculates the error in its guess (*loss*), collects the derivatives of the error with respect to its parameters, and **optimizes** these parameters using gradient descent."
      ]
    },
    {
      "cell_type": "code",
      "metadata": {
        "id": "J9CKvCvlJcfK"
      },
      "source": [
        "import torch\n",
        "from torch import nn\n",
        "from torch.utils.data import DataLoader\n",
        "from torchvision import datasets\n",
        "from torchvision.transforms import ToTensor, Lambda\n",
        "\n",
        "# For reproducibility, see note below\n",
        "torch.manual_seed(0)\n",
        "\n",
        "training_data = datasets.FashionMNIST(\n",
        "    root=\"data\",\n",
        "    train=True,\n",
        "    download=True,\n",
        "    transform=ToTensor()\n",
        ")\n",
        "\n",
        "test_data = datasets.FashionMNIST(\n",
        "    root=\"data\",\n",
        "    train=False,\n",
        "    download=True,\n",
        "    transform=ToTensor()\n",
        ")\n",
        "\n",
        "train_dataloader = DataLoader(training_data, batch_size=64, shuffle=True)\n",
        "test_dataloader = DataLoader(test_data, batch_size=64, shuffle=True)\n",
        "\n",
        "model = MyMLP()"
      ],
      "execution_count": null,
      "outputs": []
    },
    {
      "cell_type": "markdown",
      "metadata": {
        "id": "Gvr4TAanngTo"
      },
      "source": [
        "**Note on reproducibility:**\n",
        "\n",
        "There are several random factors involved in the training process of a neural network, such as weight initialization, mini-batch creation, regularization techniques (not used here)... this makes training not reproducible in general. For those reasons, it is common to fix a seed for the random number generator functions. In this case, we only fix the torch seed, but you may need to fix more seeds (click [here](https://pytorch.org/docs/stable/notes/randomness.html) for more detailed explanations). \n",
        "\n",
        "This specific set-up has a huge variability due to randomness. You can comment out the line `torch.manual_seed(0)` and run this cell and the following ones to execute the experiment again. If you do so various times, you will see very different results. In our experiments, we have observed test accuracies between 50 and 80%, with the same model and hyperparameters. You should be able to justify those performance differences, so the question for you is: **why are we obtaining such differences among different executions when the model and the hyperparameters are always the same?**"
      ]
    },
    {
      "cell_type": "markdown",
      "metadata": {
        "id": "b-M1ThLyJoPm"
      },
      "source": [
        "###Hyperparameters \n",
        "\n",
        "Hyperparameters are adjustable parameters that let you control the model optimization process. Different hyperparameter values can impact model training and convergence rates.\n",
        "\n",
        "We define the following hyperparameters for training:\n",
        " - **Number of Epochs** - the number times to iterate over the dataset\n",
        " - **Batch Size** - the number of data samples propagated through the network before the parameters are updated\n",
        " - **Learning Rate** - how much to update models parameters at each batch/epoch. Smaller values yield slow learning speed, while large values may result in unpredictable behavior during training."
      ]
    },
    {
      "cell_type": "code",
      "metadata": {
        "id": "q-OIu_LLJv7l"
      },
      "source": [
        "learning_rate = 1e-3\n",
        "batch_size = 64\n",
        "epochs = 5"
      ],
      "execution_count": null,
      "outputs": []
    },
    {
      "cell_type": "markdown",
      "metadata": {
        "id": "M3nWLsSfJ0jH"
      },
      "source": [
        "###Optimization Loop\n",
        "\n",
        "Once we set our hyperparameters, we can then train and optimize our model with an optimization loop. Each \n",
        "iteration of the optimization loop is called an **epoch**. \n",
        "\n",
        "Each epoch consists of two main parts:\n",
        " - **The Train Loop** - iterate over the training dataset and try to converge to optimal parameters.\n",
        " - **The Validation/Test Loop** - iterate over the test dataset to check if model performance is improving.\n",
        "\n",
        "Let's briefly familiarize ourselves with some of the concepts used in the training loop. \n",
        "\n",
        "**Loss Function**\n",
        "\n",
        "When presented with some training data, our untrained network is likely not to give the correct answer. **Loss function** measures the degree of dissimilarity of obtained result to the target value, and it is the loss function that we want to minimize during training. To calculate the loss we make a prediction using the inputs of our given data sample and compare it against the true data label value.\n",
        "\n",
        "Common loss functions include [nn.MSELoss](https://pytorch.org/docs/stable/generated/torch.nn.MSELoss.html#torch.nn.MSELoss) (Mean Square Error) for regression tasks, and [nn.NLLLoss](https://pytorch.org/docs/stable/generated/torch.nn.NLLLoss.html#torch.nn.NLLLoss) (Negative Log Likelihood) for classification. [nn.CrossEntropyLoss](https://pytorch.org/docs/stable/generated/torch.nn.CrossEntropyLoss.html#torch.nn.CrossEntropyLoss) combines `nn.LogSoftmax` and `nn.NLLLoss`.\n",
        "\n",
        "We pass our model's output logits to `nn.CrossEntropyLoss`, which will normalize the logits and compute the prediction error."
      ]
    },
    {
      "cell_type": "code",
      "metadata": {
        "id": "rMNQh9mXKa02"
      },
      "source": [
        "# Initialize the loss function\n",
        "loss_fn = nn.CrossEntropyLoss()"
      ],
      "execution_count": null,
      "outputs": []
    },
    {
      "cell_type": "markdown",
      "metadata": {
        "id": "dno2T8kmKdm9"
      },
      "source": [
        "**Optimizer**\n",
        "\n",
        "Optimization is the process of adjusting model parameters to reduce model error in each training step. **Optimization algorithms** define how this process is performed (in this example we use Mini-batch Gradient Descent).\n",
        "All optimization logic is encapsulated in  the `optimizer` object. Here, we use the SGD optimizer; additionally, there are many [different optimizers](https://pytorch.org/docs/stable/optim.html) available in PyTorch such as ADAM and RMSProp, that work better for different kinds of models and data.\n",
        "\n",
        "We initialize the optimizer by registering the model's parameters that need to be trained, and passing in the learning rate hyperparameter."
      ]
    },
    {
      "cell_type": "code",
      "metadata": {
        "id": "P5QWwDzlKs5k"
      },
      "source": [
        "optimizer = torch.optim.SGD(model.parameters(), lr=learning_rate)"
      ],
      "execution_count": null,
      "outputs": []
    },
    {
      "cell_type": "markdown",
      "metadata": {
        "id": "0EeFDC3_Kxd5"
      },
      "source": [
        "Inside the training loop, optimization happens in three steps:\n",
        " * Call `optimizer.zero_grad()` to reset the gradients of model parameters. Gradients by default add up; to prevent double-counting, we explicitly zero them at each iteration.\n",
        " * Backpropagate the prediction loss with a call to `loss.backward()`. PyTorch deposits the gradients of the loss w.r.t. each parameter. \n",
        " * Once we have our gradients, we call `optimizer.step()` to adjust the parameters by the gradients collected in the backward pass.  "
      ]
    },
    {
      "cell_type": "markdown",
      "metadata": {
        "id": "f22Oqb0sK5Fr"
      },
      "source": [
        "###Full Implementation\n",
        "\n",
        "We define `train_loop` that loops over our optimization code, and `test_loop` that evaluates the model's performance against our test data."
      ]
    },
    {
      "cell_type": "code",
      "metadata": {
        "id": "Vax-Sb_jK86j"
      },
      "source": [
        "def train_loop(dataloader, model, loss_fn, optimizer):\n",
        "    size = len(dataloader.dataset)\n",
        "    num_batches = len(dataloader)\n",
        "    train_loss, train_acc = 0, 0\n",
        "    for batch, (X, y) in enumerate(dataloader):        \n",
        "        # Compute prediction and loss\n",
        "        pred = model(X)\n",
        "        loss = loss_fn(pred, y)\n",
        "        \n",
        "        # Backpropagation\n",
        "        optimizer.zero_grad()\n",
        "        loss.backward()\n",
        "        optimizer.step()\n",
        "\n",
        "        # Store loss and accuracy\n",
        "        train_loss += loss.item()\n",
        "        train_acc += (pred.argmax(1) == y).type(torch.float).sum().item()\n",
        "\n",
        "        if batch % 100 == 0:\n",
        "            loss, current = loss.item(), batch * len(X)\n",
        "            print(f\"loss: {loss:>7f}  [{current:>5d}/{size:>5d}]\")\n",
        "      \n",
        "    train_loss /= num_batches\n",
        "    train_acc /= size\n",
        "    return train_loss, train_acc\n",
        "\n",
        "\n",
        "def test_loop(dataloader, model, loss_fn):\n",
        "    size = len(dataloader.dataset)\n",
        "    num_batches = len(dataloader)\n",
        "    test_loss, test_acc = 0, 0\n",
        "\n",
        "    with torch.no_grad():\n",
        "        for X, y in dataloader:\n",
        "            pred = model(X)\n",
        "            test_loss += loss_fn(pred, y).item()\n",
        "            test_acc += (pred.argmax(1) == y).type(torch.float).sum().item()\n",
        "            \n",
        "    test_loss /= num_batches\n",
        "    test_acc /= size\n",
        "    print(f\"Test Error: \\n Accuracy: {(100*test_acc):>0.1f}%, Avg loss: {test_loss:>8f} \\n\")\n",
        "    return test_loss, test_acc"
      ],
      "execution_count": null,
      "outputs": []
    },
    {
      "cell_type": "markdown",
      "metadata": {
        "id": "K2WYVOLELcl0"
      },
      "source": [
        "We initialize the loss function and optimizer, and pass it to `train_loop` and `test_loop`. Feel free to increase the number of epochs to track the model's improving performance."
      ]
    },
    {
      "cell_type": "code",
      "metadata": {
        "id": "pfzMdrtzLhnl"
      },
      "source": [
        "loss_fn = nn.CrossEntropyLoss()\n",
        "optimizer = torch.optim.SGD(model.parameters(), lr=learning_rate)\n",
        "\n",
        "epochs = 10\n",
        "train_losses, train_accuracies, test_losses, test_accuracies = [], [], [], []\n",
        "for t in range(epochs):\n",
        "    print(f\"Epoch {t+1}\\n-------------------------------\")\n",
        "    train_loss, train_acc = train_loop(train_dataloader, model, loss_fn, optimizer)\n",
        "    train_losses.append(train_loss)\n",
        "    train_accuracies.append(train_acc)\n",
        "    test_loss, test_acc = test_loop(test_dataloader, model, loss_fn)\n",
        "    test_losses.append(test_loss)\n",
        "    test_accuracies.append(test_acc)\n",
        "print(\"Done!\")"
      ],
      "execution_count": null,
      "outputs": []
    },
    {
      "cell_type": "markdown",
      "metadata": {
        "id": "Q0WVha_GMqH5"
      },
      "source": [
        "Notice that we stored the loss and accuracy values for each epoch, both for training and test data. We did so to visualize learning curves. Here we have the learning curves for loss:"
      ]
    },
    {
      "cell_type": "code",
      "metadata": {
        "id": "kw1LJLUELN_w"
      },
      "source": [
        "import matplotlib.pyplot as plt\n",
        "\n",
        "plt.plot(range(epochs), train_losses, color='blue', label='train')\n",
        "plt.plot(range(epochs), test_losses, color='red', label='test')\n",
        "plt.xlabel('epochs')\n",
        "plt.ylabel('loss')\n",
        "plt.legend(loc='upper right')\n",
        "plt.show()"
      ],
      "execution_count": null,
      "outputs": []
    },
    {
      "cell_type": "markdown",
      "metadata": {
        "id": "CRxpTMoqMGPC"
      },
      "source": [
        "And here for accuracy:"
      ]
    },
    {
      "cell_type": "code",
      "metadata": {
        "id": "QLjAJHKxMI7E"
      },
      "source": [
        "plt.plot(range(epochs), train_accuracies, color='blue', label='train')\n",
        "plt.plot(range(epochs), test_accuracies, color='red', label='test')\n",
        "plt.xlabel('epochs')\n",
        "plt.ylabel('accuracy')\n",
        "plt.legend(loc='upper left')\n",
        "plt.show()"
      ],
      "execution_count": null,
      "outputs": []
    },
    {
      "cell_type": "markdown",
      "metadata": {
        "id": "7OLMjlH-MkbZ"
      },
      "source": [
        "##Save and load the model\n",
        "In this section we will look at how to persist model state with saving, loading and running model predictions."
      ]
    },
    {
      "cell_type": "code",
      "metadata": {
        "id": "oirC-4WiMuqF"
      },
      "source": [
        "import torch\n",
        "import torch.onnx as onnx\n",
        "import torchvision.models as models"
      ],
      "execution_count": null,
      "outputs": []
    },
    {
      "cell_type": "markdown",
      "metadata": {
        "id": "kNg3xvVrMytg"
      },
      "source": [
        "###Saving and Loading Model Weights\n",
        "\n",
        "PyTorch models store the learned parameters in an internal\n",
        "state dictionary, called `state_dict`. These can be persisted via the `torch.save` method. In this example, we will download a popular convolutional neural network called VGG16 (we will see it in the next theoretical sessions) and store its weights:"
      ]
    },
    {
      "cell_type": "code",
      "metadata": {
        "id": "X1o38UOqM7fI",
        "colab": {
          "base_uri": "https://localhost:8080/",
          "height": 156,
          "referenced_widgets": [
            "e902ea60f8234d14b48b9940f9afbc74",
            "85514a3c9af44fd9a8270fd561f409b8",
            "a640cb94a759474fb54056ee35a86c63",
            "6a68b9b013b44e66b79e81f77363b51e",
            "67e16c6efe8d4c729a911ad3c2c06309",
            "3e408f12977549a392a1565e4c116006",
            "05eab4c0ee5341c5b311e4480c3987e9",
            "1db8aeae67d04ffcb928754639129c05",
            "038e5ed3464b42bc86d8e2bf3d84c783",
            "80c059e6c6224872b268b2d1cab624fe",
            "3eb051288a864d5a8b029ea032d7282b"
          ]
        },
        "outputId": "4469abdd-914d-41b9-a170-107e1cfd3b3b"
      },
      "source": [
        "model = models.vgg16(pretrained=True)\n",
        "torch.save(model.state_dict(), 'model_weights.pth')"
      ],
      "execution_count": null,
      "outputs": [
        {
          "output_type": "stream",
          "name": "stderr",
          "text": [
            "/usr/local/lib/python3.7/dist-packages/torchvision/models/_utils.py:209: UserWarning: The parameter 'pretrained' is deprecated since 0.13 and will be removed in 0.15, please use 'weights' instead.\n",
            "  f\"The parameter '{pretrained_param}' is deprecated since 0.13 and will be removed in 0.15, \"\n",
            "/usr/local/lib/python3.7/dist-packages/torchvision/models/_utils.py:223: UserWarning: Arguments other than a weight enum or `None` for 'weights' are deprecated since 0.13 and will be removed in 0.15. The current behavior is equivalent to passing `weights=VGG16_Weights.IMAGENET1K_V1`. You can also use `weights=VGG16_Weights.DEFAULT` to get the most up-to-date weights.\n",
            "  warnings.warn(msg)\n",
            "Downloading: \"https://download.pytorch.org/models/vgg16-397923af.pth\" to /root/.cache/torch/hub/checkpoints/vgg16-397923af.pth\n"
          ]
        },
        {
          "output_type": "display_data",
          "data": {
            "text/plain": [
              "  0%|          | 0.00/528M [00:00<?, ?B/s]"
            ],
            "application/vnd.jupyter.widget-view+json": {
              "version_major": 2,
              "version_minor": 0,
              "model_id": "e902ea60f8234d14b48b9940f9afbc74"
            }
          },
          "metadata": {}
        }
      ]
    },
    {
      "cell_type": "markdown",
      "metadata": {
        "id": "F7hvDwyoOqnG"
      },
      "source": [
        "Check the file explorer on your left menu to see whether you have a new file named \"model_weights.pth\"."
      ]
    },
    {
      "cell_type": "markdown",
      "metadata": {
        "id": "aKO0c1uAM-6R"
      },
      "source": [
        "To load model weights, you need to create an instance of the same model first, and then load the parameters using `load_state_dict()` method."
      ]
    },
    {
      "cell_type": "code",
      "metadata": {
        "id": "BV-rdJThND8h",
        "colab": {
          "base_uri": "https://localhost:8080/"
        },
        "outputId": "dabf4bb8-68bc-43d0-c8e1-73b92af9fb0e"
      },
      "source": [
        "model = models.vgg16() # we do not specify pretrained=True, i.e. do not load default weights\n",
        "model.load_state_dict(torch.load('model_weights.pth'))\n",
        "model.eval()"
      ],
      "execution_count": null,
      "outputs": [
        {
          "output_type": "execute_result",
          "data": {
            "text/plain": [
              "VGG(\n",
              "  (features): Sequential(\n",
              "    (0): Conv2d(3, 64, kernel_size=(3, 3), stride=(1, 1), padding=(1, 1))\n",
              "    (1): ReLU(inplace=True)\n",
              "    (2): Conv2d(64, 64, kernel_size=(3, 3), stride=(1, 1), padding=(1, 1))\n",
              "    (3): ReLU(inplace=True)\n",
              "    (4): MaxPool2d(kernel_size=2, stride=2, padding=0, dilation=1, ceil_mode=False)\n",
              "    (5): Conv2d(64, 128, kernel_size=(3, 3), stride=(1, 1), padding=(1, 1))\n",
              "    (6): ReLU(inplace=True)\n",
              "    (7): Conv2d(128, 128, kernel_size=(3, 3), stride=(1, 1), padding=(1, 1))\n",
              "    (8): ReLU(inplace=True)\n",
              "    (9): MaxPool2d(kernel_size=2, stride=2, padding=0, dilation=1, ceil_mode=False)\n",
              "    (10): Conv2d(128, 256, kernel_size=(3, 3), stride=(1, 1), padding=(1, 1))\n",
              "    (11): ReLU(inplace=True)\n",
              "    (12): Conv2d(256, 256, kernel_size=(3, 3), stride=(1, 1), padding=(1, 1))\n",
              "    (13): ReLU(inplace=True)\n",
              "    (14): Conv2d(256, 256, kernel_size=(3, 3), stride=(1, 1), padding=(1, 1))\n",
              "    (15): ReLU(inplace=True)\n",
              "    (16): MaxPool2d(kernel_size=2, stride=2, padding=0, dilation=1, ceil_mode=False)\n",
              "    (17): Conv2d(256, 512, kernel_size=(3, 3), stride=(1, 1), padding=(1, 1))\n",
              "    (18): ReLU(inplace=True)\n",
              "    (19): Conv2d(512, 512, kernel_size=(3, 3), stride=(1, 1), padding=(1, 1))\n",
              "    (20): ReLU(inplace=True)\n",
              "    (21): Conv2d(512, 512, kernel_size=(3, 3), stride=(1, 1), padding=(1, 1))\n",
              "    (22): ReLU(inplace=True)\n",
              "    (23): MaxPool2d(kernel_size=2, stride=2, padding=0, dilation=1, ceil_mode=False)\n",
              "    (24): Conv2d(512, 512, kernel_size=(3, 3), stride=(1, 1), padding=(1, 1))\n",
              "    (25): ReLU(inplace=True)\n",
              "    (26): Conv2d(512, 512, kernel_size=(3, 3), stride=(1, 1), padding=(1, 1))\n",
              "    (27): ReLU(inplace=True)\n",
              "    (28): Conv2d(512, 512, kernel_size=(3, 3), stride=(1, 1), padding=(1, 1))\n",
              "    (29): ReLU(inplace=True)\n",
              "    (30): MaxPool2d(kernel_size=2, stride=2, padding=0, dilation=1, ceil_mode=False)\n",
              "  )\n",
              "  (avgpool): AdaptiveAvgPool2d(output_size=(7, 7))\n",
              "  (classifier): Sequential(\n",
              "    (0): Linear(in_features=25088, out_features=4096, bias=True)\n",
              "    (1): ReLU(inplace=True)\n",
              "    (2): Dropout(p=0.5, inplace=False)\n",
              "    (3): Linear(in_features=4096, out_features=4096, bias=True)\n",
              "    (4): ReLU(inplace=True)\n",
              "    (5): Dropout(p=0.5, inplace=False)\n",
              "    (6): Linear(in_features=4096, out_features=1000, bias=True)\n",
              "  )\n",
              ")"
            ]
          },
          "metadata": {},
          "execution_count": 55
        }
      ]
    },
    {
      "cell_type": "markdown",
      "metadata": {
        "id": "PKG1CFr6NKqJ"
      },
      "source": [
        "**Note**\n",
        "\n",
        "Be sure to call `model.eval()` method before inferencing to set the dropout and batch normalization layers to evaluation mode. Failing to do this will yield inconsistent inference results."
      ]
    },
    {
      "cell_type": "markdown",
      "metadata": {
        "id": "HcVqBMiyNVnq"
      },
      "source": [
        "###Saving and Loading Models with Shapes\n",
        "\n",
        "When loading model weights, we needed to instantiate the model class first, because the class defines the structure of a network. We might want to save the structure of this class together with the model, in which case we can pass `model` (and not `model.state_dict()`) to the saving function:"
      ]
    },
    {
      "cell_type": "code",
      "metadata": {
        "id": "o2hI3xCoNe9t"
      },
      "source": [
        "torch.save(model, 'model.pth')"
      ],
      "execution_count": null,
      "outputs": []
    },
    {
      "cell_type": "markdown",
      "metadata": {
        "id": "xoG5A8AFP6M9"
      },
      "source": [
        "Check again the file explorer. You should have a new file called \"model.pth\"."
      ]
    },
    {
      "cell_type": "markdown",
      "metadata": {
        "id": "Uy5TrYlGNi5i"
      },
      "source": [
        "We can then load the model like this:"
      ]
    },
    {
      "cell_type": "code",
      "metadata": {
        "id": "qUk9ihBiNk--"
      },
      "source": [
        "model = torch.load('model.pth')"
      ],
      "execution_count": null,
      "outputs": []
    },
    {
      "cell_type": "markdown",
      "metadata": {
        "id": "Zh-LMeFnNl01"
      },
      "source": [
        "**Note**\n",
        "\n",
        "This approach uses Python [pickle](https://docs.python.org/3/library/pickle.html) module when serializing the model, thus it relies on the actual class definition to be available when loading the model."
      ]
    },
    {
      "cell_type": "markdown",
      "metadata": {
        "id": "fPKexvENN0hD"
      },
      "source": [
        "###Exporting Model to ONNX\n",
        "\n",
        "PyTorch also has native ONNX export support. Given the dynamic nature of the\n",
        "PyTorch execution graph, however, the export process must traverse the execution graph to produce a persisted ONNX model. For this reason, a\n",
        "test variable of the appropriate size should be passed in to the\n",
        "export routine (in our case, we will create a dummy zero tensor of the correct size):"
      ]
    },
    {
      "cell_type": "code",
      "metadata": {
        "id": "e3vjNdIAN_r6"
      },
      "source": [
        "input_image = torch.zeros((1,3,224,224))\n",
        "onnx.export(model, input_image, 'model.onnx')"
      ],
      "execution_count": null,
      "outputs": []
    },
    {
      "cell_type": "markdown",
      "metadata": {
        "id": "KnCpQr1ROCjs"
      },
      "source": [
        "There are a lot of things you can do with ONNX model, including running inference on different platforms and in different programming languages. For more details, we recommend visiting [ONNX tutorial](https://github.com/onnx/tutorials)."
      ]
    }
  ]
}