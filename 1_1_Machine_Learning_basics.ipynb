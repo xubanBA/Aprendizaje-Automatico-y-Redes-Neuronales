{
  "nbformat": 4,
  "nbformat_minor": 0,
  "metadata": {
    "colab": {
      "provenance": [],
      "toc_visible": true
    },
    "kernelspec": {
      "name": "python3",
      "display_name": "Python 3"
    },
    "language_info": {
      "name": "python"
    }
  },
  "cells": [
    {
      "cell_type": "markdown",
      "metadata": {
        "id": "owMUhlsxLSKC"
      },
      "source": [
        "#Machine Learning Basics with Linear Regression\n",
        "In this lab, we will work on basic concepts of machine learning, as reviewed in previous lessons. For that purpose, we will base on one of the simplest machine learning systems: linear regression."
      ]
    },
    {
      "cell_type": "markdown",
      "metadata": {
        "id": "_jffC_yGNxlO"
      },
      "source": [
        "Here are the libraries we will need for this lab:"
      ]
    },
    {
      "cell_type": "code",
      "metadata": {
        "id": "JbxpDz_XvnT1"
      },
      "source": [
        "import matplotlib.pyplot as plt\n",
        "import numpy as np\n",
        "# To use linear models\n",
        "from sklearn import linear_model\n",
        "from sklearn.metrics import mean_squared_error\n",
        "# To compute polynomial features\n",
        "from sklearn.preprocessing import PolynomialFeatures\n",
        "# To create train-test splits\n",
        "from sklearn.model_selection import train_test_split"
      ],
      "execution_count": null,
      "outputs": []
    },
    {
      "cell_type": "markdown",
      "metadata": {
        "id": "JluCxhRfGXxX"
      },
      "source": [
        "##Data-generating process\n",
        "For this example, we will use a nonlinear function to generate the samples of our dataset. Specifically, we will use the function $y=x^3$. Remember that in machine learning, we will not know the underlying probability distribution of the datasets $p_{data}$. Here, we fix it to a known function, just to understand the basic concepts of machine learning.\n",
        "\n",
        "The idea is to generate 10 samples between -50 and 50 sampling a uniform distribution. Those values will be our feature vector $x \\in \\mathbb{R}$. The label assigned to each example $x_i$ will be calculated by the function $y_i = x_i^3$.\n",
        "\n",
        "Before anything else, to make sure our experiments are reproducible, we have to set the random seed to a fixed value:"
      ]
    },
    {
      "cell_type": "code",
      "metadata": {
        "id": "8SyKMYTPh7ff"
      },
      "source": [
        "import numpy as np\n",
        "seed = 42\n",
        "np.random.seed(seed)"
      ],
      "execution_count": null,
      "outputs": []
    },
    {
      "cell_type": "code",
      "metadata": {
        "id": "jc3RD68jhTJe",
        "colab": {
          "base_uri": "https://localhost:8080/"
        },
        "outputId": "c1e7117f-2918-4120-bd70-34e71f7d000b"
      },
      "source": [
        "x = np.random.uniform(-50, 50, size=10)\n",
        "y = np.power(x, 3)\n",
        "print(x.shape)\n",
        "print(y.shape)"
      ],
      "execution_count": null,
      "outputs": [
        {
          "output_type": "stream",
          "name": "stdout",
          "text": [
            "(10,)\n",
            "(10,)\n"
          ]
        }
      ]
    },
    {
      "cell_type": "markdown",
      "metadata": {
        "id": "ii7xf5K1iXhb"
      },
      "source": [
        "Now the dataset is created, we have to split it into two sets: the training set and the test set. In this case, we will use scikit-learn to create them, using the 30% of the dataset to test. \n",
        "\n",
        "**EXERCISE:** generate `X_train`, `X_test`, `y_train` and `y_test` using the scikit-learn function `train_test_split()`. Use 30% of the examples of test. Remember to fix the `random_state` parameter with the `seed` value."
      ]
    },
    {
      "cell_type": "code",
      "metadata": {
        "id": "YRpLe-tqiQaB",
        "colab": {
          "base_uri": "https://localhost:8080/"
        },
        "outputId": "7841e4ff-cdc6-4c85-9626-7aae4e163207"
      },
      "source": [
        "# Train and test splits\n",
        "from sklearn.model_selection import train_test_split\n",
        "X_train, X_test, y_train, y_test = train_test_split(x,y,test_size=0.30,random_state=seed)\n",
        "\n",
        "print(f'X_train shape {X_train.shape}')\n",
        "print(f'X_test shape {X_test.shape}')\n",
        "print(f'y_train shape {y_train.shape}')\n",
        "print(f'y_test shape {y_test.shape}')"
      ],
      "execution_count": null,
      "outputs": [
        {
          "output_type": "stream",
          "name": "stdout",
          "text": [
            "X_train shape (7,)\n",
            "X_test shape (3,)\n",
            "y_train shape (7,)\n",
            "y_test shape (3,)\n"
          ]
        }
      ]
    },
    {
      "cell_type": "markdown",
      "metadata": {
        "id": "apCFeJn1Gez-"
      },
      "source": [
        "Here you have some code to visualize our dataset. Take into account that this is only possible because we are using a toy example of two dimensions $(x, y)$."
      ]
    },
    {
      "cell_type": "code",
      "metadata": {
        "id": "A-FV3AliFQg5",
        "colab": {
          "base_uri": "https://localhost:8080/",
          "height": 283
        },
        "outputId": "1fc3730b-76d8-483a-89e5-b3e45d81b4ec"
      },
      "source": [
        "# Plot the training and test data\n",
        "import matplotlib.pyplot as plt\n",
        "plt.scatter(X_train, y_train, color='blue', label='train')\n",
        "plt.scatter(X_test, y_test, color='red', label='test')\n",
        "\n",
        "plt.xlabel('x')\n",
        "plt.ylabel('y')\n",
        "\n",
        "plt.legend(loc=\"upper left\")\n",
        "plt.show()"
      ],
      "execution_count": null,
      "outputs": [
        {
          "output_type": "display_data",
          "data": {
            "text/plain": [
              "<Figure size 432x288 with 1 Axes>"
            ],
            "image/png": "[encoded data removed]"
          },
          "metadata": {
            "needs_background": "light"
          }
        }
      ]
    },
    {
      "cell_type": "markdown",
      "metadata": {
        "id": "Ut6co7pPl4LV"
      },
      "source": [
        "As expected, we have three examples int the test set (red spots) and seven in the training set (blue spots)."
      ]
    },
    {
      "cell_type": "markdown",
      "metadata": {
        "id": "TxsogJLIm58G"
      },
      "source": [
        "##Linear Regression\n",
        "Even though our dataset is not linear at all, we will see how a linear regression performs. First of all, we have to reformat our data to the shape expected by the linear regression model of scikit-learn. Here you have the code. Pay attention to the new shape of `X_train` and `X_test`."
      ]
    },
    {
      "cell_type": "code",
      "metadata": {
        "id": "ZkIBDZAhiVto",
        "colab": {
          "base_uri": "https://localhost:8080/"
        },
        "outputId": "489cd1ba-aee0-45c2-852c-2839738fe252"
      },
      "source": [
        "# Expand dims for X_train and X_test\n",
        "X_train = np.expand_dims(X_train, axis=1)\n",
        "X_test = np.expand_dims(X_test, axis=1)\n",
        "\n",
        "print(f'train data: {X_train.shape}, {y_train.shape}')\n",
        "print(f'test data: {X_test.shape}, {y_test.shape}')"
      ],
      "execution_count": null,
      "outputs": [
        {
          "output_type": "stream",
          "name": "stdout",
          "text": [
            "train data: (7, 1), (7,)\n",
            "test data: (3, 1), (3,)\n"
          ]
        }
      ]
    },
    {
      "cell_type": "markdown",
      "metadata": {
        "id": "i4kvbVB2Gixi"
      },
      "source": [
        "We will learn a linear regressor using train data and see its performance in the test set using the MSE metric.\n",
        "\n",
        "**EXERCISE**: learn a linear regression using scikit-learn and predict $y$ values for `X_test`."
      ]
    },
    {
      "cell_type": "code",
      "metadata": {
        "id": "KKRnKDi6FctN",
        "colab": {
          "base_uri": "https://localhost:8080/"
        },
        "outputId": "169281fa-d5ef-4516-fdcd-d030bcc58158"
      },
      "source": [
        "from sklearn.linear_model import LinearRegression\n",
        "reg = LinearRegression()\n",
        "model = reg.fit(X_train, y_train)\n",
        "y_pred = model.predict(X_test)\n",
        "\n",
        "\n",
        "print(f'MSE in test: {mean_squared_error(y_test, y_pred)}')"
      ],
      "execution_count": null,
      "outputs": [
        {
          "output_type": "stream",
          "name": "stdout",
          "text": [
            "MSE in test: 599227053.495304\n"
          ]
        }
      ]
    },
    {
      "cell_type": "markdown",
      "metadata": {
        "id": "pLSXy1uZGrV3"
      },
      "source": [
        "The MSE we obtain is a high value, indeed, which indicates that our model is performing poorly in the test set. This was expected, since the underlying dataset-generating function is not linear. \n",
        "\n",
        "In any case, let's see the test set (red spots) and the model we have learned (the black line)."
      ]
    },
    {
      "cell_type": "code",
      "metadata": {
        "id": "Ak6Z5nXUF0Nd",
        "colab": {
          "base_uri": "https://localhost:8080/",
          "height": 279
        },
        "outputId": "9b20f4e0-6e1d-441f-e2e7-38dd6fb3f6af"
      },
      "source": [
        "plt.scatter(X_test, y_test, color='red')\n",
        "plt.plot(X_test, y_pred, color='black')\n",
        "\n",
        "plt.xlabel('x')\n",
        "plt.ylabel('y')\n",
        "plt.show()"
      ],
      "execution_count": null,
      "outputs": [
        {
          "output_type": "display_data",
          "data": {
            "text/plain": [
              "<Figure size 432x288 with 1 Axes>"
            ],
            "image/png": "[encoded data removed]"
          },
          "metadata": {
            "needs_background": "light"
          }
        }
      ]
    },
    {
      "cell_type": "markdown",
      "metadata": {
        "id": "oN7jwXscpDgx"
      },
      "source": [
        "It is interesting to see what happens in the training set too. For that purpose, we need the predictions of our model for the training examples.\n",
        "\n",
        "**EXERCISE:** use the linear regression learned before to predict the values for `X_train`. Store those values in the variable `y_pred_train`."
      ]
    },
    {
      "cell_type": "code",
      "metadata": {
        "id": "pSo-Rmy6pk9a"
      },
      "source": [
        "y_pred_train = model.predict(X_train)"
      ],
      "execution_count": null,
      "outputs": []
    },
    {
      "cell_type": "markdown",
      "metadata": {
        "id": "2GUQNFk0ptHy"
      },
      "source": [
        "Now we will visualize the training set (blue spots) with the model we have learned (the black line)."
      ]
    },
    {
      "cell_type": "code",
      "metadata": {
        "id": "wHMxcwskpKn1",
        "colab": {
          "base_uri": "https://localhost:8080/",
          "height": 279
        },
        "outputId": "2ea61ab7-16c5-4736-f6e8-1c0bd20fb07f"
      },
      "source": [
        "plt.scatter(X_train, y_train, color='blue')\n",
        "plt.plot(X_train, y_pred_train, color='black')\n",
        "\n",
        "plt.xlabel('x')\n",
        "plt.ylabel('y')\n",
        "plt.show()"
      ],
      "execution_count": null,
      "outputs": [
        {
          "output_type": "display_data",
          "data": {
            "text/plain": [
              "<Figure size 432x288 with 1 Axes>"
            ],
            "image/png": "[encoded data removed]"
          },
          "metadata": {
            "needs_background": "light"
          }
        }
      ]
    },
    {
      "cell_type": "markdown",
      "metadata": {
        "id": "dg8zUSVpGwDE"
      },
      "source": [
        "We have a problem of **high bias**, because using linear regression we are restricting our hypothesis space to linear functions. This causes **underfitting**, i.e. our model is not even able to properly fit the training set. This suggests we should increase the capacity of our model."
      ]
    },
    {
      "cell_type": "markdown",
      "metadata": {
        "id": "nWlXhsK5qDCv"
      },
      "source": [
        "##Polynomial Regression\n",
        "The natural way to increase the capacity of a linear regression model, is to use polynomial features. For that purpose, scikit-learn offers the `PolynomialFeatures` class, which you will use now.\n",
        "\n",
        "**EXERCISE:** Use the scikit-learn class `PolynomialFeatures` to compute polynomial features of degree 9 of `X_train` and `X_test` (store the instance of the class in the `trans` variable). Store the new features in the new variables `X_train_d9` and `X_test_d9` respectively."
      ]
    },
    {
      "cell_type": "code",
      "metadata": {
        "id": "qft87BllHGWo",
        "colab": {
          "base_uri": "https://localhost:8080/"
        },
        "outputId": "471e939e-c7ca-429b-a014-8f3f22a9f0be"
      },
      "source": [
        "degree = 9\n",
        "\n",
        "from sklearn.preprocessing import PolynomialFeatures\n",
        "trans = PolynomialFeatures(9)\n",
        "X_train_d9 = trans.fit_transform(X_train)\n",
        "X_test_d9 = trans.fit_transform(X_test)\n",
        "\n",
        "\n",
        "print(f'X_train_d9 shape: {X_train_d9.shape}')\n",
        "print(f'X_test_d9 shape: {X_test_d9.shape}')"
      ],
      "execution_count": null,
      "outputs": [
        {
          "output_type": "stream",
          "name": "stdout",
          "text": [
            "X_train_d9 shape: (7, 10)\n",
            "X_test_d9 shape: (3, 10)\n"
          ]
        }
      ]
    },
    {
      "cell_type": "markdown",
      "metadata": {
        "id": "NTmZYnpCrXQY"
      },
      "source": [
        "As can be seen, we get 10 features per example: the first one corresponds to $x^0=1$, since argument `include_bias` is `True` by default. Afterwards we have the features $x^1$ to $x^9$. If we print the first example:"
      ]
    },
    {
      "cell_type": "code",
      "metadata": {
        "id": "QFFJQM_ardyq",
        "colab": {
          "base_uri": "https://localhost:8080/"
        },
        "outputId": "63c65332-2287-467b-bb8d-3757b9306909"
      },
      "source": [
        "X_train_d9[0]"
      ],
      "execution_count": null,
      "outputs": [
        {
          "output_type": "execute_result",
          "data": {
            "text/plain": [
              "array([ 1.00000000e+00, -1.25459881e+01,  1.57401818e+02, -1.97476134e+03,\n",
              "        2.47753322e+04, -3.10831024e+05,  3.89968233e+06, -4.89253682e+07,\n",
              "        6.13817088e+08, -7.70094189e+09])"
            ]
          },
          "metadata": {},
          "execution_count": 12
        }
      ]
    },
    {
      "cell_type": "markdown",
      "metadata": {
        "id": "poL800ysri-X"
      },
      "source": [
        "We can see the values of those features. Notice that the first one is 1, which corresponds to the bias term of our linear regression ($x^0$)."
      ]
    },
    {
      "cell_type": "markdown",
      "metadata": {
        "id": "Z2yn-3fGrtfQ"
      },
      "source": [
        "Now you have to learn a new linear regression over the new polynomial features. Notice that even though we are using polynomial features as input, our model is still linear: $y = \\omega_0 x^0 + \\omega_1 x^1 + \\omega_2 x^2 + \\ldots + \\omega_9 x^9$. When we use only one feature, our model learns a line in a two-dimensional space. When we are using 10 features, as in this case, the model will learn a hyper-plane in a space of 11 dimensions.\n",
        "\n",
        "**EXERCISE:** Learn a linear regression over `X_train_d9` (use the `reg` variable to store the model). Measure the MSE in train and test."
      ]
    },
    {
      "cell_type": "code",
      "metadata": {
        "id": "TdppGGpirN2z",
        "colab": {
          "base_uri": "https://localhost:8080/"
        },
        "outputId": "106220cb-c93c-4d59-846d-e70e512b066f"
      },
      "source": [
        "aux = LinearRegression().fit(X_train_d9, y_train)\n",
        "reg = aux.fit(X_train_d9, y_train)\n",
        "\n",
        "# Make predictions in the train set\n",
        "y_train_d9 = reg.predict(X_train_d9)\n",
        "train_mse = mean_squared_error(y_train, y_train_d9)\n",
        "# Make predictions using the transformed testing set\n",
        "y_test_d9 = reg.predict(X_test_d9)\n",
        "test_mse = mean_squared_error(y_test, y_test_d9)\n",
        "\n",
        "print(f'train mse: {train_mse}')\n",
        "print(f'test mse: {test_mse}')"
      ],
      "execution_count": null,
      "outputs": [
        {
          "output_type": "stream",
          "name": "stdout",
          "text": [
            "train mse: 3.863762312213885e-18\n",
            "test mse: 88076083822.54015\n"
          ]
        }
      ]
    },
    {
      "cell_type": "markdown",
      "metadata": {
        "id": "Q3ppzHAMIFiF"
      },
      "source": [
        "We will visualize train and test data with the learned model, which is no longer a line respect to $x$. However, remember that it is still linear in the high-dimensional space. Here we have the code:"
      ]
    },
    {
      "cell_type": "code",
      "metadata": {
        "id": "dCx5iQsMII8u",
        "colab": {
          "base_uri": "https://localhost:8080/",
          "height": 295
        },
        "outputId": "f1e6db22-87ef-4f02-a079-b8ffb48932b7"
      },
      "source": [
        "plt.scatter(X_train, y_train, color='blue')\n",
        "plt.scatter(X_test, y_test, color='red')\n",
        "\n",
        "x_plot = np.linspace(-40, 40, 100)\n",
        "# NOTE: this trans object should be the one instantiated 3 cells before\n",
        "x_plot_d9 = trans.fit_transform(np.expand_dims(x_plot, axis=1))\n",
        "# NOTE: this reg model should be the one learned in the cell before\n",
        "y_plot = reg.predict(x_plot_d9) \n",
        "plt.plot(x_plot, y_plot, color='black')\n",
        "\n",
        "plt.xlabel('x')\n",
        "plt.ylabel('y')\n",
        "plt.title('Polynomial regression')\n",
        "plt.show()"
      ],
      "execution_count": null,
      "outputs": [
        {
          "output_type": "display_data",
          "data": {
            "text/plain": [
              "<Figure size 432x288 with 1 Axes>"
            ],
            "image/png": "[encoded data removed]"
          },
          "metadata": {
            "needs_background": "light"
          }
        }
      ]
    },
    {
      "cell_type": "markdown",
      "metadata": {
        "id": "jkDOM5Mk8dtw"
      },
      "source": [
        "Looking at those graphs, it is quite obvious that our model has not learned the *shape* of the function $y = x^3$. This should be also expected, because we are using a 9-degree polynomial model to fit a 3-degree polynomial function. Our model has a problem of **over-capacity**, which results in **overfitting**."
      ]
    },
    {
      "cell_type": "markdown",
      "metadata": {
        "id": "XE7PwjoC9dDy"
      },
      "source": [
        "##Capacity, Overfitting and Underfitting\n",
        "We can control the capacity of our linear regression model using the degree of the polynomial features, i.e. the **representational capacity** of the model increases with the degree of the features. To see how learning curves vary depending on the capacity, we will learn and evaluate different linear regression models.\n",
        "\n",
        "**EXERCISE:** program a loop to learn several linear regression models with polynomial degrees ranging from 1 to 9. Store the train MSE in the list `train_error` and the test MSE in the list `test_error`."
      ]
    },
    {
      "cell_type": "code",
      "metadata": {
        "id": "h62ZdqsN-YuT",
        "colab": {
          "base_uri": "https://localhost:8080/"
        },
        "outputId": "f0e7081f-2b96-4ccc-fe59-5bd6cc126e04"
      },
      "source": [
        "degree = range(1, 9)\n",
        "train_error = []\n",
        "test_error = []\n",
        "\n",
        "for i in degree:\n",
        "  trans = PolynomialFeatures(i)\n",
        "  X_train_d9 = trans.fit_transform(X_train)\n",
        "  X_test_d9 = trans.fit_transform(X_test)\n",
        "  aux = LinearRegression().fit(X_train_d9, y_train)\n",
        "  reg = aux.fit(X_train_d9, y_train)\n",
        "\n",
        "  # Make predictions in the train set\n",
        "  y_train_pred = reg.predict(X_train_d9)\n",
        "  train_mse = mean_squared_error(y_train, y_train_pred)\n",
        "  # Make predictions using the transformed testing set\n",
        "  y_test_pred = reg.predict(X_test_d9)\n",
        "  test_mse = mean_squared_error(y_test, y_test_pred)\n",
        "\n",
        "  train_error.append(train_mse)\n",
        "  test_error.append(test_mse)\n",
        "\n",
        "print(f'train errors: {train_error}')\n",
        "print(f'test errors: {test_error}')"
      ],
      "execution_count": null,
      "outputs": [
        {
          "output_type": "stream",
          "name": "stdout",
          "text": [
            "train errors: [196520204.6907052, 174954810.96555465, 3.8908877340022216e-23, 3.22595859860147e-20, 4.467606181169494e-22, 6.461587824828627e-21, 3.6888004940913926e-17, 3.2845934879106153e-15]\n",
            "test errors: [599227053.4953038, 1045136237.1951393, 4.308232357047019e-25, 1.7284078486023882e-19, 1.0309496632836947e-20, 1.5340112884327592e-18, 0.8828893228924386, 8.194609344731672]\n"
          ]
        }
      ]
    },
    {
      "cell_type": "markdown",
      "metadata": {
        "id": "LZFW1XhN-oJy"
      },
      "source": [
        "Here you have the code to visualize the training curves. We use blue for train error and red for test error, as usual."
      ]
    },
    {
      "cell_type": "code",
      "metadata": {
        "id": "WEe6J2nYcy9y",
        "colab": {
          "base_uri": "https://localhost:8080/",
          "height": 279
        },
        "outputId": "da93181f-23a1-47f6-86c5-3a144daf176b"
      },
      "source": [
        "plt.plot(list(degree), train_error, color='blue', label='train_error')\n",
        "plt.plot(list(degree), test_error, color='red', label='test_error')\n",
        "plt.legend(loc=\"upper left\")\n",
        "\n",
        "plt.xlabel('capacity')\n",
        "plt.ylabel('MSE')\n",
        "plt.yscale('log')\n",
        "\n",
        "plt.show()"
      ],
      "execution_count": null,
      "outputs": [
        {
          "output_type": "display_data",
          "data": {
            "text/plain": [
              "<Figure size 432x288 with 1 Axes>"
            ],
            "image/png": "[encoded data removed]"
          },
          "metadata": {
            "needs_background": "light"
          }
        }
      ]
    },
    {
      "cell_type": "markdown",
      "metadata": {
        "id": "5d8Le3U3-7fl"
      },
      "source": [
        "Given that MSE values vary from very low values to very high ones, we are using a logarithmic scale in the MSE axis. Those learning curves reveal that both training and test error decrease from 1 to 3-degree polynomials. The best error is achieved for 3-degree polynomic features. This makes total sense, as the underlying function is $y = x^3$. As the capacity increases from 3-degree on, training error and test error increase. However, test error increases much more, showing the typical overfitting behaviour."
      ]
    },
    {
      "cell_type": "markdown",
      "metadata": {
        "id": "0KzUpTWHA1Y9"
      },
      "source": [
        "##Regularization and validation sets\n",
        "So far, we see that the optimal capacity for our model is a 3-degree polynomial. However, we are not being honest for two reasons:\n",
        "\n",
        "1.   We do know the underlying function to generate the dataset, which will not be the case in real problems.\n",
        "2.   We are using test data to tune our machine learning model, which is **absolutely forbidden**.\n",
        "\n",
        "The usual approach in real problems is different. We will usually follow those steps:\n",
        "\n",
        "\n",
        "1.   Split the training set to extract a validation or development set.\n",
        "2.   Minimize the train error, i.e. use the lowest capacity of the model which performs well in the training set.\n",
        "3.   Regularize our model, selecting the regularization scheme that minimizes the validation error.\n",
        "4.   Measure the error of the developed model in the test set to estimate the generalization error.\n",
        "\n",
        "In this case, we will simulate the typical case where an over-capacited model is the one that performs best in train, but has overfitting problems."
      ]
    },
    {
      "cell_type": "markdown",
      "metadata": {
        "id": "8Yt-Y_t-Cn0V"
      },
      "source": [
        "###Validation set\n",
        "Our dataset so far is very small (only 10 examples) and *clean* (it perfectly fits a polynomial function). To extract a meaningful validation set and to see better the effects of regularization, we will build a more realistic dataset, adding more examples and introducing some Gaussian noise."
      ]
    },
    {
      "cell_type": "code",
      "metadata": {
        "id": "VFem4Vu0rxxV",
        "colab": {
          "base_uri": "https://localhost:8080/",
          "height": 295
        },
        "outputId": "0152d549-a54c-4034-81f3-2f9f8ec96a8a"
      },
      "source": [
        "def f(x):\n",
        "  return np.power(x, 3)\n",
        "\n",
        "np.random.seed(seed) # just in case\n",
        "\n",
        "# generate points and keep a subset of them\n",
        "n_samples = 100\n",
        "X = np.random.uniform(-1, 1, size=n_samples)[:, np.newaxis] # NOTE: we already create the data with the suitable format for scikit-learn\n",
        "y = f(X) + np.random.normal(scale=0.3, size=n_samples)[:, np.newaxis]\n",
        "\n",
        "# To visualize, we will draw the x^3 function also\n",
        "x_plot = np.linspace(-1, 1, 1000)\n",
        "plt.plot(x_plot, np.power(x_plot, 3), color='red')\n",
        "plt.scatter(X, y)\n",
        "plt.xlabel('x')\n",
        "plt.ylabel('y')\n",
        "plt.title('New dataset')\n",
        "plt.show()\n"
      ],
      "execution_count": null,
      "outputs": [
        {
          "output_type": "display_data",
          "data": {
            "text/plain": [
              "<Figure size 432x288 with 1 Axes>"
            ],
            "image/png": "[encoded data removed]"
          },
          "metadata": {
            "needs_background": "light"
          }
        }
      ]
    },
    {
      "cell_type": "markdown",
      "metadata": {
        "id": "j5D1nJYFeyv-"
      },
      "source": [
        "As can be seen, our new dataset is also generated using $y = x^3$ as the underlying function (red line), but adding the Gaussian noise, we make the dataset more challenging."
      ]
    },
    {
      "cell_type": "markdown",
      "metadata": {
        "id": "7ORuxvvADuIB"
      },
      "source": [
        "Now we will create the splits. First, separate train and test, using 80% and 20% of the examples respectively. Afterwards, we will use 20% of the examples in train, to create our validation set.\n",
        "\n",
        "**EXERCISE:** create the train, validation and test sets and store them in the variables `X_train`, `X_val`, `X_test`, `y_train`, `y_val` and `y_test`."
      ]
    },
    {
      "cell_type": "code",
      "metadata": {
        "id": "X2KUw6wQDAq3",
        "colab": {
          "base_uri": "https://localhost:8080/"
        },
        "outputId": "11ab3d89-703c-4657-945a-d433b4198850"
      },
      "source": [
        "# Train and test splits\n",
        "X_train, X_test, y_train, y_test = train_test_split(X,y,test_size=0.20,random_state=seed)\n",
        "X_train, X_val, y_train, y_val = train_test_split(X_train, y_train, test_size=0.20, random_state=seed)\n",
        "\n",
        "print(f'X_train shape {X_train.shape}') # Expected (64, 1)\n",
        "print(f'X_val shape {X_val.shape}') # Expected (16, 1)\n",
        "print(f'X_test shape {X_test.shape}') # Expected (20, 1)\n",
        "print(f'y_train shape {y_train.shape}') # Expected (64, 1)\n",
        "print(f'y_val shape {y_val.shape}') # Expected (16, 1)\n",
        "print(f'y_test shape {y_test.shape}') # Expected (20, 1)"
      ],
      "execution_count": null,
      "outputs": [
        {
          "output_type": "stream",
          "name": "stdout",
          "text": [
            "X_train shape (64, 1)\n",
            "X_val shape (16, 1)\n",
            "X_test shape (20, 1)\n",
            "y_train shape (64, 1)\n",
            "y_val shape (16, 1)\n",
            "y_test shape (20, 1)\n"
          ]
        }
      ]
    },
    {
      "cell_type": "markdown",
      "metadata": {
        "id": "RGc8IMkWDtGs"
      },
      "source": [
        "Here we have some code to visualize the entire dataset and the created splits: train (blue), val (orange) and test (red)."
      ]
    },
    {
      "cell_type": "code",
      "metadata": {
        "id": "5_BfYf0PD6AA",
        "colab": {
          "base_uri": "https://localhost:8080/",
          "height": 295
        },
        "outputId": "895221c2-0f8a-4778-ac91-1de4882b11f8"
      },
      "source": [
        "# Plot the training and test data\n",
        "plt.scatter(X_train, y_train, color='blue', label='train')\n",
        "plt.scatter(X_val, y_val, color='orange', label='val')\n",
        "plt.scatter(X_test, y_test, color='red', label='test')\n",
        "\n",
        "plt.xlabel('x')\n",
        "plt.ylabel('y')\n",
        "plt.title('Dataset splits')\n",
        "\n",
        "plt.legend(loc=\"upper left\")\n",
        "plt.show()"
      ],
      "execution_count": null,
      "outputs": [
        {
          "output_type": "display_data",
          "data": {
            "text/plain": [
              "<Figure size 432x288 with 1 Axes>"
            ],
            "image/png": "[encoded data removed]"
          },
          "metadata": {
            "needs_background": "light"
          }
        }
      ]
    },
    {
      "cell_type": "markdown",
      "metadata": {
        "id": "FIK4dh0mEGSB"
      },
      "source": [
        "###Linear regression with regularization\n",
        "Now is the moment to train a linear regressor. We will use again a 9-degree polynomial regression. However, we will not use the scikit-learn class `linear_model.LinearRegression` because it does not offer the means to include weight decay regularization. So go to the web page of scikit-learn and find the suitable model for this task. \n",
        "\n",
        "**EXERCISE:** train the suitable scikit-learn model for the 9-degree polynomial regression, using $\\lambda = 0$ for weight decay, i.e. without any weight decay. Notice that this should be totally equivalent to using `linear_model.LinearRegression`."
      ]
    },
    {
      "cell_type": "code",
      "metadata": {
        "id": "Kjb4r0-WiX7Q",
        "colab": {
          "base_uri": "https://localhost:8080/"
        },
        "outputId": "d3bde655-873f-4daf-80d6-a39d3c211ce2"
      },
      "source": [
        "degree = 9\n",
        "\n",
        "from sklearn.linear_model import Ridge\n",
        "ridge = Ridge(alpha = 0)\n",
        "trans = PolynomialFeatures(degree)\n",
        "\n",
        "X_train_d9 = trans.fit_transform(X_train)\n",
        "ridge.fit(X_train_d9, y_train)\n",
        "y_pred_train = ridge.predict(X_train_d9)\n",
        "\n",
        "X_val_d9 = trans.fit_transform(X_val)\n",
        "#ridge.fit(X_val_d9, y_val)\n",
        "y_pred_val = ridge.predict(X_val_d9)\n",
        "\n",
        "train_error = mean_squared_error(y_train, y_pred_train)\n",
        "val_error = mean_squared_error(y_val, y_pred_val)\n",
        "\n",
        "print(f'Train error {train_error}; val error {val_error}')\n",
        "#print(f'Val learned: {y_pred_val}')\n",
        "#print(f'Val : {y_val}')"
      ],
      "execution_count": null,
      "outputs": [
        {
          "output_type": "stream",
          "name": "stdout",
          "text": [
            "Train error 0.06530462327318476; val error 0.20352086758712606\n"
          ]
        }
      ]
    },
    {
      "cell_type": "markdown",
      "metadata": {
        "id": "pslN1_EEilqc"
      },
      "source": [
        "You should obtain a train error of around 0.065 and a validation error of around 0.2035. The gap between both of them indicate overfitting. Let's visualize the training and validation sets with the learned model:"
      ]
    },
    {
      "cell_type": "code",
      "metadata": {
        "id": "vpQGKXkdfCiH",
        "colab": {
          "base_uri": "https://localhost:8080/",
          "height": 295
        },
        "outputId": "b9d09573-7619-4f9e-9981-c46d4e866d17"
      },
      "source": [
        "plt.scatter(X_train, y_train, color='blue')\n",
        "plt.scatter(X_val, y_val, color='orange')\n",
        "\n",
        "x_plot = np.linspace(-1.0, 1.0, 100)\n",
        "x_plot_d9 = trans.fit_transform(np.expand_dims(x_plot, axis=1))\n",
        "y_plot = ridge.predict(x_plot_d9)\n",
        "\n",
        "plt.plot(x_plot, y_plot, color='black')\n",
        "\n",
        "plt.xlabel('x')\n",
        "plt.ylabel('y')\n",
        "plt.title('9-degree polynomial regression')\n",
        "\n",
        "plt.show()"
      ],
      "execution_count": null,
      "outputs": [
        {
          "output_type": "display_data",
          "data": {
            "text/plain": [
              "<Figure size 432x288 with 1 Axes>"
            ],
            "image/png": "[encoded data removed]"
          },
          "metadata": {
            "needs_background": "light"
          }
        }
      ]
    },
    {
      "cell_type": "markdown",
      "metadata": {
        "id": "4cxEwqBWjNop"
      },
      "source": [
        "As can be seen, our model performs quite well for $x \\in (-1.0, 0.75)$, but it could not learn a good pattern in the data to generalize to new cases, specially for $x > 0.75$. Yes, we have overfitting. "
      ]
    },
    {
      "cell_type": "markdown",
      "metadata": {
        "id": "SdSFX7k8cuNX"
      },
      "source": [
        "What should we do? Regularize the model using the validation set to find the optimum value of $\\lambda$. \n",
        "\n",
        "**EXERCISE:** write a loop to train a 9-degree polynomial regression with different values of $\\lambda$. More concretely, use values between 0 and 1 with a step size of 0.1 (the values would be 0, 0.1, 0.2, 0.3, ..., 1). Store train and val errors in the variables `train_error` and `val_error`."
      ]
    },
    {
      "cell_type": "code",
      "metadata": {
        "id": "jF-zYQCvda22",
        "colab": {
          "base_uri": "https://localhost:8080/"
        },
        "outputId": "9bfd9bb3-9bce-4537-b010-8df6a6d41d09"
      },
      "source": [
        "degree = 9\n",
        "train_error = []\n",
        "val_error = []\n",
        "\n",
        "alphas = np.linspace(0, 1, 11) # Generate the regularization values (lambda values)\n",
        "\n",
        "poly = PolynomialFeatures(degree)\n",
        "X_train_d9 = poly.fit_transform(X_train)\n",
        "X_val_d9 = poly.fit_transform(X_val)\n",
        "\n",
        "for alpha in alphas:\n",
        "  ridge = Ridge(alpha = alpha)\n",
        "\n",
        "  #Calculamos el modelo con regularización\n",
        "  ridge.fit(X_train_d9, y_train)\n",
        "\n",
        "  #Predecimos con regularización para train\n",
        "  y_train_pred = ridge.predict(X_train_d9)\n",
        "  t_error = mean_squared_error(y_train, y_train_pred)\n",
        "\n",
        "  #Predecimos con regularización para validacion\n",
        "  y_val_pred = ridge.predict(X_val_d9)\n",
        "  v_error = mean_squared_error(y_val, y_val_pred)\n",
        "\n",
        "  train_error.append(t_error)\n",
        "  val_error.append(v_error)\n",
        "\n",
        "print(f'train error: {train_error}')\n",
        "print(f'val error: {val_error}')\n"
      ],
      "execution_count": null,
      "outputs": [
        {
          "output_type": "stream",
          "name": "stdout",
          "text": [
            "train error: [0.06530462327318476, 0.06868616182899692, 0.0696942505741412, 0.07037896073120126, 0.07088021485529503, 0.0712677466933754, 0.07157972023093359, 0.0718387342260089, 0.07205907270078138, 0.07225025019171136, 0.07241887698889597]\n",
            "val error: [0.20352086758712606, 0.09994542446243582, 0.09345339497873086, 0.0908975040225646, 0.08968316805379387, 0.08908538583012376, 0.08881887544849955, 0.08874880512288058, 0.08880347395003206, 0.08894144804012488, 0.08913725010491207]\n"
          ]
        }
      ]
    },
    {
      "cell_type": "markdown",
      "metadata": {
        "id": "8N22eNCbkwI8"
      },
      "source": [
        "Let's look at the learning curves we obtain for different values of $\\lambda$. "
      ]
    },
    {
      "cell_type": "code",
      "metadata": {
        "id": "E6fEMOfwf6jX",
        "colab": {
          "base_uri": "https://localhost:8080/",
          "height": 295
        },
        "outputId": "cb789fb7-af89-407c-a2c1-43e8276afbb5"
      },
      "source": [
        "plt.plot(alphas, train_error, color='blue', label='train')\n",
        "plt.plot(alphas, val_error, color='orange', label='val')\n",
        "\n",
        "plt.xlabel('Regularization strength (lambda)')\n",
        "plt.ylabel('MSE')\n",
        "plt.title('Learning curves with regularization')\n",
        "plt.legend(loc=\"upper right\")\n",
        "\n",
        "plt.show()"
      ],
      "execution_count": null,
      "outputs": [
        {
          "output_type": "display_data",
          "data": {
            "text/plain": [
              "<Figure size 432x288 with 1 Axes>"
            ],
            "image/png": "[encoded data removed]"
          },
          "metadata": {
            "needs_background": "light"
          }
        }
      ]
    },
    {
      "cell_type": "markdown",
      "metadata": {
        "id": "ATRa8B9Jljf3"
      },
      "source": [
        "Well, this graph is very interesting. We can see how even small regularization makes a big difference in the performance of the validation set. $\\lambda=0.1$ decreases the MSE from ~0.2 to 0.1. As we increase the value of $\\lambda$, the validation error keeps improving steadily. On the other hand, as expected, training error increases as regularization is stronger. But the differences in train are not very important.\n",
        "\n",
        "Let's see which value of $\\lambda$ achieves the best validation error:"
      ]
    },
    {
      "cell_type": "code",
      "metadata": {
        "id": "R4JIUmlxlt8W",
        "colab": {
          "base_uri": "https://localhost:8080/"
        },
        "outputId": "47e41777-f407-48b2-d5cc-ffa88047b77e"
      },
      "source": [
        "best_index = np.argmin(val_error)\n",
        "lowest_error = val_error[best_index]\n",
        "print(f'Best lambda: {alphas[best_index]:.1f}; MSE achieved: {lowest_error} ')"
      ],
      "execution_count": null,
      "outputs": [
        {
          "output_type": "stream",
          "name": "stdout",
          "text": [
            "Best lambda: 0.7; MSE achieved: 0.08874880512288058 \n"
          ]
        }
      ]
    },
    {
      "cell_type": "markdown",
      "metadata": {
        "id": "HKN-_ug3nHCu"
      },
      "source": [
        "So this is our final model. We have learned the model in train and tune its regularization hyperparameter in validation. Now we have to measure the generalization error in the test set. \n",
        "\n",
        "**EXERCISE:** train a 9-degree polynomial regression with the best value of $\\lambda$ and measure its MSE in the test set."
      ]
    },
    {
      "cell_type": "code",
      "metadata": {
        "id": "HkqJG8Yungk4",
        "colab": {
          "base_uri": "https://localhost:8080/"
        },
        "outputId": "c58aeb75-a90b-49ad-e139-03097ed9d4a1"
      },
      "source": [
        "degree = 9\n",
        "\n",
        "poly = PolynomialFeatures(degree)\n",
        "ridge = Ridge(alpha = alphas[best_index])\n",
        "X_train_d9 = poly.fit_transform(X_train)\n",
        "X_test_d9 = poly.transform(X_test)\n",
        "ridge.fit(X_train_d9, y_train)\n",
        "y_test_pred = ridge.predict(X_test_d9)\n",
        "test_error = mean_squared_error(y_test, y_test_pred)\n",
        "\n",
        "print(f'The test error: {test_error}')"
      ],
      "execution_count": null,
      "outputs": [
        {
          "output_type": "stream",
          "name": "stdout",
          "text": [
            "The test error: 0.0631548751266267\n"
          ]
        }
      ]
    },
    {
      "cell_type": "markdown",
      "metadata": {
        "id": "ajw4qtqWoSdN"
      },
      "source": [
        "You should obtain a test error of ~0.063, which is pretty low given the noise we introduced in the dataset. We will visualize the learned model with our complete dataset (distinguishing different splits), to have an idea of what kind of function we have learned with a regularized 9-degree polynomial regression:"
      ]
    },
    {
      "cell_type": "code",
      "metadata": {
        "id": "b8H31m9loe3I",
        "colab": {
          "base_uri": "https://localhost:8080/",
          "height": 295
        },
        "outputId": "9c1a0a68-0a51-4b21-f5af-e4a571970767"
      },
      "source": [
        "X_train_d = trans.fit_transform(X_train)\n",
        "\n",
        "y_pred_train = ridge.predict(X_train_d)\n",
        "\n",
        "plt.scatter(X_train, y_train, color='blue', label='train')\n",
        "plt.scatter(X_val, y_val, color='orange', label='val')\n",
        "plt.scatter(X_test, y_test, color='red', label='test')\n",
        "\n",
        "x_plot = np.linspace(-1.0, 1.0, 100)\n",
        "x_plot_d9 = trans.fit_transform(np.expand_dims(x_plot, axis=1))\n",
        "y_plot = ridge.predict(x_plot_d9)\n",
        "plt.plot(x_plot, y_plot, color='black')\n",
        "\n",
        "plt.xlabel('x')\n",
        "plt.ylabel('y')\n",
        "plt.title('Regularized 9-degree linear regression')\n",
        "plt.legend(loc='upper left')\n",
        "\n",
        "plt.show()"
      ],
      "execution_count": null,
      "outputs": [
        {
          "output_type": "display_data",
          "data": {
            "text/plain": [
              "<Figure size 432x288 with 1 Axes>"
            ],
            "image/png": "[encoded data removed]"
          },
          "metadata": {
            "needs_background": "light"
          }
        }
      ]
    },
    {
      "cell_type": "markdown",
      "metadata": {
        "id": "Akix20XGwuxv"
      },
      "source": [
        "Wow! The black line depicted, which is the function learned by the linear regression model, is visually very similar to $y = x^3$. As you can see, regularizing high capacity models works."
      ]
    }
  ]
}