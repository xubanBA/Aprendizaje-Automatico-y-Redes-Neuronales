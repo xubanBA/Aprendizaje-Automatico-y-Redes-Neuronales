{
  "nbformat": 4,
  "nbformat_minor": 0,
  "metadata": {
    "colab": {
      "provenance": []
    },
    "kernelspec": {
      "display_name": "Python 3",
      "name": "python3"
    },
    "language_info": {
      "name": "python"
    },
    "accelerator": "GPU",
    "widgets": {
      "application/vnd.jupyter.widget-state+json": {
        "106a64ac669f4e029179fc7bc126eabf": {
          "model_module": "@jupyter-widgets/controls",
          "model_name": "HBoxModel",
          "model_module_version": "1.5.0",
          "state": {
            "_dom_classes": [],
            "_model_module": "@jupyter-widgets/controls",
            "_model_module_version": "1.5.0",
            "_model_name": "HBoxModel",
            "_view_count": null,
            "_view_module": "@jupyter-widgets/controls",
            "_view_module_version": "1.5.0",
            "_view_name": "HBoxView",
            "box_style": "",
            "children": [
              "IPY_MODEL_2b892945981841f78984ce1dff5f081c",
              "IPY_MODEL_8368c2607e3846d59de310e96beb6658",
              "IPY_MODEL_6d61ac8c070e492a9a1caccf3959687d"
            ],
            "layout": "IPY_MODEL_593e884f17844f77a6f486112c27d2d3"
          }
        },
        "2b892945981841f78984ce1dff5f081c": {
          "model_module": "@jupyter-widgets/controls",
          "model_name": "HTMLModel",
          "model_module_version": "1.5.0",
          "state": {
            "_dom_classes": [],
            "_model_module": "@jupyter-widgets/controls",
            "_model_module_version": "1.5.0",
            "_model_name": "HTMLModel",
            "_view_count": null,
            "_view_module": "@jupyter-widgets/controls",
            "_view_module_version": "1.5.0",
            "_view_name": "HTMLView",
            "description": "",
            "description_tooltip": null,
            "layout": "IPY_MODEL_90606a47e4064bd8b41e0174d7ae1942",
            "placeholder": "​",
            "style": "IPY_MODEL_fc1ffca47f074a1593b166daa01e3e77",
            "value": "100%"
          }
        },
        "8368c2607e3846d59de310e96beb6658": {
          "model_module": "@jupyter-widgets/controls",
          "model_name": "FloatProgressModel",
          "model_module_version": "1.5.0",
          "state": {
            "_dom_classes": [],
            "_model_module": "@jupyter-widgets/controls",
            "_model_module_version": "1.5.0",
            "_model_name": "FloatProgressModel",
            "_view_count": null,
            "_view_module": "@jupyter-widgets/controls",
            "_view_module_version": "1.5.0",
            "_view_name": "ProgressView",
            "bar_style": "success",
            "description": "",
            "description_tooltip": null,
            "layout": "IPY_MODEL_d58e4dc02b294ac49693e52005a74dbc",
            "max": 170498071,
            "min": 0,
            "orientation": "horizontal",
            "style": "IPY_MODEL_3bbe79f78a8d458b9c5eaa75464c71fd",
            "value": 170498071
          }
        },
        "6d61ac8c070e492a9a1caccf3959687d": {
          "model_module": "@jupyter-widgets/controls",
          "model_name": "HTMLModel",
          "model_module_version": "1.5.0",
          "state": {
            "_dom_classes": [],
            "_model_module": "@jupyter-widgets/controls",
            "_model_module_version": "1.5.0",
            "_model_name": "HTMLModel",
            "_view_count": null,
            "_view_module": "@jupyter-widgets/controls",
            "_view_module_version": "1.5.0",
            "_view_name": "HTMLView",
            "description": "",
            "description_tooltip": null,
            "layout": "IPY_MODEL_3964626412d94923880aba23be029b97",
            "placeholder": "​",
            "style": "IPY_MODEL_98976b8d1cf148caad92917d424dda2f",
            "value": " 170498071/170498071 [00:13&lt;00:00, 13651029.86it/s]"
          }
        },
        "593e884f17844f77a6f486112c27d2d3": {
          "model_module": "@jupyter-widgets/base",
          "model_name": "LayoutModel",
          "model_module_version": "1.2.0",
          "state": {
            "_model_module": "@jupyter-widgets/base",
            "_model_module_version": "1.2.0",
            "_model_name": "LayoutModel",
            "_view_count": null,
            "_view_module": "@jupyter-widgets/base",
            "_view_module_version": "1.2.0",
            "_view_name": "LayoutView",
            "align_content": null,
            "align_items": null,
            "align_self": null,
            "border": null,
            "bottom": null,
            "display": null,
            "flex": null,
            "flex_flow": null,
            "grid_area": null,
            "grid_auto_columns": null,
            "grid_auto_flow": null,
            "grid_auto_rows": null,
            "grid_column": null,
            "grid_gap": null,
            "grid_row": null,
            "grid_template_areas": null,
            "grid_template_columns": null,
            "grid_template_rows": null,
            "height": null,
            "justify_content": null,
            "justify_items": null,
            "left": null,
            "margin": null,
            "max_height": null,
            "max_width": null,
            "min_height": null,
            "min_width": null,
            "object_fit": null,
            "object_position": null,
            "order": null,
            "overflow": null,
            "overflow_x": null,
            "overflow_y": null,
            "padding": null,
            "right": null,
            "top": null,
            "visibility": null,
            "width": null
          }
        },
        "90606a47e4064bd8b41e0174d7ae1942": {
          "model_module": "@jupyter-widgets/base",
          "model_name": "LayoutModel",
          "model_module_version": "1.2.0",
          "state": {
            "_model_module": "@jupyter-widgets/base",
            "_model_module_version": "1.2.0",
            "_model_name": "LayoutModel",
            "_view_count": null,
            "_view_module": "@jupyter-widgets/base",
            "_view_module_version": "1.2.0",
            "_view_name": "LayoutView",
            "align_content": null,
            "align_items": null,
            "align_self": null,
            "border": null,
            "bottom": null,
            "display": null,
            "flex": null,
            "flex_flow": null,
            "grid_area": null,
            "grid_auto_columns": null,
            "grid_auto_flow": null,
            "grid_auto_rows": null,
            "grid_column": null,
            "grid_gap": null,
            "grid_row": null,
            "grid_template_areas": null,
            "grid_template_columns": null,
            "grid_template_rows": null,
            "height": null,
            "justify_content": null,
            "justify_items": null,
            "left": null,
            "margin": null,
            "max_height": null,
            "max_width": null,
            "min_height": null,
            "min_width": null,
            "object_fit": null,
            "object_position": null,
            "order": null,
            "overflow": null,
            "overflow_x": null,
            "overflow_y": null,
            "padding": null,
            "right": null,
            "top": null,
            "visibility": null,
            "width": null
          }
        },
        "fc1ffca47f074a1593b166daa01e3e77": {
          "model_module": "@jupyter-widgets/controls",
          "model_name": "DescriptionStyleModel",
          "model_module_version": "1.5.0",
          "state": {
            "_model_module": "@jupyter-widgets/controls",
            "_model_module_version": "1.5.0",
            "_model_name": "DescriptionStyleModel",
            "_view_count": null,
            "_view_module": "@jupyter-widgets/base",
            "_view_module_version": "1.2.0",
            "_view_name": "StyleView",
            "description_width": ""
          }
        },
        "d58e4dc02b294ac49693e52005a74dbc": {
          "model_module": "@jupyter-widgets/base",
          "model_name": "LayoutModel",
          "model_module_version": "1.2.0",
          "state": {
            "_model_module": "@jupyter-widgets/base",
            "_model_module_version": "1.2.0",
            "_model_name": "LayoutModel",
            "_view_count": null,
            "_view_module": "@jupyter-widgets/base",
            "_view_module_version": "1.2.0",
            "_view_name": "LayoutView",
            "align_content": null,
            "align_items": null,
            "align_self": null,
            "border": null,
            "bottom": null,
            "display": null,
            "flex": null,
            "flex_flow": null,
            "grid_area": null,
            "grid_auto_columns": null,
            "grid_auto_flow": null,
            "grid_auto_rows": null,
            "grid_column": null,
            "grid_gap": null,
            "grid_row": null,
            "grid_template_areas": null,
            "grid_template_columns": null,
            "grid_template_rows": null,
            "height": null,
            "justify_content": null,
            "justify_items": null,
            "left": null,
            "margin": null,
            "max_height": null,
            "max_width": null,
            "min_height": null,
            "min_width": null,
            "object_fit": null,
            "object_position": null,
            "order": null,
            "overflow": null,
            "overflow_x": null,
            "overflow_y": null,
            "padding": null,
            "right": null,
            "top": null,
            "visibility": null,
            "width": null
          }
        },
        "3bbe79f78a8d458b9c5eaa75464c71fd": {
          "model_module": "@jupyter-widgets/controls",
          "model_name": "ProgressStyleModel",
          "model_module_version": "1.5.0",
          "state": {
            "_model_module": "@jupyter-widgets/controls",
            "_model_module_version": "1.5.0",
            "_model_name": "ProgressStyleModel",
            "_view_count": null,
            "_view_module": "@jupyter-widgets/base",
            "_view_module_version": "1.2.0",
            "_view_name": "StyleView",
            "bar_color": null,
            "description_width": ""
          }
        },
        "3964626412d94923880aba23be029b97": {
          "model_module": "@jupyter-widgets/base",
          "model_name": "LayoutModel",
          "model_module_version": "1.2.0",
          "state": {
            "_model_module": "@jupyter-widgets/base",
            "_model_module_version": "1.2.0",
            "_model_name": "LayoutModel",
            "_view_count": null,
            "_view_module": "@jupyter-widgets/base",
            "_view_module_version": "1.2.0",
            "_view_name": "LayoutView",
            "align_content": null,
            "align_items": null,
            "align_self": null,
            "border": null,
            "bottom": null,
            "display": null,
            "flex": null,
            "flex_flow": null,
            "grid_area": null,
            "grid_auto_columns": null,
            "grid_auto_flow": null,
            "grid_auto_rows": null,
            "grid_column": null,
            "grid_gap": null,
            "grid_row": null,
            "grid_template_areas": null,
            "grid_template_columns": null,
            "grid_template_rows": null,
            "height": null,
            "justify_content": null,
            "justify_items": null,
            "left": null,
            "margin": null,
            "max_height": null,
            "max_width": null,
            "min_height": null,
            "min_width": null,
            "object_fit": null,
            "object_position": null,
            "order": null,
            "overflow": null,
            "overflow_x": null,
            "overflow_y": null,
            "padding": null,
            "right": null,
            "top": null,
            "visibility": null,
            "width": null
          }
        },
        "98976b8d1cf148caad92917d424dda2f": {
          "model_module": "@jupyter-widgets/controls",
          "model_name": "DescriptionStyleModel",
          "model_module_version": "1.5.0",
          "state": {
            "_model_module": "@jupyter-widgets/controls",
            "_model_module_version": "1.5.0",
            "_model_name": "DescriptionStyleModel",
            "_view_count": null,
            "_view_module": "@jupyter-widgets/base",
            "_view_module_version": "1.2.0",
            "_view_name": "StyleView",
            "description_width": ""
          }
        }
      }
    }
  },
  "cells": [
    {
      "cell_type": "markdown",
      "metadata": {
        "id": "5mK5XAIf9jga"
      },
      "source": [
        "#Training Neural Networks\n",
        "In this lab session, we will practice the training techniques and recipes seen during the theoretical sessions. Remember that there are three main aspects you have to consider:\n",
        "\n",
        "\n",
        "1.   One time setup considerations.\n",
        "2.   Improve your training error.\n",
        "3.   Improve your test error.\n",
        "\n",
        "We will stick ourselves to a fixed MLP architecture and see how different training techniques impact our results, both in train and development. Finally, using all the lessons learned, we will train our MLP and check the results in the test data."
      ]
    },
    {
      "cell_type": "markdown",
      "metadata": {
        "id": "jRhTJGkRAcFt"
      },
      "source": [
        "##The dataset\n",
        "We will work with a dataset of images called [CIFAR-10](https://www.cs.toronto.edu/~kriz/cifar.html). In this dataset, we have images of size $32 \\times 32 \\times 3$, corresponding to height (H), width (W) and channels (C). Remember that coloured images use 3 channels (red-green-blue).\n",
        "\n",
        "All the images of the dataset are classified into 10 classes: airplane, automobile, bird, cat, deer, dog, frog, horse, ship and truck. So, our task is to build a neural network that classifies images correctly. But first of all, let's download the dataset to prepare it."
      ]
    },
    {
      "cell_type": "code",
      "metadata": {
        "id": "sLW8N0ib6KI4",
        "colab": {
          "base_uri": "https://localhost:8080/",
          "height": 101,
          "referenced_widgets": [
            "106a64ac669f4e029179fc7bc126eabf",
            "2b892945981841f78984ce1dff5f081c",
            "8368c2607e3846d59de310e96beb6658",
            "6d61ac8c070e492a9a1caccf3959687d",
            "593e884f17844f77a6f486112c27d2d3",
            "90606a47e4064bd8b41e0174d7ae1942",
            "fc1ffca47f074a1593b166daa01e3e77",
            "d58e4dc02b294ac49693e52005a74dbc",
            "3bbe79f78a8d458b9c5eaa75464c71fd",
            "3964626412d94923880aba23be029b97",
            "98976b8d1cf148caad92917d424dda2f"
          ]
        },
        "outputId": "74b45d35-580e-4713-824f-1a293d1acc0a"
      },
      "source": [
        "import torch\n",
        "from torch import nn\n",
        "from torch.utils.data import Dataset, Subset, DataLoader\n",
        "import torchvision\n",
        "from torchvision import datasets\n",
        "from torchvision import transforms\n",
        "import matplotlib.pyplot as plt\n",
        "\n",
        "\n",
        "training_data = datasets.CIFAR10(\n",
        "    root=\"data\",\n",
        "    train=True,\n",
        "    download=True,\n",
        "    transform=transforms.ToTensor()\n",
        ")\n",
        "\n",
        "print(f'Dataset samples: {len(training_data)}')"
      ],
      "execution_count": null,
      "outputs": [
        {
          "output_type": "stream",
          "name": "stdout",
          "text": [
            "Downloading https://www.cs.toronto.edu/~kriz/cifar-10-python.tar.gz to data/cifar-10-python.tar.gz\n"
          ]
        },
        {
          "output_type": "display_data",
          "data": {
            "text/plain": [
              "  0%|          | 0/170498071 [00:00<?, ?it/s]"
            ],
            "application/vnd.jupyter.widget-view+json": {
              "version_major": 2,
              "version_minor": 0,
              "model_id": "106a64ac669f4e029179fc7bc126eabf"
            }
          },
          "metadata": {}
        },
        {
          "output_type": "stream",
          "name": "stdout",
          "text": [
            "Extracting data/cifar-10-python.tar.gz to data\n",
            "Dataset samples: 50000\n"
          ]
        }
      ]
    },
    {
      "cell_type": "markdown",
      "metadata": {
        "id": "mlAxm5BJCPMc"
      },
      "source": [
        "We have only downloaded training images, to have a dataset of 50 thousand images. Remember that test images cannot be used during the design and development of our neural network. However, to guide our decisions regarding hyperparameters, we will generate a **development set**. The best way to do that is to use a **stratified** partition, i.e. a random partition where we maintain the original distribution of classes. For that purpose, we use the `train_test_split()` function of scikit-learn. "
      ]
    },
    {
      "cell_type": "code",
      "metadata": {
        "id": "6iz9gMmeG-MO",
        "colab": {
          "base_uri": "https://localhost:8080/"
        },
        "outputId": "5c05e06f-7e4c-4ab8-84a4-1a7f7038e4f8"
      },
      "source": [
        "# Split the indices in a stratified way\n",
        "import numpy as np\n",
        "from sklearn.model_selection import train_test_split\n",
        "\n",
        "indices = np.arange(len(training_data))\n",
        "train_indices, dev_indices = train_test_split(indices, train_size=40000, stratify=training_data.targets, random_state=42)\n",
        "\n",
        "train_set = Subset(training_data, train_indices)\n",
        "dev_set = Subset(training_data, dev_indices)\n",
        "\n",
        "print(f'Train samples: {len(train_set)}')\n",
        "print(f'Dev samples: {len(dev_set)}')"
      ],
      "execution_count": null,
      "outputs": [
        {
          "output_type": "stream",
          "name": "stdout",
          "text": [
            "Train samples: 40000\n",
            "Dev samples: 10000\n"
          ]
        }
      ]
    },
    {
      "cell_type": "markdown",
      "metadata": {
        "id": "z8C6-qJqFrx0"
      },
      "source": [
        "Check whether both sets are balanced in terms of the number of samples for each class. The following cell calculates the percentage of samples of each set for each of the labels. Remember that train and dev sets should follow the same distribution:"
      ]
    },
    {
      "cell_type": "code",
      "metadata": {
        "id": "MoxXLtgfO2ZB",
        "colab": {
          "base_uri": "https://localhost:8080/"
        },
        "outputId": "c457bd6e-c6f6-4e05-9109-b16389522d4c"
      },
      "source": [
        "from collections import Counter\n",
        "\n",
        "train_counter = Counter(list(zip(*train_set))[1])\n",
        "train_sorted = sorted(train_counter.items(), key = lambda kv: kv[0])\n",
        "train_sorted_labels = list(zip(*train_sorted))[0]\n",
        "train_percentages = np.array(list(zip(*train_sorted))[1]) / len(train_set)\n",
        "\n",
        "dev_counter = Counter(list(zip(*dev_set))[1])\n",
        "dev_sorted = sorted(dev_counter.items(), key = lambda kv: kv[0])\n",
        "dev_sorted_labels = list(zip(*dev_sorted))[0]\n",
        "dev_percentages = np.array(list(zip(*dev_sorted))[1]) / len(dev_set)\n",
        "\n",
        "print(f\"Train (label, %): {list(zip(train_sorted_labels, train_percentages))}\")\n",
        "print(f\"Dev (label, %): {list(zip(dev_sorted_labels, dev_percentages))}\")"
      ],
      "execution_count": null,
      "outputs": [
        {
          "output_type": "stream",
          "name": "stdout",
          "text": [
            "Train (label, %): [(0, 0.1), (1, 0.1), (2, 0.1), (3, 0.1), (4, 0.1), (5, 0.1), (6, 0.1), (7, 0.1), (8, 0.1), (9, 0.1)]\n",
            "Dev (label, %): [(0, 0.1), (1, 0.1), (2, 0.1), (3, 0.1), (4, 0.1), (5, 0.1), (6, 0.1), (7, 0.1), (8, 0.1), (9, 0.1)]\n"
          ]
        }
      ]
    },
    {
      "cell_type": "markdown",
      "metadata": {
        "id": "XqlMtnJ41YQL"
      },
      "source": [
        "As can be seen, both sets are perfectly balanced: each class represents the 10% of both sets. "
      ]
    },
    {
      "cell_type": "markdown",
      "metadata": {
        "id": "CJ6CCkHJBOhC"
      },
      "source": [
        "We can have a look at the images of the train set, to have an idea of what kind of problem we are facing.\n",
        "\n",
        "**NOTE:** When using images in Pytorch, the tensors are arranged as (C, H, W), instead of the more common (H, W, C) format. Take that into account, specially for visualization."
      ]
    },
    {
      "cell_type": "code",
      "metadata": {
        "id": "2tN6ctN-D7PJ",
        "colab": {
          "base_uri": "https://localhost:8080/",
          "height": 482
        },
        "outputId": "cbd7ee92-dcb0-44d5-8024-fddc8409655e"
      },
      "source": [
        "labels_map = {\n",
        "    0: \"airplane\",\n",
        "    1: \"automobile\",\n",
        "    2: \"bird\",\n",
        "    3: \"cat\",\n",
        "    4: \"deer\",\n",
        "    5: \"dog\",\n",
        "    6: \"frog\",\n",
        "    7: \"horse\",\n",
        "    8: \"ship\",\n",
        "    9: \"truck\",\n",
        "}\n",
        "figure = plt.figure(figsize=(8, 8))\n",
        "cols, rows = 3, 3\n",
        "for i in range(1, cols * rows + 1):\n",
        "    sample_idx = torch.randint(len(train_set), size=(1,)).item()\n",
        "    img, label = train_set[sample_idx]    \n",
        "    figure.add_subplot(rows, cols, i)\n",
        "    plt.title(labels_map[label])\n",
        "    plt.axis(\"off\")\n",
        "    plt.imshow(img.permute(1, 2, 0)) # Permute since Pytorch uses (C, H, W) and plt needs (H, W, C)\n",
        "plt.show()"
      ],
      "execution_count": null,
      "outputs": [
        {
          "output_type": "display_data",
          "data": {
            "text/plain": [
              "<Figure size 576x576 with 9 Axes>"
            ],
            "image/png": "[encoded data removed]"
          },
          "metadata": {
            "needs_background": "light"
          }
        }
      ]
    },
    {
      "cell_type": "markdown",
      "metadata": {
        "id": "GcrwzkREKdyK"
      },
      "source": [
        "##The neural network\n",
        "We will use a multi-layer perceptron (MLP) for this task. As we said before, we will not change the architecture of the model, as we are not interested on architectural decisions for now (how many layers? How many neurons in each layer?).\n",
        "\n",
        "**EXERCISE:** Design a multi-layer perceptron (MLP) with the following architecture: INPUT -> LINEAR(512) -> ReLU -> LINEAR(512) -> ReLU -> LINEAR(10)\n",
        "\n",
        "**NOTE:** Remember that images are tensors of shape (3, 32, 32) and the input for a linear layer should be a vector (in this case of size $3\\times 32 \\times 32 = 3072$).\n",
        "\n",
        "**TODO:** Decide where and how to explain the issue about the absence of an activation function in the output layer and the Pytorch CrossEntropyLoss (softmax + NLL loss)."
      ]
    },
    {
      "cell_type": "code",
      "metadata": {
        "id": "ElPIT-AnqWiM",
        "colab": {
          "base_uri": "https://localhost:8080/"
        },
        "outputId": "f5cb3946-55db-46f0-c957-a02679d2c214"
      },
      "source": [
        "# For reproducibility\n",
        "torch.manual_seed(0)\n",
        "\n",
        "class MyMLP(nn.Module):\n",
        "    def __init__(self):\n",
        "      super(MyMLP, self).__init__()\n",
        "      self.flatten = nn.Flatten()\n",
        "      self.linear1 = nn.Linear(3072, 512)\n",
        "      self.relu = nn.ReLU()\n",
        "      self.linear2 = nn.Linear(512, 512)\n",
        "      self.linear3 = nn.Linear(512, 10)\n",
        "\n",
        "    def forward(self, x):\n",
        "      x = self.flatten(x)\n",
        "      logits = self.linear1(x)\n",
        "      logits = self.relu(logits)\n",
        "      logits = self.linear2(logits)\n",
        "      logits = self.relu(logits)\n",
        "      logits = self.linear3(logits)\n",
        "\n",
        "      return logits\n",
        "\n",
        "model = MyMLP()\n",
        "\n",
        "# Print the number of trainable parameters\n",
        "print(sum(p.numel() for p in model.parameters() if p.requires_grad))"
      ],
      "execution_count": null,
      "outputs": [
        {
          "output_type": "stream",
          "name": "stdout",
          "text": [
            "1841162\n"
          ]
        }
      ]
    },
    {
      "cell_type": "markdown",
      "metadata": {
        "id": "2O5SA17qBfvD"
      },
      "source": [
        "Your MLP should have 1,841,162 learnable parameters, i.e. slightly above 1.8M parameters. \n",
        "\n",
        "During the set-up of a neural network, many training processes have to be performed, so training time becomes an essential part of the problem. To speed-up our training processes, we will use a GPU availabe in Colab. The following cell assigns `cuda` to the variable `device` if a GPU is available."
      ]
    },
    {
      "cell_type": "code",
      "metadata": {
        "id": "-Zb7wuFkrl_g",
        "colab": {
          "base_uri": "https://localhost:8080/"
        },
        "outputId": "03d4dc2a-f9ea-432c-ceb8-6d7f69bf2f14"
      },
      "source": [
        "device = 'cuda' if torch.cuda.is_available() else 'cpu'\n",
        "print('Using {} device'.format(device))\n",
        "model = model.to(device)\n",
        "print(model)"
      ],
      "execution_count": null,
      "outputs": [
        {
          "output_type": "stream",
          "name": "stdout",
          "text": [
            "Using cuda device\n",
            "MyMLP(\n",
            "  (flatten): Flatten(start_dim=1, end_dim=-1)\n",
            "  (linear1): Linear(in_features=3072, out_features=512, bias=True)\n",
            "  (relu): ReLU()\n",
            "  (linear2): Linear(in_features=512, out_features=512, bias=True)\n",
            "  (linear3): Linear(in_features=512, out_features=10, bias=True)\n",
            ")\n"
          ]
        }
      ]
    },
    {
      "cell_type": "markdown",
      "metadata": {
        "id": "jg7g2Y6cBj-_"
      },
      "source": [
        "We will also define the base train and test functions to use through the lab. Here you have the implementation of the functions `train_loop()` and `test_loop()`. Some details to highlight here: \n",
        "\n",
        "1.   Notice how we use `model.train()` and `model.eval()`. This is very important. As model behaviour during training and testing may be different (due to batch normalization and dropout, for example), Pytorch needs to know the \"mode\" in which we are using the model. It is also important as Pytorch does not store the gradients in `eval` mode, making calculations faster. Thus, when training, set `model.train()` and when testing, set `model.eval()`. \n",
        "2.   The function `test_loop` will be used for both development and test data. The process is the same for both datasets. The only thing that changes is the dataset itself. "
      ]
    },
    {
      "cell_type": "code",
      "metadata": {
        "id": "7MDSOm8K93lw"
      },
      "source": [
        "def train_loop(dataloader, model, loss_fn, optimizer, device):        \n",
        "    model.train()\n",
        "    size = len(dataloader.dataset)\n",
        "    num_batches = len(dataloader)\n",
        "    train_loss, train_acc = 0, 0\n",
        "\n",
        "    for batch, (X, y) in enumerate(dataloader):\n",
        "      X = X.to(device)\n",
        "      y = y.to(device)\n",
        "      # Compute prediction and loss\n",
        "      pred = model(X)\n",
        "      loss = loss_fn(pred, y)\n",
        "        \n",
        "      # Backpropagation\n",
        "      optimizer.zero_grad()\n",
        "      loss.backward()\n",
        "      optimizer.step()\n",
        "\n",
        "      # Store loss and accuracy\n",
        "      train_loss += loss.item()\n",
        "      train_acc += (pred.argmax(1) == y).type(torch.float).sum().item()\n",
        "\n",
        "      if batch % 100 == 0:\n",
        "        loss, current = loss.item(), batch * len(X)\n",
        "        print(f\"loss: {loss:>7f}  [{current:>5d}/{size:>5d}]\")\n",
        "      \n",
        "    train_loss /= num_batches\n",
        "    train_acc /= size\n",
        "    return train_loss, train_acc\n",
        "\n",
        "def test_loop(dataloader, model, loss_fn, device):\n",
        "    model.eval()\n",
        "    size = len(dataloader.dataset)\n",
        "    num_batches = len(dataloader)\n",
        "    test_loss, test_acc = 0, 0\n",
        "\n",
        "    with torch.no_grad():\n",
        "        for X, y in dataloader:\n",
        "          X = X.to(device)\n",
        "          y = y.to(device)\n",
        "          pred = model(X)\n",
        "          test_loss += loss_fn(pred, y).item()\n",
        "          test_acc += (pred.argmax(1) == y).type(torch.float).sum().item()\n",
        "            \n",
        "    test_loss /= num_batches\n",
        "    test_acc /= size\n",
        "    print(f\"Test Error: \\n Accuracy: {(100*test_acc):>0.1f}%, Avg loss: {test_loss:>8f} \\n\")\n",
        "    return test_loss, test_acc"
      ],
      "execution_count": null,
      "outputs": []
    },
    {
      "cell_type": "markdown",
      "metadata": {
        "id": "t5cqFPci-9xy"
      },
      "source": [
        "##One time setup considerations\n",
        "During the theoretical sessions, we saw that this step is to decide about activation functions, data preprocessing, weight initialization and batch normalization. Given the time constraints we have for the lab, we will not explore different activation functions. ReLU is our choice for all the layers. Similarly, regarding data preprocessing, we wil only scale the pixel values of the images from [0, 255] to [0, 1], and discard futher exploration. But we will skim through weight initialization and batch normalization."
      ]
    },
    {
      "cell_type": "markdown",
      "metadata": {
        "id": "6Ddim5r-dSZ_"
      },
      "source": [
        "###Weight initialization\n",
        "When we use `torch.nn.Linear()`, Pytorch uses Xavier initialization by default. Hence, our `MyMLP` model is configured to use that initialization. Let's train it for 10 epochs to see the results we obtain in train.\n",
        "\n",
        "**EXERCISE:** Fill in the gaps following the comments."
      ]
    },
    {
      "cell_type": "code",
      "metadata": {
        "id": "55mSeTJydU_M",
        "colab": {
          "base_uri": "https://localhost:8080/"
        },
        "outputId": "c2694bf1-1365-41b0-9e6b-b056e43db4e0"
      },
      "source": [
        "import time\n",
        "\n",
        "learning_rate = 1e-3\n",
        "batch_size = 64\n",
        "epochs = 10\n",
        "\n",
        "# For reproducibility\n",
        "torch.manual_seed(0)\n",
        "\n",
        "# instantiate a MLP object in the model variable\n",
        "model = MyMLP()\n",
        "\n",
        "model = model.to(device)\n",
        "\n",
        "\n",
        "# create train_dataloader\n",
        "train_dataloader = DataLoader(train_set, batch_size, shuffle=True)\n",
        "\n",
        "\n",
        "# instantiate a cross-entropy loss in the loss_fn variable\n",
        "loss_fn = nn.CrossEntropyLoss()\n",
        "# instantiate a SGD optimizer in the optimizer variable\n",
        "optimizer = torch.optim.SGD(model.parameters(), lr=learning_rate)\n",
        "\n",
        "train_losses, train_accuracies  = [], []\n",
        "start = time.time()\n",
        "for t in range(epochs):\n",
        "    print(f\"Epoch {t+1}\\n-------------------------------\")\n",
        "    train_loss, train_acc = train_loop(train_dataloader, model, loss_fn, optimizer, device)\n",
        "    print(f'train loss: {train_loss}, train_acc: {train_acc}')\n",
        "    train_losses.append(train_loss)\n",
        "    train_accuracies.append(train_acc)    \n",
        "end = time.time()\n",
        "print(\"Done!\")\n",
        "print(f'Training time: {end-start}')"
      ],
      "execution_count": null,
      "outputs": [
        {
          "output_type": "stream",
          "name": "stdout",
          "text": [
            "Epoch 1\n",
            "-------------------------------\n",
            "loss: 2.321399  [    0/40000]\n",
            "loss: 2.298675  [ 6400/40000]\n",
            "loss: 2.301313  [12800/40000]\n",
            "loss: 2.291584  [19200/40000]\n",
            "loss: 2.285453  [25600/40000]\n",
            "loss: 2.281800  [32000/40000]\n",
            "loss: 2.256744  [38400/40000]\n",
            "train loss: 2.289400284957886, train_acc: 0.123825\n",
            "Epoch 2\n",
            "-------------------------------\n",
            "loss: 2.277507  [    0/40000]\n",
            "loss: 2.264313  [ 6400/40000]\n",
            "loss: 2.270339  [12800/40000]\n",
            "loss: 2.260579  [19200/40000]\n",
            "loss: 2.257062  [25600/40000]\n",
            "loss: 2.260245  [32000/40000]\n",
            "loss: 2.251670  [38400/40000]\n",
            "train loss: 2.2621935131072997, train_acc: 0.15635\n",
            "Epoch 3\n",
            "-------------------------------\n",
            "loss: 2.237804  [    0/40000]\n",
            "loss: 2.255041  [ 6400/40000]\n",
            "loss: 2.249975  [12800/40000]\n",
            "loss: 2.224666  [19200/40000]\n",
            "loss: 2.217215  [25600/40000]\n",
            "loss: 2.178922  [32000/40000]\n",
            "loss: 2.193448  [38400/40000]\n",
            "train loss: 2.2293982357025146, train_acc: 0.204175\n",
            "Epoch 4\n",
            "-------------------------------\n",
            "loss: 2.155501  [    0/40000]\n",
            "loss: 2.196642  [ 6400/40000]\n",
            "loss: 2.192002  [12800/40000]\n",
            "loss: 2.162945  [19200/40000]\n",
            "loss: 2.203750  [25600/40000]\n",
            "loss: 2.185112  [32000/40000]\n",
            "loss: 2.134984  [38400/40000]\n",
            "train loss: 2.1876717693328858, train_acc: 0.230775\n",
            "Epoch 5\n",
            "-------------------------------\n",
            "loss: 2.143427  [    0/40000]\n",
            "loss: 2.129568  [ 6400/40000]\n",
            "loss: 2.166054  [12800/40000]\n",
            "loss: 2.112760  [19200/40000]\n",
            "loss: 2.163131  [25600/40000]\n",
            "loss: 2.144737  [32000/40000]\n",
            "loss: 2.212461  [38400/40000]\n",
            "train loss: 2.1421538734436036, train_acc: 0.24845\n",
            "Epoch 6\n",
            "-------------------------------\n",
            "loss: 2.135482  [    0/40000]\n",
            "loss: 2.125205  [ 6400/40000]\n",
            "loss: 2.115561  [12800/40000]\n",
            "loss: 2.109330  [19200/40000]\n",
            "loss: 2.067723  [25600/40000]\n",
            "loss: 2.052858  [32000/40000]\n",
            "loss: 2.075198  [38400/40000]\n",
            "train loss: 2.101085787200928, train_acc: 0.2598\n",
            "Epoch 7\n",
            "-------------------------------\n",
            "loss: 2.003238  [    0/40000]\n",
            "loss: 2.038883  [ 6400/40000]\n",
            "loss: 2.024649  [12800/40000]\n",
            "loss: 2.108525  [19200/40000]\n",
            "loss: 2.049702  [25600/40000]\n",
            "loss: 2.107215  [32000/40000]\n",
            "loss: 2.098220  [38400/40000]\n",
            "train loss: 2.0673800312042236, train_acc: 0.273\n",
            "Epoch 8\n",
            "-------------------------------\n",
            "loss: 2.067147  [    0/40000]\n",
            "loss: 2.081777  [ 6400/40000]\n",
            "loss: 2.088174  [12800/40000]\n",
            "loss: 2.038637  [19200/40000]\n",
            "loss: 2.065353  [25600/40000]\n",
            "loss: 1.983237  [32000/40000]\n",
            "loss: 2.004593  [38400/40000]\n",
            "train loss: 2.0390077089309693, train_acc: 0.280675\n",
            "Epoch 9\n",
            "-------------------------------\n",
            "loss: 1.880912  [    0/40000]\n",
            "loss: 2.083016  [ 6400/40000]\n",
            "loss: 1.969815  [12800/40000]\n",
            "loss: 2.132741  [19200/40000]\n",
            "loss: 2.027336  [25600/40000]\n",
            "loss: 1.984849  [32000/40000]\n",
            "loss: 1.981171  [38400/40000]\n",
            "train loss: 2.014312187767029, train_acc: 0.292775\n",
            "Epoch 10\n",
            "-------------------------------\n",
            "loss: 1.959696  [    0/40000]\n",
            "loss: 2.077300  [ 6400/40000]\n",
            "loss: 2.100924  [12800/40000]\n",
            "loss: 2.035835  [19200/40000]\n",
            "loss: 2.084971  [25600/40000]\n",
            "loss: 1.971955  [32000/40000]\n",
            "loss: 2.028795  [38400/40000]\n",
            "train loss: 1.99209054813385, train_acc: 0.2992\n",
            "Done!\n",
            "Training time: 55.95779466629028\n"
          ]
        }
      ]
    },
    {
      "cell_type": "markdown",
      "metadata": {
        "id": "H6jy6Y6rVi3C"
      },
      "source": [
        "Our training accuracy is 0.299, very close to 0.3."
      ]
    },
    {
      "cell_type": "markdown",
      "metadata": {
        "id": "K2SovdlgeJ7M"
      },
      "source": [
        "We know from our theoretical sessions that when using ReLU activation function, He or Kaiming initialization should work better. Let's test it. We will implement a new class called `MyMLPKaiming` to apply He initialization to its linear layers. But we will keep the initial MLP architecture unchanged.\n",
        "\n",
        "**EXERCISE:** use `torch.nn.init.kaiming_uniform_` to re-initialize the weights of the linear layers."
      ]
    },
    {
      "cell_type": "code",
      "metadata": {
        "id": "5u-zJ_I9dUvN"
      },
      "source": [
        "class MyMLPKaiming(nn.Module):\n",
        "    def __init__(self):\n",
        "      super(MyMLPKaiming, self).__init__()\n",
        "      self.flatten = nn.Flatten()\n",
        "      self.linear1 = nn.Linear(3*32*32, 512)\n",
        "      nn.init.kaiming_uniform_(self.linear1.weight, mode='fan_in', nonlinearity='relu')\n",
        "\n",
        "      self.linear2 = nn.Linear(512, 512)\n",
        "      nn.init.kaiming_uniform_(self.linear2.weight, mode='fan_in', nonlinearity='relu')\n",
        "\n",
        "      self.linear3 = nn.Linear(512, 10)\n",
        "      nn.init.kaiming_uniform_(self.linear3.weight, mode='fan_in', nonlinearity='relu')\n",
        "\n",
        "      self.relu = nn.ReLU()\n",
        "\n",
        "    def forward(self, x):\n",
        "      x = self.flatten(x)\n",
        "      logits = self.linear1(x)\n",
        "      logits = self.relu(logits)\n",
        "      logits = self.linear2(logits)\n",
        "      logits = self.relu(logits)\n",
        "      logits = self.linear3(logits)\n",
        "\n",
        "      return logits"
      ],
      "execution_count": null,
      "outputs": []
    },
    {
      "cell_type": "markdown",
      "metadata": {
        "id": "Su92aJHJq8td"
      },
      "source": [
        "We will train the new model just as before, to compare the results fairly.\n",
        "\n",
        "**EXERCISE:** Fill in the gaps following the comments."
      ]
    },
    {
      "cell_type": "code",
      "metadata": {
        "id": "Az6H9xRNed0p",
        "colab": {
          "base_uri": "https://localhost:8080/"
        },
        "outputId": "7e379789-166a-4c32-cbaa-5fee6930f9e5"
      },
      "source": [
        "import time\n",
        "\n",
        "learning_rate = 1e-3\n",
        "batch_size = 64\n",
        "epochs = 10\n",
        "\n",
        "# For reproducibility\n",
        "torch.manual_seed(0)\n",
        "\n",
        "# instantiate a MLPKaiming object in the model variable\n",
        "model = MyMLPKaiming()\n",
        "model = model.to(device)\n",
        "\n",
        "\n",
        "# create train_dataloader\n",
        "train_dataloader = DataLoader(train_set, batch_size, shuffle=True)\n",
        "\n",
        "\n",
        "\n",
        "# instantiate a cross-entropy loss in the loss_fn variable\n",
        "loss_fn = nn.CrossEntropyLoss()\n",
        "# instantiate a SGD optimizer in the optimizer variable\n",
        "optimizer = torch.optim.SGD(model.parameters(), lr=learning_rate)\n",
        "\n",
        "train_losses, train_accuracies  = [], []\n",
        "start = time.time()\n",
        "for t in range(epochs):\n",
        "    print(f\"Epoch {t+1}\\n-------------------------------\")\n",
        "    train_loss, train_acc = train_loop(train_dataloader, model, loss_fn, optimizer, device)\n",
        "    print(f'train loss: {train_loss}, train_acc: {train_acc}')\n",
        "    train_losses.append(train_loss)\n",
        "    train_accuracies.append(train_acc)    \n",
        "end = time.time()\n",
        "print(\"Done!\")\n",
        "print(f'Training time: {end-start}')"
      ],
      "execution_count": null,
      "outputs": [
        {
          "output_type": "stream",
          "name": "stdout",
          "text": [
            "Epoch 1\n",
            "-------------------------------\n",
            "loss: 2.576493  [    0/40000]\n",
            "loss: 2.255191  [ 6400/40000]\n",
            "loss: 2.205885  [12800/40000]\n",
            "loss: 2.031555  [19200/40000]\n",
            "loss: 2.023610  [25600/40000]\n",
            "loss: 1.996216  [32000/40000]\n",
            "loss: 2.081941  [38400/40000]\n",
            "train loss: 2.1373119636535645, train_acc: 0.233575\n",
            "Epoch 2\n",
            "-------------------------------\n",
            "loss: 2.011819  [    0/40000]\n",
            "loss: 1.993810  [ 6400/40000]\n",
            "loss: 1.874771  [12800/40000]\n",
            "loss: 2.086034  [19200/40000]\n",
            "loss: 1.822790  [25600/40000]\n",
            "loss: 1.978346  [32000/40000]\n",
            "loss: 1.960433  [38400/40000]\n",
            "train loss: 1.9692356962203978, train_acc: 0.311925\n",
            "Epoch 3\n",
            "-------------------------------\n",
            "loss: 2.000031  [    0/40000]\n",
            "loss: 1.899098  [ 6400/40000]\n",
            "loss: 2.051569  [12800/40000]\n",
            "loss: 1.907200  [19200/40000]\n",
            "loss: 1.868016  [25600/40000]\n",
            "loss: 1.974382  [32000/40000]\n",
            "loss: 2.028292  [38400/40000]\n",
            "train loss: 1.897565640449524, train_acc: 0.339\n",
            "Epoch 4\n",
            "-------------------------------\n",
            "loss: 1.971719  [    0/40000]\n",
            "loss: 1.899888  [ 6400/40000]\n",
            "loss: 1.732381  [12800/40000]\n",
            "loss: 1.893157  [19200/40000]\n",
            "loss: 1.965128  [25600/40000]\n",
            "loss: 1.846370  [32000/40000]\n",
            "loss: 1.898222  [38400/40000]\n",
            "train loss: 1.8532823190689087, train_acc: 0.3544\n",
            "Epoch 5\n",
            "-------------------------------\n",
            "loss: 1.898782  [    0/40000]\n",
            "loss: 1.687359  [ 6400/40000]\n",
            "loss: 1.839790  [12800/40000]\n",
            "loss: 1.720008  [19200/40000]\n",
            "loss: 2.020488  [25600/40000]\n",
            "loss: 1.815910  [32000/40000]\n",
            "loss: 1.892446  [38400/40000]\n",
            "train loss: 1.8214970539093018, train_acc: 0.3673\n",
            "Epoch 6\n",
            "-------------------------------\n",
            "loss: 1.987564  [    0/40000]\n",
            "loss: 1.898907  [ 6400/40000]\n",
            "loss: 1.684171  [12800/40000]\n",
            "loss: 1.965661  [19200/40000]\n",
            "loss: 1.837380  [25600/40000]\n",
            "loss: 1.626323  [32000/40000]\n",
            "loss: 1.700479  [38400/40000]\n",
            "train loss: 1.7971192386627197, train_acc: 0.3751\n",
            "Epoch 7\n",
            "-------------------------------\n",
            "loss: 1.704776  [    0/40000]\n",
            "loss: 1.833216  [ 6400/40000]\n",
            "loss: 1.697687  [12800/40000]\n",
            "loss: 1.689286  [19200/40000]\n",
            "loss: 1.953229  [25600/40000]\n",
            "loss: 1.895254  [32000/40000]\n",
            "loss: 1.735568  [38400/40000]\n",
            "train loss: 1.7766886249542235, train_acc: 0.3828\n",
            "Epoch 8\n",
            "-------------------------------\n",
            "loss: 1.837465  [    0/40000]\n",
            "loss: 1.812254  [ 6400/40000]\n",
            "loss: 1.652487  [12800/40000]\n",
            "loss: 1.635995  [19200/40000]\n",
            "loss: 1.785496  [25600/40000]\n",
            "loss: 1.852312  [32000/40000]\n",
            "loss: 1.585063  [38400/40000]\n",
            "train loss: 1.7586638051986694, train_acc: 0.391075\n",
            "Epoch 9\n",
            "-------------------------------\n",
            "loss: 1.769263  [    0/40000]\n",
            "loss: 1.807620  [ 6400/40000]\n",
            "loss: 1.483950  [12800/40000]\n",
            "loss: 1.569744  [19200/40000]\n",
            "loss: 1.739772  [25600/40000]\n",
            "loss: 1.755484  [32000/40000]\n",
            "loss: 1.759478  [38400/40000]\n",
            "train loss: 1.7425328926086425, train_acc: 0.397025\n",
            "Epoch 10\n",
            "-------------------------------\n",
            "loss: 1.629078  [    0/40000]\n",
            "loss: 1.629498  [ 6400/40000]\n",
            "loss: 1.753302  [12800/40000]\n",
            "loss: 1.635709  [19200/40000]\n",
            "loss: 1.731083  [25600/40000]\n",
            "loss: 1.747033  [32000/40000]\n",
            "loss: 1.889082  [38400/40000]\n",
            "train loss: 1.7280087921142577, train_acc: 0.400525\n",
            "Done!\n",
            "Training time: 54.745646715164185\n"
          ]
        }
      ]
    },
    {
      "cell_type": "markdown",
      "metadata": {
        "id": "Ndoq8dlUfKAE"
      },
      "source": [
        "This is quite a big improvement! When linear layers were initialized with Xavier initialization, we had a training accuracy of 0.29. Now, with He initialization, we achieve 0.40. So far, we have seen that using He initialization our optimization improves faster in 10 epochs."
      ]
    },
    {
      "cell_type": "markdown",
      "metadata": {
        "id": "RFnx8EtPhl0a"
      },
      "source": [
        "###Batch normalization\n",
        "To implement batch normalization, we have to create another class. We will name it `MyMLPBN`. Remember that batch normalization normalizes activations with learned means and variances on mini-batches. \n",
        "\n",
        "**EXERCISE:** implement the necessary code to apply batch normalization to our MLP, both in the `__init__` and `forward` functions. Create 2 batch normalization layers, as much as hidden layers we have in the network, and apply them correctly in the forward pass."
      ]
    },
    {
      "cell_type": "code",
      "metadata": {
        "id": "iWmNt1VvhpAo"
      },
      "source": [
        "class MyMLPBN(nn.Module):\n",
        "    def __init__(self):\n",
        "      super(MyMLPBN, self).__init__()\n",
        "      self.flatten = nn.Flatten()\n",
        "      self.linear1 = nn.Linear(3*32*32, 512)\n",
        "      torch.nn.init.kaiming_uniform_(self.linear1.weight)\n",
        "      self.linear1_bn = nn.BatchNorm1d(512)\n",
        "\n",
        "      self.linear2 = nn.Linear(512, 512)\n",
        "      torch.nn.init.kaiming_uniform_(self.linear2.weight)\n",
        "      self.linear2_bn = nn.BatchNorm1d(512)\n",
        "      self.relu = nn.ReLU()\n",
        "\n",
        "      self.linear3 = nn.Linear(512, 10)\n",
        "      torch.nn.init.kaiming_uniform_(self.linear3.weight)      \n",
        "\n",
        "    def forward(self, x):\n",
        "      x = self.flatten(x)\n",
        "      logits = self.linear1(x)\n",
        "      logits =  self.linear1_bn(logits)\n",
        "      logits = self.relu(logits)\n",
        "      logits = self.linear2(logits)\n",
        "      logits =  self.linear2_bn(logits)\n",
        "      logits = self.relu(logits)\n",
        "      logits = self.linear3(logits)\n",
        "\n",
        "      return logits"
      ],
      "execution_count": null,
      "outputs": []
    },
    {
      "cell_type": "markdown",
      "metadata": {
        "id": "hrs8wG0x1YDf"
      },
      "source": [
        "We are ready to train this new model with batch normalization. Again, we will use the same setting as the previous experiments, to fairly compare the obtained results.\n",
        "\n",
        "**EXERCISE:** fill in the gaps following the comments."
      ]
    },
    {
      "cell_type": "code",
      "metadata": {
        "id": "ygVTfYXbip0D",
        "colab": {
          "base_uri": "https://localhost:8080/"
        },
        "outputId": "b0f94839-db96-4738-9b64-da180fbb6b97"
      },
      "source": [
        "import time\n",
        "\n",
        "learning_rate = 1e-3\n",
        "batch_size = 64\n",
        "epochs = 10\n",
        "\n",
        "# For reproducibility\n",
        "torch.manual_seed(0)\n",
        "\n",
        "# instantiate a MyMLPBN object in the variable model\n",
        "model = MyMLPBN()\n",
        "model = model.to(device)\n",
        "\n",
        "# create train_dataloader\n",
        "train_dataloader = DataLoader(train_set, batch_size, shuffle=True)\n",
        "\n",
        "# instantiate a cross-entropy loss in the loss_fn variable\n",
        "loss_fn = nn.CrossEntropyLoss()\n",
        "# instantiate a SGD optimizer in the optimizer variable\n",
        "optimizer = torch.optim.SGD(model.parameters(), lr=learning_rate)\n",
        "\n",
        "\n",
        "train_losses, train_accuracies  = [], []\n",
        "start = time.time()\n",
        "for t in range(epochs):\n",
        "    print(f\"Epoch {t+1}\\n-------------------------------\")\n",
        "    train_loss, train_acc = train_loop(train_dataloader, model, loss_fn, optimizer, device)\n",
        "    print(f'train loss: {train_loss}, train_acc: {train_acc}')\n",
        "    train_losses.append(train_loss)\n",
        "    train_accuracies.append(train_acc)    \n",
        "end = time.time()\n",
        "print(\"Done!\")\n",
        "print(f'Training time: {end-start}')"
      ],
      "execution_count": null,
      "outputs": [
        {
          "output_type": "stream",
          "name": "stdout",
          "text": [
            "Epoch 1\n",
            "-------------------------------\n",
            "loss: 2.817509  [    0/40000]\n",
            "loss: 2.345899  [ 6400/40000]\n",
            "loss: 2.114495  [12800/40000]\n",
            "loss: 1.980695  [19200/40000]\n",
            "loss: 1.765399  [25600/40000]\n",
            "loss: 1.882576  [32000/40000]\n",
            "loss: 1.945652  [38400/40000]\n",
            "train loss: 2.0921828987121582, train_acc: 0.2583\n",
            "Epoch 2\n",
            "-------------------------------\n",
            "loss: 1.961039  [    0/40000]\n",
            "loss: 1.781703  [ 6400/40000]\n",
            "loss: 1.574205  [12800/40000]\n",
            "loss: 2.086886  [19200/40000]\n",
            "loss: 1.637454  [25600/40000]\n",
            "loss: 1.831735  [32000/40000]\n",
            "loss: 1.857150  [38400/40000]\n",
            "train loss: 1.8189907167434693, train_acc: 0.35715\n",
            "Epoch 3\n",
            "-------------------------------\n",
            "loss: 1.951620  [    0/40000]\n",
            "loss: 1.767130  [ 6400/40000]\n",
            "loss: 1.831410  [12800/40000]\n",
            "loss: 1.731973  [19200/40000]\n",
            "loss: 1.642663  [25600/40000]\n",
            "loss: 1.747823  [32000/40000]\n",
            "loss: 1.764001  [38400/40000]\n",
            "train loss: 1.7245716659545898, train_acc: 0.39345\n",
            "Epoch 4\n",
            "-------------------------------\n",
            "loss: 1.812390  [    0/40000]\n",
            "loss: 1.683945  [ 6400/40000]\n",
            "loss: 1.548675  [12800/40000]\n",
            "loss: 1.827245  [19200/40000]\n",
            "loss: 1.747155  [25600/40000]\n",
            "loss: 1.667358  [32000/40000]\n",
            "loss: 1.679645  [38400/40000]\n",
            "train loss: 1.66435025806427, train_acc: 0.4163\n",
            "Epoch 5\n",
            "-------------------------------\n",
            "loss: 1.653943  [    0/40000]\n",
            "loss: 1.352347  [ 6400/40000]\n",
            "loss: 1.644274  [12800/40000]\n",
            "loss: 1.464799  [19200/40000]\n",
            "loss: 1.840215  [25600/40000]\n",
            "loss: 1.693992  [32000/40000]\n",
            "loss: 1.632886  [38400/40000]\n",
            "train loss: 1.6185749670028686, train_acc: 0.432725\n",
            "Epoch 6\n",
            "-------------------------------\n",
            "loss: 1.851068  [    0/40000]\n",
            "loss: 1.737493  [ 6400/40000]\n",
            "loss: 1.336938  [12800/40000]\n",
            "loss: 1.753457  [19200/40000]\n",
            "loss: 1.536329  [25600/40000]\n",
            "loss: 1.451470  [32000/40000]\n",
            "loss: 1.341887  [38400/40000]\n",
            "train loss: 1.5824834987640382, train_acc: 0.446575\n",
            "Epoch 7\n",
            "-------------------------------\n",
            "loss: 1.453067  [    0/40000]\n",
            "loss: 1.726584  [ 6400/40000]\n",
            "loss: 1.547500  [12800/40000]\n",
            "loss: 1.361953  [19200/40000]\n",
            "loss: 1.720446  [25600/40000]\n",
            "loss: 1.692562  [32000/40000]\n",
            "loss: 1.533088  [38400/40000]\n",
            "train loss: 1.553100234222412, train_acc: 0.4563\n",
            "Epoch 8\n",
            "-------------------------------\n",
            "loss: 1.635116  [    0/40000]\n",
            "loss: 1.569665  [ 6400/40000]\n",
            "loss: 1.408708  [12800/40000]\n",
            "loss: 1.508362  [19200/40000]\n",
            "loss: 1.500719  [25600/40000]\n",
            "loss: 1.535597  [32000/40000]\n",
            "loss: 1.339634  [38400/40000]\n",
            "train loss: 1.5259164821624756, train_acc: 0.465575\n",
            "Epoch 9\n",
            "-------------------------------\n",
            "loss: 1.433765  [    0/40000]\n",
            "loss: 1.577800  [ 6400/40000]\n",
            "loss: 1.171863  [12800/40000]\n",
            "loss: 1.342206  [19200/40000]\n",
            "loss: 1.584151  [25600/40000]\n",
            "loss: 1.509007  [32000/40000]\n",
            "loss: 1.613824  [38400/40000]\n",
            "train loss: 1.5038041135787963, train_acc: 0.475825\n",
            "Epoch 10\n",
            "-------------------------------\n",
            "loss: 1.368674  [    0/40000]\n",
            "loss: 1.519955  [ 6400/40000]\n",
            "loss: 1.487127  [12800/40000]\n",
            "loss: 1.324259  [19200/40000]\n",
            "loss: 1.554588  [25600/40000]\n",
            "loss: 1.298149  [32000/40000]\n",
            "loss: 1.552424  [38400/40000]\n",
            "train loss: 1.4796295280456544, train_acc: 0.48305\n",
            "Done!\n",
            "Training time: 56.20701789855957\n"
          ]
        }
      ]
    },
    {
      "cell_type": "markdown",
      "metadata": {
        "id": "-ihZDtZjjDcK"
      },
      "source": [
        "We got another big boost here! Train accuracy is around 0.48, showing that batch normalization helps a lot in the training process. Notice that batch normalization usually allows increasing the learning rate to speed-up optimization, so let's try it. We will increase the learning rate ten times to check what happens. "
      ]
    },
    {
      "cell_type": "code",
      "metadata": {
        "id": "T4lkG6KK-fZ_",
        "colab": {
          "base_uri": "https://localhost:8080/"
        },
        "outputId": "63944ff2-ab89-42ac-a3ce-6294742bb2b1"
      },
      "source": [
        "import time\n",
        "\n",
        "learning_rate = 1e-2 # New learning rate\n",
        "batch_size = 64\n",
        "epochs = 10\n",
        "\n",
        "# For reproducibility\n",
        "torch.manual_seed(0)\n",
        "\n",
        "model = MyMLPBN()\n",
        "model = model.to(device)\n",
        "\n",
        "train_dataloader = DataLoader(train_set, batch_size=batch_size, shuffle=True)\n",
        "\n",
        "loss_fn = nn.CrossEntropyLoss()\n",
        "optimizer = torch.optim.SGD(model.parameters(), lr=learning_rate)\n",
        "\n",
        "train_losses, train_accuracies  = [], []\n",
        "start = time.time()\n",
        "for t in range(epochs):\n",
        "    print(f\"Epoch {t+1}\\n-------------------------------\")\n",
        "    train_loss, train_acc = train_loop(train_dataloader, model, loss_fn, optimizer, device)\n",
        "    print(f'train loss: {train_loss}, train_acc: {train_acc}')\n",
        "    train_losses.append(train_loss)\n",
        "    train_accuracies.append(train_acc)    \n",
        "end = time.time()\n",
        "print(\"Done!\")\n",
        "print(f'Training time: {end-start}')"
      ],
      "execution_count": null,
      "outputs": [
        {
          "output_type": "stream",
          "name": "stdout",
          "text": [
            "Epoch 1\n",
            "-------------------------------\n",
            "loss: 2.817509  [    0/40000]\n",
            "loss: 1.871529  [ 6400/40000]\n",
            "loss: 1.615286  [12800/40000]\n",
            "loss: 1.601233  [19200/40000]\n",
            "loss: 1.438730  [25600/40000]\n",
            "loss: 1.508677  [32000/40000]\n",
            "loss: 1.681681  [38400/40000]\n",
            "train loss: 1.7351202632904053, train_acc: 0.386175\n",
            "Epoch 2\n",
            "-------------------------------\n",
            "loss: 1.673471  [    0/40000]\n",
            "loss: 1.472232  [ 6400/40000]\n",
            "loss: 1.237097  [12800/40000]\n",
            "loss: 1.645487  [19200/40000]\n",
            "loss: 1.382110  [25600/40000]\n",
            "loss: 1.435351  [32000/40000]\n",
            "loss: 1.397564  [38400/40000]\n",
            "train loss: 1.4826960027694702, train_acc: 0.48055\n",
            "Epoch 3\n",
            "-------------------------------\n",
            "loss: 1.479679  [    0/40000]\n",
            "loss: 1.390892  [ 6400/40000]\n",
            "loss: 1.483419  [12800/40000]\n",
            "loss: 1.385492  [19200/40000]\n",
            "loss: 1.284133  [25600/40000]\n",
            "loss: 1.385138  [32000/40000]\n",
            "loss: 1.421449  [38400/40000]\n",
            "train loss: 1.374046925354004, train_acc: 0.520675\n",
            "Epoch 4\n",
            "-------------------------------\n",
            "loss: 1.286271  [    0/40000]\n",
            "loss: 1.467597  [ 6400/40000]\n",
            "loss: 1.160307  [12800/40000]\n",
            "loss: 1.351305  [19200/40000]\n",
            "loss: 1.321510  [25600/40000]\n",
            "loss: 1.461307  [32000/40000]\n",
            "loss: 1.378725  [38400/40000]\n",
            "train loss: 1.293421473312378, train_acc: 0.5494\n",
            "Epoch 5\n",
            "-------------------------------\n",
            "loss: 1.230162  [    0/40000]\n",
            "loss: 0.995709  [ 6400/40000]\n",
            "loss: 1.276703  [12800/40000]\n",
            "loss: 1.138074  [19200/40000]\n",
            "loss: 1.309627  [25600/40000]\n",
            "loss: 1.447430  [32000/40000]\n",
            "loss: 1.196785  [38400/40000]\n",
            "train loss: 1.22435755443573, train_acc: 0.579175\n",
            "Epoch 6\n",
            "-------------------------------\n",
            "loss: 1.403505  [    0/40000]\n",
            "loss: 1.189686  [ 6400/40000]\n",
            "loss: 0.834707  [12800/40000]\n",
            "loss: 1.268615  [19200/40000]\n",
            "loss: 1.076646  [25600/40000]\n",
            "loss: 1.012859  [32000/40000]\n",
            "loss: 0.913373  [38400/40000]\n",
            "train loss: 1.1636916016578673, train_acc: 0.59945\n",
            "Epoch 7\n",
            "-------------------------------\n",
            "loss: 1.145747  [    0/40000]\n",
            "loss: 1.285642  [ 6400/40000]\n",
            "loss: 1.187535  [12800/40000]\n",
            "loss: 0.935347  [19200/40000]\n",
            "loss: 1.313569  [25600/40000]\n",
            "loss: 1.408883  [32000/40000]\n",
            "loss: 1.225821  [38400/40000]\n",
            "train loss: 1.1058092641830444, train_acc: 0.6204\n",
            "Epoch 8\n",
            "-------------------------------\n",
            "loss: 1.144987  [    0/40000]\n",
            "loss: 1.079533  [ 6400/40000]\n",
            "loss: 1.019382  [12800/40000]\n",
            "loss: 1.010234  [19200/40000]\n",
            "loss: 1.045371  [25600/40000]\n",
            "loss: 0.945810  [32000/40000]\n",
            "loss: 0.965179  [38400/40000]\n",
            "train loss: 1.050426994037628, train_acc: 0.641\n",
            "Epoch 9\n",
            "-------------------------------\n",
            "loss: 0.895984  [    0/40000]\n",
            "loss: 1.101073  [ 6400/40000]\n",
            "loss: 0.749065  [12800/40000]\n",
            "loss: 0.928708  [19200/40000]\n",
            "loss: 0.979302  [25600/40000]\n",
            "loss: 1.160685  [32000/40000]\n",
            "loss: 1.213116  [38400/40000]\n",
            "train loss: 1.0034986134529114, train_acc: 0.65805\n",
            "Epoch 10\n",
            "-------------------------------\n",
            "loss: 0.858272  [    0/40000]\n",
            "loss: 1.023554  [ 6400/40000]\n",
            "loss: 0.891558  [12800/40000]\n",
            "loss: 1.004827  [19200/40000]\n",
            "loss: 1.011389  [25600/40000]\n",
            "loss: 0.733764  [32000/40000]\n",
            "loss: 0.988856  [38400/40000]\n",
            "train loss: 0.9506250624656677, train_acc: 0.67795\n",
            "Done!\n",
            "Training time: 56.944868087768555\n"
          ]
        }
      ]
    },
    {
      "cell_type": "markdown",
      "metadata": {
        "id": "kNJBl09O39dS"
      },
      "source": [
        "Just increasing the learning rate to $10^{-2}$, we obtain 0.67 of accuracy in train. As can be seen, the impact of hyperparameters such as learning rate and techniques such as batch normalization can be very significant in the training process of a neural network."
      ]
    },
    {
      "cell_type": "markdown",
      "metadata": {
        "id": "m4FfCSz1td3i"
      },
      "source": [
        "##Improve your training error\n",
        "Now that one time setup considerations are clear for us, we will explore optimizers and schedulers to improve our training performance even more."
      ]
    },
    {
      "cell_type": "markdown",
      "metadata": {
        "id": "bkHuJ_OM6MH0"
      },
      "source": [
        "###SGD with momentum\n",
        "Keeping the same configuration as before, we will test how SGD with momentum works. \n",
        "\n",
        "**EXERCISE:** Substitute the SGD optimizer by SGD with momentum and use a momentum value of 0.9."
      ]
    },
    {
      "cell_type": "code",
      "metadata": {
        "id": "8x4sHG7O6UEk",
        "colab": {
          "base_uri": "https://localhost:8080/"
        },
        "outputId": "0a733050-2b18-4a30-edc0-930fd632b789"
      },
      "source": [
        "import time\n",
        "\n",
        "learning_rate = 1e-2\n",
        "batch_size = 64\n",
        "epochs = 10\n",
        "\n",
        "# For reproducibility\n",
        "torch.manual_seed(0)\n",
        "\n",
        "model = MyMLPBN()\n",
        "model = model.to(device)\n",
        "\n",
        "train_dataloader = DataLoader(train_set, batch_size=batch_size, shuffle=True)\n",
        "\n",
        "loss_fn = nn.CrossEntropyLoss()\n",
        "optimizer = torch.optim.SGD(model.parameters(), lr=learning_rate, momentum=0.9)\n",
        "\n",
        "train_losses, train_accuracies  = [], []\n",
        "start = time.time()\n",
        "for t in range(epochs):\n",
        "    print(f\"Epoch {t+1}\\n-------------------------------\")\n",
        "    train_loss, train_acc = train_loop(train_dataloader, model, loss_fn, optimizer, device)\n",
        "    print(f'train loss: {train_loss}, train_acc: {train_acc}')\n",
        "    train_losses.append(train_loss)\n",
        "    train_accuracies.append(train_acc)    \n",
        "end = time.time()\n",
        "print(\"Done!\")\n",
        "print(f'Training time: {end-start}')"
      ],
      "execution_count": null,
      "outputs": [
        {
          "output_type": "stream",
          "name": "stdout",
          "text": [
            "Epoch 1\n",
            "-------------------------------\n",
            "loss: 2.817509  [    0/40000]\n",
            "loss: 1.745602  [ 6400/40000]\n",
            "loss: 1.505604  [12800/40000]\n",
            "loss: 1.618249  [19200/40000]\n",
            "loss: 1.452555  [25600/40000]\n",
            "loss: 1.488043  [32000/40000]\n",
            "loss: 1.672304  [38400/40000]\n",
            "train loss: 1.6713283014297486, train_acc: 0.40905\n",
            "Epoch 2\n",
            "-------------------------------\n",
            "loss: 1.594308  [    0/40000]\n",
            "loss: 1.316226  [ 6400/40000]\n",
            "loss: 1.333772  [12800/40000]\n",
            "loss: 1.609985  [19200/40000]\n",
            "loss: 1.293670  [25600/40000]\n",
            "loss: 1.309060  [32000/40000]\n",
            "loss: 1.210826  [38400/40000]\n",
            "train loss: 1.4236928086280822, train_acc: 0.49335\n",
            "Epoch 3\n",
            "-------------------------------\n",
            "loss: 1.502069  [    0/40000]\n",
            "loss: 1.276432  [ 6400/40000]\n",
            "loss: 1.534292  [12800/40000]\n",
            "loss: 1.270739  [19200/40000]\n",
            "loss: 1.151525  [25600/40000]\n",
            "loss: 1.347584  [32000/40000]\n",
            "loss: 1.417330  [38400/40000]\n",
            "train loss: 1.2955830062866212, train_acc: 0.5399\n",
            "Epoch 4\n",
            "-------------------------------\n",
            "loss: 1.199123  [    0/40000]\n",
            "loss: 1.323167  [ 6400/40000]\n",
            "loss: 1.121469  [12800/40000]\n",
            "loss: 1.071427  [19200/40000]\n",
            "loss: 1.219332  [25600/40000]\n",
            "loss: 1.552676  [32000/40000]\n",
            "loss: 1.173624  [38400/40000]\n",
            "train loss: 1.1984726869583129, train_acc: 0.574325\n",
            "Epoch 5\n",
            "-------------------------------\n",
            "loss: 1.080025  [    0/40000]\n",
            "loss: 0.830977  [ 6400/40000]\n",
            "loss: 1.274537  [12800/40000]\n",
            "loss: 1.114810  [19200/40000]\n",
            "loss: 1.194664  [25600/40000]\n",
            "loss: 1.260646  [32000/40000]\n",
            "loss: 1.028244  [38400/40000]\n",
            "train loss: 1.1102063075065614, train_acc: 0.607825\n",
            "Epoch 6\n",
            "-------------------------------\n",
            "loss: 1.207138  [    0/40000]\n",
            "loss: 0.986998  [ 6400/40000]\n",
            "loss: 0.671108  [12800/40000]\n",
            "loss: 1.182474  [19200/40000]\n",
            "loss: 0.937907  [25600/40000]\n",
            "loss: 0.980893  [32000/40000]\n",
            "loss: 0.705180  [38400/40000]\n",
            "train loss: 1.038252069759369, train_acc: 0.631475\n",
            "Epoch 7\n",
            "-------------------------------\n",
            "loss: 0.998581  [    0/40000]\n",
            "loss: 0.989930  [ 6400/40000]\n",
            "loss: 1.096901  [12800/40000]\n",
            "loss: 0.869017  [19200/40000]\n",
            "loss: 1.240999  [25600/40000]\n",
            "loss: 1.346110  [32000/40000]\n",
            "loss: 0.849558  [38400/40000]\n",
            "train loss: 0.9566093987464904, train_acc: 0.661475\n",
            "Epoch 8\n",
            "-------------------------------\n",
            "loss: 0.994379  [    0/40000]\n",
            "loss: 0.815755  [ 6400/40000]\n",
            "loss: 0.845779  [12800/40000]\n",
            "loss: 0.692816  [19200/40000]\n",
            "loss: 0.975112  [25600/40000]\n",
            "loss: 0.980463  [32000/40000]\n",
            "loss: 0.854266  [38400/40000]\n",
            "train loss: 0.886098732662201, train_acc: 0.686275\n",
            "Epoch 9\n",
            "-------------------------------\n",
            "loss: 0.738540  [    0/40000]\n",
            "loss: 0.921448  [ 6400/40000]\n",
            "loss: 0.726769  [12800/40000]\n",
            "loss: 0.785658  [19200/40000]\n",
            "loss: 0.709607  [25600/40000]\n",
            "loss: 0.952568  [32000/40000]\n",
            "loss: 1.194847  [38400/40000]\n",
            "train loss: 0.8153765149593353, train_acc: 0.712725\n",
            "Epoch 10\n",
            "-------------------------------\n",
            "loss: 0.725621  [    0/40000]\n",
            "loss: 0.665055  [ 6400/40000]\n",
            "loss: 0.605769  [12800/40000]\n",
            "loss: 0.885786  [19200/40000]\n",
            "loss: 0.569978  [25600/40000]\n",
            "loss: 0.752421  [32000/40000]\n",
            "loss: 0.821710  [38400/40000]\n",
            "train loss: 0.7475587015628815, train_acc: 0.7398\n",
            "Done!\n",
            "Training time: 58.084710121154785\n"
          ]
        }
      ]
    },
    {
      "cell_type": "markdown",
      "metadata": {
        "id": "ht7xElaC6mLj"
      },
      "source": [
        "We keep on improving! You should have an accuracy of 0.73, which shows that SGD with momentum steps faster towards the global minimum than vanilla mini-batch gradient descent."
      ]
    },
    {
      "cell_type": "markdown",
      "metadata": {
        "id": "RU3qmRw57c8N"
      },
      "source": [
        "###Adam\n",
        "We will skip RMSProp and use the Adam optimizer directly, which is usually the *de facto* standard in deep learning. Adam usually benefits from smaller learning rates, so we will decrease it to $10^{-4}$.\n",
        "\n",
        "**EXERCISE:** use Adam with default parameter values."
      ]
    },
    {
      "cell_type": "code",
      "metadata": {
        "id": "CywjelPu7en0",
        "colab": {
          "base_uri": "https://localhost:8080/"
        },
        "outputId": "856a4c05-566e-486c-80d8-2e9de713e49a"
      },
      "source": [
        "import time\n",
        "\n",
        "learning_rate = 1e-4 # Decrease the learning rate\n",
        "batch_size = 64\n",
        "epochs = 10\n",
        "\n",
        "# For reproducibility\n",
        "torch.manual_seed(0)\n",
        "\n",
        "model = MyMLPBN()\n",
        "model = model.to(device)\n",
        "\n",
        "train_dataloader = DataLoader(train_set, batch_size=batch_size, shuffle=True)\n",
        "\n",
        "loss_fn = nn.CrossEntropyLoss()\n",
        "optimizer = torch.optim.Adam(model.parameters(), lr=learning_rate)\n",
        "\n",
        "train_losses, train_accuracies  = [], []\n",
        "start = time.time()\n",
        "for t in range(epochs):\n",
        "    print(f\"Epoch {t+1}\\n-------------------------------\")\n",
        "    train_loss, train_acc = train_loop(train_dataloader, model, loss_fn, optimizer, device)\n",
        "    print(f'train loss: {train_loss}, train_acc: {train_acc}')\n",
        "    train_losses.append(train_loss)\n",
        "    train_accuracies.append(train_acc)    \n",
        "end = time.time()\n",
        "print(\"Done!\")\n",
        "print(f'Training time: {end-start}')"
      ],
      "execution_count": null,
      "outputs": [
        {
          "output_type": "stream",
          "name": "stdout",
          "text": [
            "Epoch 1\n",
            "-------------------------------\n",
            "loss: 2.817509  [    0/40000]\n",
            "loss: 1.810218  [ 6400/40000]\n",
            "loss: 1.538449  [12800/40000]\n",
            "loss: 1.541885  [19200/40000]\n",
            "loss: 1.408666  [25600/40000]\n",
            "loss: 1.488074  [32000/40000]\n",
            "loss: 1.639456  [38400/40000]\n",
            "train loss: 1.6729518020629883, train_acc: 0.4125\n",
            "Epoch 2\n",
            "-------------------------------\n",
            "loss: 1.552140  [    0/40000]\n",
            "loss: 1.356066  [ 6400/40000]\n",
            "loss: 1.284702  [12800/40000]\n",
            "loss: 1.621797  [19200/40000]\n",
            "loss: 1.321322  [25600/40000]\n",
            "loss: 1.304420  [32000/40000]\n",
            "loss: 1.272212  [38400/40000]\n",
            "train loss: 1.4105005314826966, train_acc: 0.505225\n",
            "Epoch 3\n",
            "-------------------------------\n",
            "loss: 1.373138  [    0/40000]\n",
            "loss: 1.277865  [ 6400/40000]\n",
            "loss: 1.374313  [12800/40000]\n",
            "loss: 1.344787  [19200/40000]\n",
            "loss: 1.213401  [25600/40000]\n",
            "loss: 1.311934  [32000/40000]\n",
            "loss: 1.270326  [38400/40000]\n",
            "train loss: 1.2881783643722535, train_acc: 0.550975\n",
            "Epoch 4\n",
            "-------------------------------\n",
            "loss: 1.196358  [    0/40000]\n",
            "loss: 1.312873  [ 6400/40000]\n",
            "loss: 1.028398  [12800/40000]\n",
            "loss: 1.157699  [19200/40000]\n",
            "loss: 1.200544  [25600/40000]\n",
            "loss: 1.410328  [32000/40000]\n",
            "loss: 1.247777  [38400/40000]\n",
            "train loss: 1.1979286383628844, train_acc: 0.58755\n",
            "Epoch 5\n",
            "-------------------------------\n",
            "loss: 1.118153  [    0/40000]\n",
            "loss: 0.978735  [ 6400/40000]\n",
            "loss: 1.217828  [12800/40000]\n",
            "loss: 1.070336  [19200/40000]\n",
            "loss: 1.277589  [25600/40000]\n",
            "loss: 1.318428  [32000/40000]\n",
            "loss: 1.118895  [38400/40000]\n",
            "train loss: 1.120414851951599, train_acc: 0.616225\n",
            "Epoch 6\n",
            "-------------------------------\n",
            "loss: 1.211763  [    0/40000]\n",
            "loss: 1.009776  [ 6400/40000]\n",
            "loss: 0.751943  [12800/40000]\n",
            "loss: 1.070673  [19200/40000]\n",
            "loss: 0.970263  [25600/40000]\n",
            "loss: 0.907715  [32000/40000]\n",
            "loss: 0.794967  [38400/40000]\n",
            "train loss: 1.0485243931770325, train_acc: 0.6403\n",
            "Epoch 7\n",
            "-------------------------------\n",
            "loss: 1.038967  [    0/40000]\n",
            "loss: 1.108810  [ 6400/40000]\n",
            "loss: 1.000590  [12800/40000]\n",
            "loss: 0.829820  [19200/40000]\n",
            "loss: 1.158430  [25600/40000]\n",
            "loss: 1.283481  [32000/40000]\n",
            "loss: 1.018707  [38400/40000]\n",
            "train loss: 0.9807564351081848, train_acc: 0.669975\n",
            "Epoch 8\n",
            "-------------------------------\n",
            "loss: 1.068809  [    0/40000]\n",
            "loss: 0.947201  [ 6400/40000]\n",
            "loss: 0.897182  [12800/40000]\n",
            "loss: 0.819906  [19200/40000]\n",
            "loss: 1.026417  [25600/40000]\n",
            "loss: 0.847466  [32000/40000]\n",
            "loss: 0.889063  [38400/40000]\n",
            "train loss: 0.9197845933914185, train_acc: 0.6906\n",
            "Epoch 9\n",
            "-------------------------------\n",
            "loss: 0.754191  [    0/40000]\n",
            "loss: 0.944358  [ 6400/40000]\n",
            "loss: 0.703917  [12800/40000]\n",
            "loss: 0.804776  [19200/40000]\n",
            "loss: 0.843467  [25600/40000]\n",
            "loss: 0.940608  [32000/40000]\n",
            "loss: 1.133340  [38400/40000]\n",
            "train loss: 0.860831706905365, train_acc: 0.715025\n",
            "Epoch 10\n",
            "-------------------------------\n",
            "loss: 0.731247  [    0/40000]\n",
            "loss: 0.770683  [ 6400/40000]\n",
            "loss: 0.727047  [12800/40000]\n",
            "loss: 0.766282  [19200/40000]\n",
            "loss: 0.823596  [25600/40000]\n",
            "loss: 0.685846  [32000/40000]\n",
            "loss: 0.847989  [38400/40000]\n",
            "train loss: 0.8049688938140869, train_acc: 0.734725\n",
            "Done!\n",
            "Training time: 60.18989896774292\n"
          ]
        }
      ]
    },
    {
      "cell_type": "markdown",
      "metadata": {
        "id": "X2hs5gHu7zfM"
      },
      "source": [
        "Well, we obtain a very similar train accuracy with Adam, i.e. around 0.73. Although it would be better to explore learning rate values more exhaustively (random search), let's stick to Adam with lr=1e-4 and train for more epochs, as the training accuracy is still improving. In the following cell you have the code to train our model for **30 epochs more** with the Adam optimizer, up to a total of 40 epochs. Look carefully at the code: as the state of `model` and `optimizer` are still stored in the session of Colab, we can resume the training process from the last epoch (epoch number 10)."
      ]
    },
    {
      "cell_type": "code",
      "metadata": {
        "id": "G0UzwRxB_L76",
        "colab": {
          "base_uri": "https://localhost:8080/"
        },
        "outputId": "49d674c9-27d7-4271-96f7-254acb50cadc"
      },
      "source": [
        "import time\n",
        "\n",
        "start_epoch = 10 # Resume from the last training point\n",
        "epochs = 30 # Add more epochs to our training\n",
        "start = time.time()\n",
        "for t in range(start_epoch, start_epoch+epochs):\n",
        "    print(f\"Epoch {t+1}\\n-------------------------------\")\n",
        "    train_loss, train_acc = train_loop(train_dataloader, model, loss_fn, optimizer, device)\n",
        "    print(f'train loss: {train_loss}, train_acc: {train_acc}')\n",
        "    train_losses.append(train_loss)\n",
        "    train_accuracies.append(train_acc)    \n",
        "end = time.time()\n",
        "print(\"Done!\")\n",
        "print(f'Training time: {end-start}')"
      ],
      "execution_count": null,
      "outputs": [
        {
          "output_type": "stream",
          "name": "stdout",
          "text": [
            "Epoch 11\n",
            "-------------------------------\n",
            "loss: 0.622193  [    0/40000]\n",
            "loss: 0.738723  [ 6400/40000]\n",
            "loss: 0.617285  [12800/40000]\n",
            "loss: 0.775634  [19200/40000]\n",
            "loss: 0.777743  [25600/40000]\n",
            "loss: 0.947315  [32000/40000]\n",
            "loss: 0.948309  [38400/40000]\n",
            "train loss: 0.7544095659255982, train_acc: 0.75245\n",
            "Epoch 12\n",
            "-------------------------------\n",
            "loss: 0.840802  [    0/40000]\n",
            "loss: 0.599306  [ 6400/40000]\n",
            "loss: 0.837370  [12800/40000]\n",
            "loss: 0.597579  [19200/40000]\n",
            "loss: 0.833388  [25600/40000]\n",
            "loss: 0.769967  [32000/40000]\n",
            "loss: 0.863696  [38400/40000]\n",
            "train loss: 0.7040151552677154, train_acc: 0.772975\n",
            "Epoch 13\n",
            "-------------------------------\n",
            "loss: 0.501136  [    0/40000]\n",
            "loss: 0.684153  [ 6400/40000]\n",
            "loss: 0.605208  [12800/40000]\n",
            "loss: 0.699424  [19200/40000]\n",
            "loss: 0.807079  [25600/40000]\n",
            "loss: 0.822349  [32000/40000]\n",
            "loss: 0.715560  [38400/40000]\n",
            "train loss: 0.6557228041172027, train_acc: 0.79005\n",
            "Epoch 14\n",
            "-------------------------------\n",
            "loss: 0.608105  [    0/40000]\n",
            "loss: 0.543675  [ 6400/40000]\n",
            "loss: 0.607903  [12800/40000]\n",
            "loss: 0.563818  [19200/40000]\n",
            "loss: 0.651510  [25600/40000]\n",
            "loss: 0.621941  [32000/40000]\n",
            "loss: 0.691623  [38400/40000]\n",
            "train loss: 0.6078489591121674, train_acc: 0.810475\n",
            "Epoch 15\n",
            "-------------------------------\n",
            "loss: 0.526985  [    0/40000]\n",
            "loss: 0.431936  [ 6400/40000]\n",
            "loss: 0.591443  [12800/40000]\n",
            "loss: 0.467728  [19200/40000]\n",
            "loss: 0.554411  [25600/40000]\n",
            "loss: 0.655631  [32000/40000]\n",
            "loss: 0.599276  [38400/40000]\n",
            "train loss: 0.569548184967041, train_acc: 0.82075\n",
            "Epoch 16\n",
            "-------------------------------\n",
            "loss: 0.485560  [    0/40000]\n",
            "loss: 0.512517  [ 6400/40000]\n",
            "loss: 0.595035  [12800/40000]\n",
            "loss: 0.621207  [19200/40000]\n",
            "loss: 0.793157  [25600/40000]\n",
            "loss: 0.574262  [32000/40000]\n",
            "loss: 0.564154  [38400/40000]\n",
            "train loss: 0.5361656604766846, train_acc: 0.833275\n",
            "Epoch 17\n",
            "-------------------------------\n",
            "loss: 0.500059  [    0/40000]\n",
            "loss: 0.448401  [ 6400/40000]\n",
            "loss: 0.419039  [12800/40000]\n",
            "loss: 0.530223  [19200/40000]\n",
            "loss: 0.525397  [25600/40000]\n",
            "loss: 0.471446  [32000/40000]\n",
            "loss: 0.559060  [38400/40000]\n",
            "train loss: 0.49058201355934145, train_acc: 0.850575\n",
            "Epoch 18\n",
            "-------------------------------\n",
            "loss: 0.414690  [    0/40000]\n",
            "loss: 0.462319  [ 6400/40000]\n",
            "loss: 0.504684  [12800/40000]\n",
            "loss: 0.494914  [19200/40000]\n",
            "loss: 0.386554  [25600/40000]\n",
            "loss: 0.390572  [32000/40000]\n",
            "loss: 0.453747  [38400/40000]\n",
            "train loss: 0.4607646236419678, train_acc: 0.860025\n",
            "Epoch 19\n",
            "-------------------------------\n",
            "loss: 0.319503  [    0/40000]\n",
            "loss: 0.436232  [ 6400/40000]\n",
            "loss: 0.404167  [12800/40000]\n",
            "loss: 0.331437  [19200/40000]\n",
            "loss: 0.553519  [25600/40000]\n",
            "loss: 0.315268  [32000/40000]\n",
            "loss: 0.361810  [38400/40000]\n",
            "train loss: 0.42215129141807556, train_acc: 0.873675\n",
            "Epoch 20\n",
            "-------------------------------\n",
            "loss: 0.419896  [    0/40000]\n",
            "loss: 0.399239  [ 6400/40000]\n",
            "loss: 0.298874  [12800/40000]\n",
            "loss: 0.316381  [19200/40000]\n",
            "loss: 0.415060  [25600/40000]\n",
            "loss: 0.382529  [32000/40000]\n",
            "loss: 0.335871  [38400/40000]\n",
            "train loss: 0.39334219024181366, train_acc: 0.88265\n",
            "Epoch 21\n",
            "-------------------------------\n",
            "loss: 0.418490  [    0/40000]\n",
            "loss: 0.354767  [ 6400/40000]\n",
            "loss: 0.247357  [12800/40000]\n",
            "loss: 0.369909  [19200/40000]\n",
            "loss: 0.418494  [25600/40000]\n",
            "loss: 0.434011  [32000/40000]\n",
            "loss: 0.461153  [38400/40000]\n",
            "train loss: 0.36923584253787994, train_acc: 0.890925\n",
            "Epoch 22\n",
            "-------------------------------\n",
            "loss: 0.382308  [    0/40000]\n",
            "loss: 0.279358  [ 6400/40000]\n",
            "loss: 0.267978  [12800/40000]\n",
            "loss: 0.418180  [19200/40000]\n",
            "loss: 0.230450  [25600/40000]\n",
            "loss: 0.334021  [32000/40000]\n",
            "loss: 0.460277  [38400/40000]\n",
            "train loss: 0.3457314817428589, train_acc: 0.900275\n",
            "Epoch 23\n",
            "-------------------------------\n",
            "loss: 0.263469  [    0/40000]\n",
            "loss: 0.283766  [ 6400/40000]\n",
            "loss: 0.436927  [12800/40000]\n",
            "loss: 0.430730  [19200/40000]\n",
            "loss: 0.234081  [25600/40000]\n",
            "loss: 0.369569  [32000/40000]\n",
            "loss: 0.369680  [38400/40000]\n",
            "train loss: 0.32929820688962935, train_acc: 0.904575\n",
            "Epoch 24\n",
            "-------------------------------\n",
            "loss: 0.192039  [    0/40000]\n",
            "loss: 0.283804  [ 6400/40000]\n",
            "loss: 0.370048  [12800/40000]\n",
            "loss: 0.325509  [19200/40000]\n",
            "loss: 0.191608  [25600/40000]\n",
            "loss: 0.381187  [32000/40000]\n",
            "loss: 0.329515  [38400/40000]\n",
            "train loss: 0.30017775537967684, train_acc: 0.914575\n",
            "Epoch 25\n",
            "-------------------------------\n",
            "loss: 0.372023  [    0/40000]\n",
            "loss: 0.269844  [ 6400/40000]\n",
            "loss: 0.187648  [12800/40000]\n",
            "loss: 0.290636  [19200/40000]\n",
            "loss: 0.400905  [25600/40000]\n",
            "loss: 0.226548  [32000/40000]\n",
            "loss: 0.239132  [38400/40000]\n",
            "train loss: 0.2761818579673767, train_acc: 0.92395\n",
            "Epoch 26\n",
            "-------------------------------\n",
            "loss: 0.234875  [    0/40000]\n",
            "loss: 0.190711  [ 6400/40000]\n",
            "loss: 0.195301  [12800/40000]\n",
            "loss: 0.347752  [19200/40000]\n",
            "loss: 0.315344  [25600/40000]\n",
            "loss: 0.277825  [32000/40000]\n",
            "loss: 0.225426  [38400/40000]\n",
            "train loss: 0.25953965088129044, train_acc: 0.92885\n",
            "Epoch 27\n",
            "-------------------------------\n",
            "loss: 0.294648  [    0/40000]\n",
            "loss: 0.269679  [ 6400/40000]\n",
            "loss: 0.196834  [12800/40000]\n",
            "loss: 0.253393  [19200/40000]\n",
            "loss: 0.275134  [25600/40000]\n",
            "loss: 0.237255  [32000/40000]\n",
            "loss: 0.258060  [38400/40000]\n",
            "train loss: 0.24696246938705443, train_acc: 0.9306\n",
            "Epoch 28\n",
            "-------------------------------\n",
            "loss: 0.184143  [    0/40000]\n",
            "loss: 0.201801  [ 6400/40000]\n",
            "loss: 0.148974  [12800/40000]\n",
            "loss: 0.235866  [19200/40000]\n",
            "loss: 0.247228  [25600/40000]\n",
            "loss: 0.278535  [32000/40000]\n",
            "loss: 0.148012  [38400/40000]\n",
            "train loss: 0.23572570111751556, train_acc: 0.93425\n",
            "Epoch 29\n",
            "-------------------------------\n",
            "loss: 0.247680  [    0/40000]\n",
            "loss: 0.209011  [ 6400/40000]\n",
            "loss: 0.201892  [12800/40000]\n",
            "loss: 0.141988  [19200/40000]\n",
            "loss: 0.276937  [25600/40000]\n",
            "loss: 0.235373  [32000/40000]\n",
            "loss: 0.250356  [38400/40000]\n",
            "train loss: 0.22375843713283539, train_acc: 0.93875\n",
            "Epoch 30\n",
            "-------------------------------\n",
            "loss: 0.195734  [    0/40000]\n",
            "loss: 0.153379  [ 6400/40000]\n",
            "loss: 0.145348  [12800/40000]\n",
            "loss: 0.161495  [19200/40000]\n",
            "loss: 0.239429  [25600/40000]\n",
            "loss: 0.228909  [32000/40000]\n",
            "loss: 0.270203  [38400/40000]\n",
            "train loss: 0.20873590284585952, train_acc: 0.94175\n",
            "Epoch 31\n",
            "-------------------------------\n",
            "loss: 0.195259  [    0/40000]\n",
            "loss: 0.063959  [ 6400/40000]\n",
            "loss: 0.162429  [12800/40000]\n",
            "loss: 0.133734  [19200/40000]\n",
            "loss: 0.265668  [25600/40000]\n",
            "loss: 0.178225  [32000/40000]\n",
            "loss: 0.139950  [38400/40000]\n",
            "train loss: 0.195621923327446, train_acc: 0.946425\n",
            "Epoch 32\n",
            "-------------------------------\n",
            "loss: 0.171543  [    0/40000]\n",
            "loss: 0.305097  [ 6400/40000]\n",
            "loss: 0.144498  [12800/40000]\n",
            "loss: 0.241350  [19200/40000]\n",
            "loss: 0.301000  [25600/40000]\n",
            "loss: 0.182286  [32000/40000]\n",
            "loss: 0.173717  [38400/40000]\n",
            "train loss: 0.18703899335861207, train_acc: 0.94925\n",
            "Epoch 33\n",
            "-------------------------------\n",
            "loss: 0.181754  [    0/40000]\n",
            "loss: 0.191304  [ 6400/40000]\n",
            "loss: 0.127953  [12800/40000]\n",
            "loss: 0.155974  [19200/40000]\n",
            "loss: 0.173673  [25600/40000]\n",
            "loss: 0.085369  [32000/40000]\n",
            "loss: 0.251196  [38400/40000]\n",
            "train loss: 0.16843481679558753, train_acc: 0.957125\n",
            "Epoch 34\n",
            "-------------------------------\n",
            "loss: 0.114398  [    0/40000]\n",
            "loss: 0.089855  [ 6400/40000]\n",
            "loss: 0.137191  [12800/40000]\n",
            "loss: 0.242255  [19200/40000]\n",
            "loss: 0.216730  [25600/40000]\n",
            "loss: 0.162888  [32000/40000]\n",
            "loss: 0.166577  [38400/40000]\n",
            "train loss: 0.16902780153155328, train_acc: 0.953375\n",
            "Epoch 35\n",
            "-------------------------------\n",
            "loss: 0.190787  [    0/40000]\n",
            "loss: 0.134692  [ 6400/40000]\n",
            "loss: 0.197257  [12800/40000]\n",
            "loss: 0.192703  [19200/40000]\n",
            "loss: 0.224605  [25600/40000]\n",
            "loss: 0.168697  [32000/40000]\n",
            "loss: 0.151976  [38400/40000]\n",
            "train loss: 0.15647177548408508, train_acc: 0.957925\n",
            "Epoch 36\n",
            "-------------------------------\n",
            "loss: 0.172851  [    0/40000]\n",
            "loss: 0.158219  [ 6400/40000]\n",
            "loss: 0.115828  [12800/40000]\n",
            "loss: 0.139237  [19200/40000]\n",
            "loss: 0.280517  [25600/40000]\n",
            "loss: 0.121575  [32000/40000]\n",
            "loss: 0.170824  [38400/40000]\n",
            "train loss: 0.15354651235342026, train_acc: 0.958575\n",
            "Epoch 37\n",
            "-------------------------------\n",
            "loss: 0.192797  [    0/40000]\n",
            "loss: 0.088288  [ 6400/40000]\n",
            "loss: 0.140878  [12800/40000]\n",
            "loss: 0.122230  [19200/40000]\n",
            "loss: 0.167145  [25600/40000]\n",
            "loss: 0.191168  [32000/40000]\n",
            "loss: 0.137044  [38400/40000]\n",
            "train loss: 0.14538216162323953, train_acc: 0.9616\n",
            "Epoch 38\n",
            "-------------------------------\n",
            "loss: 0.238758  [    0/40000]\n",
            "loss: 0.182289  [ 6400/40000]\n",
            "loss: 0.054236  [12800/40000]\n",
            "loss: 0.218882  [19200/40000]\n",
            "loss: 0.103775  [25600/40000]\n",
            "loss: 0.154320  [32000/40000]\n",
            "loss: 0.162797  [38400/40000]\n",
            "train loss: 0.13970248371958732, train_acc: 0.962675\n",
            "Epoch 39\n",
            "-------------------------------\n",
            "loss: 0.102630  [    0/40000]\n",
            "loss: 0.191697  [ 6400/40000]\n",
            "loss: 0.114974  [12800/40000]\n",
            "loss: 0.121919  [19200/40000]\n",
            "loss: 0.123473  [25600/40000]\n",
            "loss: 0.200025  [32000/40000]\n",
            "loss: 0.209323  [38400/40000]\n",
            "train loss: 0.1334100157380104, train_acc: 0.964525\n",
            "Epoch 40\n",
            "-------------------------------\n",
            "loss: 0.150891  [    0/40000]\n",
            "loss: 0.128884  [ 6400/40000]\n",
            "loss: 0.126543  [12800/40000]\n",
            "loss: 0.142216  [19200/40000]\n",
            "loss: 0.218792  [25600/40000]\n",
            "loss: 0.180861  [32000/40000]\n",
            "loss: 0.137470  [38400/40000]\n",
            "train loss: 0.1291020056784153, train_acc: 0.96585\n",
            "Done!\n",
            "Training time: 182.18013954162598\n"
          ]
        }
      ]
    },
    {
      "cell_type": "markdown",
      "metadata": {
        "id": "0fERgMcK-IXI"
      },
      "source": [
        "Wow! We achieve **0.96 accuracy** in training (very-very close to 0.97). Let me remember that the frist trial we made with the same neural network architecture achieved 0.29 accuracy. Thus, changing weight initialization, including batch normalization, tweaking a bit the learning rate, using Adam and increasing the epochs, we have now 0.96 accuracy. So **deep learning is not just about adding layers and neurons**. There are many techniques and approaches that can dramatically change the behaviour of the same neural network."
      ]
    },
    {
      "cell_type": "markdown",
      "metadata": {
        "id": "snFdhPmN-zlS"
      },
      "source": [
        "To have a better idea of how the training process went, let's look at training learning curves for loss and accuracy."
      ]
    },
    {
      "cell_type": "code",
      "metadata": {
        "id": "Sq_WcKEjAz1C",
        "colab": {
          "base_uri": "https://localhost:8080/",
          "height": 297
        },
        "outputId": "7cbeb7f6-de76-4820-c7ce-67b6bc77adad"
      },
      "source": [
        "import matplotlib.pyplot as plt\n",
        "\n",
        "epochs = start_epoch + epochs\n",
        "plt.subplot(1, 2, 1)\n",
        "plt.plot(range(epochs), train_losses, color='blue', label='train')\n",
        "plt.xlabel('epochs')\n",
        "plt.ylabel('loss')\n",
        "plt.legend(loc='upper right')\n",
        "\n",
        "plt.subplot(1, 2, 2)\n",
        "plt.plot(range(epochs), train_accuracies, color='blue', label='train')\n",
        "plt.xlabel('epochs')\n",
        "plt.ylabel('accuracy')\n",
        "plt.legend(loc='upper left')\n",
        "\n",
        "plt.tight_layout()\n",
        "plt.show()"
      ],
      "execution_count": null,
      "outputs": [
        {
          "output_type": "display_data",
          "data": {
            "text/plain": [
              "<Figure size 432x288 with 2 Axes>"
            ],
            "image/png": "[encoded data removed]"
          },
          "metadata": {
            "needs_background": "light"
          }
        }
      ]
    },
    {
      "cell_type": "markdown",
      "metadata": {
        "id": "OxqPsFm8Ami-"
      },
      "source": [
        "It seems those final epochs were a little bit oscillating, but our overall performance is great already. "
      ]
    },
    {
      "cell_type": "markdown",
      "metadata": {
        "id": "uG-ZH_GrBBB9"
      },
      "source": [
        "###Learning rate schedulers\n",
        "From the learning curves above, we can guess the optimizer might be wandering around the global minimum. We could improve a little bit more if we use some learning rate scheduler. For that, we have to change our training function. Notice that now we pass a `scheduler` to our new function. In the body of the function, it is enough to add a `scheduler.step()` call in the suitable position, just after processing a complete epoch. "
      ]
    },
    {
      "cell_type": "code",
      "metadata": {
        "id": "tivLC3HrBTup"
      },
      "source": [
        "def train_loop_scheduler(dataloader, model, loss_fn, optimizer, scheduler, device):        \n",
        "    model.train()\n",
        "    size = len(dataloader.dataset)\n",
        "    num_batches = len(dataloader)\n",
        "    train_loss, train_acc = 0, 0\n",
        "\n",
        "    for batch, (X, y) in enumerate(dataloader):\n",
        "\n",
        "      #X = F.interpolate(X, size=32)\n",
        "      X = X.to(device)\n",
        "      y = y.to(device)\n",
        "      # Compute prediction and loss\n",
        "      pred = model(X)\n",
        "      loss = loss_fn(pred, y)\n",
        "        \n",
        "      # Backpropagation\n",
        "      optimizer.zero_grad()\n",
        "      loss.backward()\n",
        "      optimizer.step()\n",
        "\n",
        "      # Store loss and accuracy\n",
        "      train_loss += loss.item()\n",
        "      train_acc += (pred.argmax(1) == y).type(torch.float).sum().item()\n",
        "\n",
        "      if batch % 100 == 0:\n",
        "        loss, current = loss.item(), batch * len(X)\n",
        "        print(f\"loss: {loss:>7f}  [{current:>5d}/{size:>5d}]\")\n",
        "      \n",
        "    scheduler.step() # Calculate the new learning rate for the next epoch\n",
        "    train_loss /= num_batches\n",
        "    train_acc /= size\n",
        "    return train_loss, train_acc"
      ],
      "execution_count": null,
      "outputs": []
    },
    {
      "cell_type": "markdown",
      "metadata": {
        "id": "nPZCjchICBRV"
      },
      "source": [
        "Now we can use any scheduler from the [long list of Pytorch](https://pytorch.org/docs/stable/optim.html). For this example, we will use the cosine scheduler. \n",
        "\n",
        "**EXERCISE:** write the code to use a cosine scheduler with our new function `train_loop_scheduler()`."
      ]
    },
    {
      "cell_type": "code",
      "metadata": {
        "id": "0z7ZBafoCKrG",
        "colab": {
          "base_uri": "https://localhost:8080/"
        },
        "outputId": "500ea36d-302a-477c-c54b-5d045704ee48"
      },
      "source": [
        "import time\n",
        "\n",
        "learning_rate = 1e-4\n",
        "batch_size = 64\n",
        "epochs = 40\n",
        "\n",
        "# For reproducibility\n",
        "torch.manual_seed(0)\n",
        "\n",
        "model = MyMLPBN()\n",
        "model = model.to(device)\n",
        "\n",
        "train_dataloader = DataLoader(train_set, batch_size=batch_size, shuffle=True)\n",
        "\n",
        "loss_fn = nn.CrossEntropyLoss()\n",
        "optimizer = torch.optim.Adam(model.parameters(), lr=learning_rate)\n",
        "scheduler = torch.optim.lr_scheduler.CosineAnnealingLR(optimizer, epochs)\n",
        "\n",
        "train_losses, train_accuracies  = [], []\n",
        "start = time.time()\n",
        "for t in range(epochs):\n",
        "    print(f\"Epoch {t+1}\\n-------------------------------\")\n",
        "    # call to the new training function with the scheduler and store the returned values\n",
        "    train_loss, train_acc = train_loop_scheduler(train_dataloader, model, loss_fn, optimizer, scheduler, device)\n",
        "\n",
        "    print(f'train loss: {train_loss}, train_acc: {train_acc}')\n",
        "    train_losses.append(train_loss)\n",
        "    train_accuracies.append(train_acc)    \n",
        "end = time.time()\n",
        "print(\"Done!\")\n",
        "print(f'Training time: {end-start}')"
      ],
      "execution_count": null,
      "outputs": [
        {
          "output_type": "stream",
          "name": "stdout",
          "text": [
            "Epoch 1\n",
            "-------------------------------\n",
            "loss: 2.817509  [    0/40000]\n",
            "loss: 1.810218  [ 6400/40000]\n",
            "loss: 1.538449  [12800/40000]\n",
            "loss: 1.541885  [19200/40000]\n",
            "loss: 1.408666  [25600/40000]\n",
            "loss: 1.488074  [32000/40000]\n",
            "loss: 1.639456  [38400/40000]\n",
            "train loss: 1.6729518020629883, train_acc: 0.4125\n",
            "Epoch 2\n",
            "-------------------------------\n",
            "loss: 1.552140  [    0/40000]\n",
            "loss: 1.352982  [ 6400/40000]\n",
            "loss: 1.302377  [12800/40000]\n",
            "loss: 1.624085  [19200/40000]\n",
            "loss: 1.307402  [25600/40000]\n",
            "loss: 1.286090  [32000/40000]\n",
            "loss: 1.280512  [38400/40000]\n",
            "train loss: 1.4098610116958619, train_acc: 0.5057\n",
            "Epoch 3\n",
            "-------------------------------\n",
            "loss: 1.369732  [    0/40000]\n",
            "loss: 1.266218  [ 6400/40000]\n",
            "loss: 1.358200  [12800/40000]\n",
            "loss: 1.340324  [19200/40000]\n",
            "loss: 1.203812  [25600/40000]\n",
            "loss: 1.311342  [32000/40000]\n",
            "loss: 1.259836  [38400/40000]\n",
            "train loss: 1.2892048563957215, train_acc: 0.551925\n",
            "Epoch 4\n",
            "-------------------------------\n",
            "loss: 1.153481  [    0/40000]\n",
            "loss: 1.304113  [ 6400/40000]\n",
            "loss: 1.035591  [12800/40000]\n",
            "loss: 1.164127  [19200/40000]\n",
            "loss: 1.200414  [25600/40000]\n",
            "loss: 1.431027  [32000/40000]\n",
            "loss: 1.227269  [38400/40000]\n",
            "train loss: 1.1971977422714233, train_acc: 0.586575\n",
            "Epoch 5\n",
            "-------------------------------\n",
            "loss: 1.091229  [    0/40000]\n",
            "loss: 0.981951  [ 6400/40000]\n",
            "loss: 1.270730  [12800/40000]\n",
            "loss: 1.089046  [19200/40000]\n",
            "loss: 1.269428  [25600/40000]\n",
            "loss: 1.347144  [32000/40000]\n",
            "loss: 1.095086  [38400/40000]\n",
            "train loss: 1.1188254658699035, train_acc: 0.617225\n",
            "Epoch 6\n",
            "-------------------------------\n",
            "loss: 1.182549  [    0/40000]\n",
            "loss: 1.013744  [ 6400/40000]\n",
            "loss: 0.737952  [12800/40000]\n",
            "loss: 1.108097  [19200/40000]\n",
            "loss: 0.968544  [25600/40000]\n",
            "loss: 0.878268  [32000/40000]\n",
            "loss: 0.775209  [38400/40000]\n",
            "train loss: 1.047061118221283, train_acc: 0.643175\n",
            "Epoch 7\n",
            "-------------------------------\n",
            "loss: 1.035881  [    0/40000]\n",
            "loss: 1.081120  [ 6400/40000]\n",
            "loss: 1.031069  [12800/40000]\n",
            "loss: 0.820546  [19200/40000]\n",
            "loss: 1.167247  [25600/40000]\n",
            "loss: 1.275901  [32000/40000]\n",
            "loss: 1.012835  [38400/40000]\n",
            "train loss: 0.9771879063606262, train_acc: 0.671375\n",
            "Epoch 8\n",
            "-------------------------------\n",
            "loss: 1.090208  [    0/40000]\n",
            "loss: 0.945629  [ 6400/40000]\n",
            "loss: 0.917244  [12800/40000]\n",
            "loss: 0.861775  [19200/40000]\n",
            "loss: 0.981772  [25600/40000]\n",
            "loss: 0.834215  [32000/40000]\n",
            "loss: 0.887957  [38400/40000]\n",
            "train loss: 0.913648784160614, train_acc: 0.695725\n",
            "Epoch 9\n",
            "-------------------------------\n",
            "loss: 0.771910  [    0/40000]\n",
            "loss: 0.972770  [ 6400/40000]\n",
            "loss: 0.722234  [12800/40000]\n",
            "loss: 0.817628  [19200/40000]\n",
            "loss: 0.872069  [25600/40000]\n",
            "loss: 0.901209  [32000/40000]\n",
            "loss: 1.073412  [38400/40000]\n",
            "train loss: 0.8552446231842041, train_acc: 0.71625\n",
            "Epoch 10\n",
            "-------------------------------\n",
            "loss: 0.741029  [    0/40000]\n",
            "loss: 0.811289  [ 6400/40000]\n",
            "loss: 0.743475  [12800/40000]\n",
            "loss: 0.737125  [19200/40000]\n",
            "loss: 0.828542  [25600/40000]\n",
            "loss: 0.709066  [32000/40000]\n",
            "loss: 0.872209  [38400/40000]\n",
            "train loss: 0.7958127993106842, train_acc: 0.740075\n",
            "Epoch 11\n",
            "-------------------------------\n",
            "loss: 0.633286  [    0/40000]\n",
            "loss: 0.779174  [ 6400/40000]\n",
            "loss: 0.583901  [12800/40000]\n",
            "loss: 0.755862  [19200/40000]\n",
            "loss: 0.813509  [25600/40000]\n",
            "loss: 0.876887  [32000/40000]\n",
            "loss: 0.991599  [38400/40000]\n",
            "train loss: 0.7433555322170258, train_acc: 0.75895\n",
            "Epoch 12\n",
            "-------------------------------\n",
            "loss: 0.788208  [    0/40000]\n",
            "loss: 0.557623  [ 6400/40000]\n",
            "loss: 0.825484  [12800/40000]\n",
            "loss: 0.609911  [19200/40000]\n",
            "loss: 0.849055  [25600/40000]\n",
            "loss: 0.791486  [32000/40000]\n",
            "loss: 0.805440  [38400/40000]\n",
            "train loss: 0.6890441546916962, train_acc: 0.782425\n",
            "Epoch 13\n",
            "-------------------------------\n",
            "loss: 0.493499  [    0/40000]\n",
            "loss: 0.636963  [ 6400/40000]\n",
            "loss: 0.626846  [12800/40000]\n",
            "loss: 0.730062  [19200/40000]\n",
            "loss: 0.747982  [25600/40000]\n",
            "loss: 0.772349  [32000/40000]\n",
            "loss: 0.725766  [38400/40000]\n",
            "train loss: 0.639769399213791, train_acc: 0.7996\n",
            "Epoch 14\n",
            "-------------------------------\n",
            "loss: 0.577621  [    0/40000]\n",
            "loss: 0.544797  [ 6400/40000]\n",
            "loss: 0.580820  [12800/40000]\n",
            "loss: 0.595341  [19200/40000]\n",
            "loss: 0.673267  [25600/40000]\n",
            "loss: 0.643823  [32000/40000]\n",
            "loss: 0.575836  [38400/40000]\n",
            "train loss: 0.5911845428943634, train_acc: 0.818525\n",
            "Epoch 15\n",
            "-------------------------------\n",
            "loss: 0.554123  [    0/40000]\n",
            "loss: 0.469550  [ 6400/40000]\n",
            "loss: 0.557861  [12800/40000]\n",
            "loss: 0.468122  [19200/40000]\n",
            "loss: 0.532599  [25600/40000]\n",
            "loss: 0.638500  [32000/40000]\n",
            "loss: 0.540014  [38400/40000]\n",
            "train loss: 0.5495938069343567, train_acc: 0.833375\n",
            "Epoch 16\n",
            "-------------------------------\n",
            "loss: 0.482737  [    0/40000]\n",
            "loss: 0.518812  [ 6400/40000]\n",
            "loss: 0.605898  [12800/40000]\n",
            "loss: 0.632181  [19200/40000]\n",
            "loss: 0.721691  [25600/40000]\n",
            "loss: 0.578973  [32000/40000]\n",
            "loss: 0.519131  [38400/40000]\n",
            "train loss: 0.5101167347431182, train_acc: 0.849425\n",
            "Epoch 17\n",
            "-------------------------------\n",
            "loss: 0.528267  [    0/40000]\n",
            "loss: 0.455410  [ 6400/40000]\n",
            "loss: 0.370360  [12800/40000]\n",
            "loss: 0.490417  [19200/40000]\n",
            "loss: 0.502703  [25600/40000]\n",
            "loss: 0.513081  [32000/40000]\n",
            "loss: 0.475161  [38400/40000]\n",
            "train loss: 0.468750342130661, train_acc: 0.864525\n",
            "Epoch 18\n",
            "-------------------------------\n",
            "loss: 0.346642  [    0/40000]\n",
            "loss: 0.457879  [ 6400/40000]\n",
            "loss: 0.516666  [12800/40000]\n",
            "loss: 0.474547  [19200/40000]\n",
            "loss: 0.357128  [25600/40000]\n",
            "loss: 0.375624  [32000/40000]\n",
            "loss: 0.402772  [38400/40000]\n",
            "train loss: 0.4337944585800171, train_acc: 0.876975\n",
            "Epoch 19\n",
            "-------------------------------\n",
            "loss: 0.328456  [    0/40000]\n",
            "loss: 0.400149  [ 6400/40000]\n",
            "loss: 0.421457  [12800/40000]\n",
            "loss: 0.321298  [19200/40000]\n",
            "loss: 0.527634  [25600/40000]\n",
            "loss: 0.310241  [32000/40000]\n",
            "loss: 0.370212  [38400/40000]\n",
            "train loss: 0.3968077923297882, train_acc: 0.890875\n",
            "Epoch 20\n",
            "-------------------------------\n",
            "loss: 0.386263  [    0/40000]\n",
            "loss: 0.413100  [ 6400/40000]\n",
            "loss: 0.308560  [12800/40000]\n",
            "loss: 0.317433  [19200/40000]\n",
            "loss: 0.346062  [25600/40000]\n",
            "loss: 0.313895  [32000/40000]\n",
            "loss: 0.275382  [38400/40000]\n",
            "train loss: 0.36476953811645507, train_acc: 0.901475\n",
            "Epoch 21\n",
            "-------------------------------\n",
            "loss: 0.414642  [    0/40000]\n",
            "loss: 0.333973  [ 6400/40000]\n",
            "loss: 0.288472  [12800/40000]\n",
            "loss: 0.370601  [19200/40000]\n",
            "loss: 0.394204  [25600/40000]\n",
            "loss: 0.360556  [32000/40000]\n",
            "loss: 0.381437  [38400/40000]\n",
            "train loss: 0.3405202839612961, train_acc: 0.9107\n",
            "Epoch 22\n",
            "-------------------------------\n",
            "loss: 0.342589  [    0/40000]\n",
            "loss: 0.255842  [ 6400/40000]\n",
            "loss: 0.242366  [12800/40000]\n",
            "loss: 0.352517  [19200/40000]\n",
            "loss: 0.226028  [25600/40000]\n",
            "loss: 0.326725  [32000/40000]\n",
            "loss: 0.337408  [38400/40000]\n",
            "train loss: 0.3137102722644806, train_acc: 0.9216\n",
            "Epoch 23\n",
            "-------------------------------\n",
            "loss: 0.197666  [    0/40000]\n",
            "loss: 0.203815  [ 6400/40000]\n",
            "loss: 0.395810  [12800/40000]\n",
            "loss: 0.358705  [19200/40000]\n",
            "loss: 0.237022  [25600/40000]\n",
            "loss: 0.324814  [32000/40000]\n",
            "loss: 0.372459  [38400/40000]\n",
            "train loss: 0.2907500694155693, train_acc: 0.92975\n",
            "Epoch 24\n",
            "-------------------------------\n",
            "loss: 0.209400  [    0/40000]\n",
            "loss: 0.304307  [ 6400/40000]\n",
            "loss: 0.335142  [12800/40000]\n",
            "loss: 0.343384  [19200/40000]\n",
            "loss: 0.189517  [25600/40000]\n",
            "loss: 0.375164  [32000/40000]\n",
            "loss: 0.292940  [38400/40000]\n",
            "train loss: 0.2664328665971756, train_acc: 0.9388\n",
            "Epoch 25\n",
            "-------------------------------\n",
            "loss: 0.305658  [    0/40000]\n",
            "loss: 0.231374  [ 6400/40000]\n",
            "loss: 0.197414  [12800/40000]\n",
            "loss: 0.260551  [19200/40000]\n",
            "loss: 0.303087  [25600/40000]\n",
            "loss: 0.227500  [32000/40000]\n",
            "loss: 0.221914  [38400/40000]\n",
            "train loss: 0.24600950255393983, train_acc: 0.946\n",
            "Epoch 26\n",
            "-------------------------------\n",
            "loss: 0.196381  [    0/40000]\n",
            "loss: 0.190580  [ 6400/40000]\n",
            "loss: 0.176846  [12800/40000]\n",
            "loss: 0.245530  [19200/40000]\n",
            "loss: 0.219802  [25600/40000]\n",
            "loss: 0.267988  [32000/40000]\n",
            "loss: 0.223724  [38400/40000]\n",
            "train loss: 0.22731481636762618, train_acc: 0.95195\n",
            "Epoch 27\n",
            "-------------------------------\n",
            "loss: 0.181384  [    0/40000]\n",
            "loss: 0.232486  [ 6400/40000]\n",
            "loss: 0.181809  [12800/40000]\n",
            "loss: 0.182951  [19200/40000]\n",
            "loss: 0.269299  [25600/40000]\n",
            "loss: 0.160295  [32000/40000]\n",
            "loss: 0.205579  [38400/40000]\n",
            "train loss: 0.21325574027299882, train_acc: 0.9554\n",
            "Epoch 28\n",
            "-------------------------------\n",
            "loss: 0.168220  [    0/40000]\n",
            "loss: 0.194471  [ 6400/40000]\n",
            "loss: 0.138166  [12800/40000]\n",
            "loss: 0.195087  [19200/40000]\n",
            "loss: 0.184158  [25600/40000]\n",
            "loss: 0.206923  [32000/40000]\n",
            "loss: 0.115968  [38400/40000]\n",
            "train loss: 0.19845284601449967, train_acc: 0.9622\n",
            "Epoch 29\n",
            "-------------------------------\n",
            "loss: 0.202819  [    0/40000]\n",
            "loss: 0.140225  [ 6400/40000]\n",
            "loss: 0.193927  [12800/40000]\n",
            "loss: 0.151624  [19200/40000]\n",
            "loss: 0.238210  [25600/40000]\n",
            "loss: 0.196287  [32000/40000]\n",
            "loss: 0.192167  [38400/40000]\n",
            "train loss: 0.18737167012691497, train_acc: 0.9654\n",
            "Epoch 30\n",
            "-------------------------------\n",
            "loss: 0.141659  [    0/40000]\n",
            "loss: 0.151584  [ 6400/40000]\n",
            "loss: 0.179111  [12800/40000]\n",
            "loss: 0.185818  [19200/40000]\n",
            "loss: 0.152211  [25600/40000]\n",
            "loss: 0.177968  [32000/40000]\n",
            "loss: 0.223293  [38400/40000]\n",
            "train loss: 0.17501965817213058, train_acc: 0.96965\n",
            "Epoch 31\n",
            "-------------------------------\n",
            "loss: 0.162447  [    0/40000]\n",
            "loss: 0.115363  [ 6400/40000]\n",
            "loss: 0.145642  [12800/40000]\n",
            "loss: 0.135435  [19200/40000]\n",
            "loss: 0.123545  [25600/40000]\n",
            "loss: 0.173988  [32000/40000]\n",
            "loss: 0.188577  [38400/40000]\n",
            "train loss: 0.16769668651819228, train_acc: 0.972425\n",
            "Epoch 32\n",
            "-------------------------------\n",
            "loss: 0.127286  [    0/40000]\n",
            "loss: 0.202260  [ 6400/40000]\n",
            "loss: 0.175321  [12800/40000]\n",
            "loss: 0.226528  [19200/40000]\n",
            "loss: 0.282280  [25600/40000]\n",
            "loss: 0.182926  [32000/40000]\n",
            "loss: 0.170575  [38400/40000]\n",
            "train loss: 0.15912407307624818, train_acc: 0.9748\n",
            "Epoch 33\n",
            "-------------------------------\n",
            "loss: 0.153261  [    0/40000]\n",
            "loss: 0.124888  [ 6400/40000]\n",
            "loss: 0.118857  [12800/40000]\n",
            "loss: 0.200803  [19200/40000]\n",
            "loss: 0.165319  [25600/40000]\n",
            "loss: 0.109687  [32000/40000]\n",
            "loss: 0.142964  [38400/40000]\n",
            "train loss: 0.15103233855962753, train_acc: 0.97755\n",
            "Epoch 34\n",
            "-------------------------------\n",
            "loss: 0.112934  [    0/40000]\n",
            "loss: 0.105799  [ 6400/40000]\n",
            "loss: 0.162232  [12800/40000]\n",
            "loss: 0.138387  [19200/40000]\n",
            "loss: 0.150810  [25600/40000]\n",
            "loss: 0.144455  [32000/40000]\n",
            "loss: 0.131614  [38400/40000]\n",
            "train loss: 0.14561316459178925, train_acc: 0.978825\n",
            "Epoch 35\n",
            "-------------------------------\n",
            "loss: 0.168533  [    0/40000]\n",
            "loss: 0.150970  [ 6400/40000]\n",
            "loss: 0.172049  [12800/40000]\n",
            "loss: 0.110048  [19200/40000]\n",
            "loss: 0.156270  [25600/40000]\n",
            "loss: 0.109338  [32000/40000]\n",
            "loss: 0.154068  [38400/40000]\n",
            "train loss: 0.14112385162115096, train_acc: 0.98005\n",
            "Epoch 36\n",
            "-------------------------------\n",
            "loss: 0.205677  [    0/40000]\n",
            "loss: 0.120497  [ 6400/40000]\n",
            "loss: 0.099927  [12800/40000]\n",
            "loss: 0.122369  [19200/40000]\n",
            "loss: 0.257480  [25600/40000]\n",
            "loss: 0.113416  [32000/40000]\n",
            "loss: 0.138607  [38400/40000]\n",
            "train loss: 0.13729651831388473, train_acc: 0.98085\n",
            "Epoch 37\n",
            "-------------------------------\n",
            "loss: 0.131690  [    0/40000]\n",
            "loss: 0.136926  [ 6400/40000]\n",
            "loss: 0.208481  [12800/40000]\n",
            "loss: 0.127197  [19200/40000]\n",
            "loss: 0.127797  [25600/40000]\n",
            "loss: 0.161923  [32000/40000]\n",
            "loss: 0.144295  [38400/40000]\n",
            "train loss: 0.13447842067480087, train_acc: 0.982725\n",
            "Epoch 38\n",
            "-------------------------------\n",
            "loss: 0.170697  [    0/40000]\n",
            "loss: 0.141495  [ 6400/40000]\n",
            "loss: 0.097700  [12800/40000]\n",
            "loss: 0.109640  [19200/40000]\n",
            "loss: 0.094667  [25600/40000]\n",
            "loss: 0.115168  [32000/40000]\n",
            "loss: 0.147581  [38400/40000]\n",
            "train loss: 0.130912846326828, train_acc: 0.9836\n",
            "Epoch 39\n",
            "-------------------------------\n",
            "loss: 0.106221  [    0/40000]\n",
            "loss: 0.213832  [ 6400/40000]\n",
            "loss: 0.137904  [12800/40000]\n",
            "loss: 0.141178  [19200/40000]\n",
            "loss: 0.110618  [25600/40000]\n",
            "loss: 0.177640  [32000/40000]\n",
            "loss: 0.150360  [38400/40000]\n",
            "train loss: 0.131455633187294, train_acc: 0.9834\n",
            "Epoch 40\n",
            "-------------------------------\n",
            "loss: 0.151486  [    0/40000]\n",
            "loss: 0.163455  [ 6400/40000]\n",
            "loss: 0.182810  [12800/40000]\n",
            "loss: 0.125275  [19200/40000]\n",
            "loss: 0.177528  [25600/40000]\n",
            "loss: 0.108773  [32000/40000]\n",
            "loss: 0.108751  [38400/40000]\n",
            "train loss: 0.13201260585784913, train_acc: 0.982775\n",
            "Done!\n",
            "Training time: 243.01827597618103\n"
          ]
        }
      ]
    },
    {
      "cell_type": "markdown",
      "metadata": {
        "id": "ZR0I_HJwEWx2"
      },
      "source": [
        "The train accuracy improved further with a best value of 0.983. Let's look at the training curves:"
      ]
    },
    {
      "cell_type": "code",
      "metadata": {
        "id": "4Gh-okj-EZSP",
        "colab": {
          "base_uri": "https://localhost:8080/",
          "height": 297
        },
        "outputId": "9c979a82-3870-48b8-a472-3ddb692231f1"
      },
      "source": [
        "import matplotlib.pyplot as plt\n",
        "\n",
        "plt.subplot(1, 2, 1)\n",
        "plt.plot(range(epochs), train_losses, color='blue', label='train')\n",
        "plt.xlabel('epochs')\n",
        "plt.ylabel('loss')\n",
        "plt.legend(loc='upper right')\n",
        "\n",
        "plt.subplot(1, 2, 2)\n",
        "plt.plot(range(epochs), train_accuracies, color='blue', label='train')\n",
        "plt.xlabel('epochs')\n",
        "plt.ylabel('accuracy')\n",
        "plt.legend(loc='upper left')\n",
        "\n",
        "plt.tight_layout()\n",
        "plt.show()"
      ],
      "execution_count": null,
      "outputs": [
        {
          "output_type": "display_data",
          "data": {
            "text/plain": [
              "<Figure size 432x288 with 2 Axes>"
            ],
            "image/png": "[encoded data removed]"
          },
          "metadata": {
            "needs_background": "light"
          }
        }
      ]
    },
    {
      "cell_type": "markdown",
      "metadata": {
        "id": "OiPQhF8QF3Qc"
      },
      "source": [
        "We will stop here, as we already have a very good training regime. To sum up, this is our current configuration:\n",
        "\n",
        "\n",
        "*   Data preprocessing: scale pixel values between 0 and 1 (we did not explore this).\n",
        "*   Weight initialization: He.\n",
        "*   Batch normalization: yes.\n",
        "*   Batch size: 64 (we did not explore this hyperparameter).\n",
        "*   Learning rate (initial): 1e-4.\n",
        "*   Epochs: 40.\n",
        "*   Optimizer: Adam.\n",
        "*   Scheduler: Cosine (we did not test other schedulers).\n",
        "\n",
        "Our best training accuracy is 0.98.\n",
        "\n",
        "Let's save our best trained model in the disk, just in case.\n",
        "\n",
        "**EXERCISE:** write the code to save the trained model under the name of *model.pth*.\n",
        "\n"
      ]
    },
    {
      "cell_type": "code",
      "metadata": {
        "id": "C6mbnoEyILcd",
        "colab": {
          "base_uri": "https://localhost:8080/"
        },
        "outputId": "d9c3331e-0e15-4390-ac0f-a23a110a16ae"
      },
      "source": [
        "from google.colab import drive\n",
        "drive.mount('/content/gdrive')\n",
        "\n",
        "model_save_name = 'model.pth'\n",
        "path = F\"/content/gdrive/MyDrive/{model_save_name}\"\n",
        "torch.save(model.state_dict(), path)"
      ],
      "execution_count": null,
      "outputs": [
        {
          "output_type": "stream",
          "name": "stdout",
          "text": [
            "Drive already mounted at /content/gdrive; to attempt to forcibly remount, call drive.mount(\"/content/gdrive\", force_remount=True).\n"
          ]
        }
      ]
    },
    {
      "cell_type": "markdown",
      "metadata": {
        "id": "xAY4OBGvGqt1"
      },
      "source": [
        "##Improve your test error\n",
        "Although our training accuracy is very good and we should be satisfied, the most important performance metric is accuracy for new, unseen samples. We will estimate such performance using our development set. \n",
        "\n",
        "**EXERCISE:** write the code to load the previously saved Pytorch model called *model.pth* into the `model` variable."
      ]
    },
    {
      "cell_type": "code",
      "metadata": {
        "id": "v8y_Kpq5Npjy",
        "colab": {
          "base_uri": "https://localhost:8080/"
        },
        "outputId": "48e8b16c-17c6-4d9a-bc5a-ae255ac0bd5d"
      },
      "source": [
        "model.load_state_dict(torch.load(path))\n"
      ],
      "execution_count": null,
      "outputs": [
        {
          "output_type": "execute_result",
          "data": {
            "text/plain": [
              "<All keys matched successfully>"
            ]
          },
          "metadata": {},
          "execution_count": 61
        }
      ]
    },
    {
      "cell_type": "markdown",
      "metadata": {
        "id": "37dx8nE6DTFe"
      },
      "source": [
        "**EXERCISE:** write the code to create `dev_dataloader` from `dev_set`. Do not shuffle the data for development, as it is only to check the performance. Write also de code to call to `test_loop` and obtain `dev_loss` and `dev_acc`."
      ]
    },
    {
      "cell_type": "code",
      "metadata": {
        "id": "hJ1fUFIuNvrJ",
        "colab": {
          "base_uri": "https://localhost:8080/"
        },
        "outputId": "117e2f35-862c-494a-de44-e2871249d728"
      },
      "source": [
        "dev_dataloader = DataLoader(dev_set,batch_size)\n",
        "dev_loss, dev_acc = test_loop(dev_dataloader, model, loss_fn, device)\n",
        "\"\"\"\n",
        "def test_loop(dataloader, model, loss_fn, device):\n",
        "    model.eval()\n",
        "    size = len(dataloader.dataset)\n",
        "    num_batches = len(dataloader)\n",
        "    test_loss, test_acc = 0, 0\n",
        "\n",
        "    with torch.no_grad():\n",
        "        for X, y in dataloader:\n",
        "          X = X.to(device)\n",
        "          y = y.to(device)\n",
        "          pred = model(X)\n",
        "          test_loss += loss_fn(pred, y).item()\n",
        "          test_acc += (pred.argmax(1) == y).type(torch.float).sum().item()\n",
        "            \n",
        "    test_loss /= num_batches\n",
        "    test_acc /= size\n",
        "    print(f\"Test Error: \\n Accuracy: {(100*test_acc):>0.1f}%, Avg loss: {test_loss:>8f} \\n\")\n",
        "    return test_loss, test_acc\"\"\"\n",
        "########################\n",
        "\n",
        "print(f'dev loss: {dev_loss}, dev accuracy: {dev_acc}')"
      ],
      "execution_count": null,
      "outputs": [
        {
          "output_type": "stream",
          "name": "stdout",
          "text": [
            "Test Error: \n",
            " Accuracy: 54.2%, Avg loss: 1.648208 \n",
            "\n",
            "dev loss: 1.6482075832451983, dev accuracy: 0.5416\n"
          ]
        }
      ]
    },
    {
      "cell_type": "markdown",
      "metadata": {
        "id": "SgaESpfGPPZy"
      },
      "source": [
        "Our model is clearly overfitting! It obtains 0.54 accuracy for new data, when training accuracy was 0.98. We need some regularization here. But first of all, we have to check learning curves also for development data, to have a better diagnose. To reduce training time, we will only train for 20 epochs, as it is enough to have a clear idea of what is going on:"
      ]
    },
    {
      "cell_type": "code",
      "metadata": {
        "id": "R63AaqbuQeW0",
        "colab": {
          "base_uri": "https://localhost:8080/"
        },
        "outputId": "6b32924c-46df-430e-e0cf-9101aff5398b"
      },
      "source": [
        "import time\n",
        "\n",
        "learning_rate = 1e-4\n",
        "batch_size = 64\n",
        "epochs = 20\n",
        "\n",
        "# For reproducibility\n",
        "torch.manual_seed(0)\n",
        "\n",
        "model = MyMLPBN()\n",
        "model = model.to(device)\n",
        "\n",
        "train_dataloader = DataLoader(train_set, batch_size=batch_size, shuffle=True)\n",
        "dev_dataloader = DataLoader(dev_set, batch_size=batch_size, shuffle=False)\n",
        "\n",
        "loss_fn = nn.CrossEntropyLoss()\n",
        "optimizer = torch.optim.Adam(model.parameters(), lr=learning_rate)\n",
        "scheduler = torch.optim.lr_scheduler.CosineAnnealingLR(optimizer, T_max=epochs)\n",
        "\n",
        "train_losses, train_accuracies, dev_accuracies, dev_losses  = [], [], [], []\n",
        "start = time.time()\n",
        "for t in range(epochs):\n",
        "    print(f\"Epoch {t+1}\\n-------------------------------\")\n",
        "    train_loss, train_acc = train_loop_scheduler(train_dataloader, model, loss_fn, optimizer, scheduler, device)\n",
        "    print(f'train loss: {train_loss}, train_acc: {train_acc}')\n",
        "    train_losses.append(train_loss)\n",
        "    train_accuracies.append(train_acc)\n",
        "    dev_loss, dev_acc = test_loop(dev_dataloader, model, loss_fn, device)\n",
        "    dev_losses.append(dev_loss)\n",
        "    dev_accuracies.append(dev_acc)    \n",
        "end = time.time()\n",
        "print(\"Done!\")\n",
        "print(f'Best dev accuracy: {max(dev_accuracies)} in epoch {dev_accuracies.index(max(dev_accuracies))+1}')\n",
        "print(f'Training time: {end-start}')"
      ],
      "execution_count": null,
      "outputs": [
        {
          "output_type": "stream",
          "name": "stdout",
          "text": [
            "Epoch 1\n",
            "-------------------------------\n",
            "loss: 2.817509  [    0/40000]\n",
            "loss: 1.810218  [ 6400/40000]\n",
            "loss: 1.538449  [12800/40000]\n",
            "loss: 1.541885  [19200/40000]\n",
            "loss: 1.408666  [25600/40000]\n",
            "loss: 1.488074  [32000/40000]\n",
            "loss: 1.639456  [38400/40000]\n",
            "train loss: 1.6729518020629883, train_acc: 0.4125\n",
            "Test Error: \n",
            " Accuracy: 46.1%, Avg loss: 1.546681 \n",
            "\n",
            "Epoch 2\n",
            "-------------------------------\n",
            "loss: 1.523000  [    0/40000]\n",
            "loss: 1.816629  [ 6400/40000]\n",
            "loss: 1.473076  [12800/40000]\n",
            "loss: 1.500469  [19200/40000]\n",
            "loss: 1.328741  [25600/40000]\n",
            "loss: 1.523757  [32000/40000]\n",
            "loss: 1.345215  [38400/40000]\n",
            "train loss: 1.4091113867759704, train_acc: 0.506725\n",
            "Test Error: \n",
            " Accuracy: 48.9%, Avg loss: 1.467902 \n",
            "\n",
            "Epoch 3\n",
            "-------------------------------\n",
            "loss: 1.331209  [    0/40000]\n",
            "loss: 1.411134  [ 6400/40000]\n",
            "loss: 1.184598  [12800/40000]\n",
            "loss: 1.297385  [19200/40000]\n",
            "loss: 1.269835  [25600/40000]\n",
            "loss: 1.475968  [32000/40000]\n",
            "loss: 1.304483  [38400/40000]\n",
            "train loss: 1.288541773891449, train_acc: 0.5528\n",
            "Test Error: \n",
            " Accuracy: 49.1%, Avg loss: 1.451494 \n",
            "\n",
            "Epoch 4\n",
            "-------------------------------\n",
            "loss: 1.214763  [    0/40000]\n",
            "loss: 1.084800  [ 6400/40000]\n",
            "loss: 1.334317  [12800/40000]\n",
            "loss: 1.209212  [19200/40000]\n",
            "loss: 1.172113  [25600/40000]\n",
            "loss: 1.072075  [32000/40000]\n",
            "loss: 1.236855  [38400/40000]\n",
            "train loss: 1.1945486135482788, train_acc: 0.58805\n",
            "Test Error: \n",
            " Accuracy: 50.2%, Avg loss: 1.423485 \n",
            "\n",
            "Epoch 5\n",
            "-------------------------------\n",
            "loss: 1.121506  [    0/40000]\n",
            "loss: 1.246459  [ 6400/40000]\n",
            "loss: 1.167043  [12800/40000]\n",
            "loss: 0.970775  [19200/40000]\n",
            "loss: 1.325508  [25600/40000]\n",
            "loss: 1.522551  [32000/40000]\n",
            "loss: 1.098764  [38400/40000]\n",
            "train loss: 1.1133528510093689, train_acc: 0.619075\n",
            "Test Error: \n",
            " Accuracy: 51.5%, Avg loss: 1.397188 \n",
            "\n",
            "Epoch 6\n",
            "-------------------------------\n",
            "loss: 1.040627  [    0/40000]\n",
            "loss: 1.129180  [ 6400/40000]\n",
            "loss: 0.892339  [12800/40000]\n",
            "loss: 1.221351  [19200/40000]\n",
            "loss: 1.084559  [25600/40000]\n",
            "loss: 1.031013  [32000/40000]\n",
            "loss: 1.218766  [38400/40000]\n",
            "train loss: 1.0378990159988404, train_acc: 0.648125\n",
            "Test Error: \n",
            " Accuracy: 48.2%, Avg loss: 1.472820 \n",
            "\n",
            "Epoch 7\n",
            "-------------------------------\n",
            "loss: 0.887385  [    0/40000]\n",
            "loss: 1.067488  [ 6400/40000]\n",
            "loss: 0.936511  [12800/40000]\n",
            "loss: 0.953050  [19200/40000]\n",
            "loss: 0.976637  [25600/40000]\n",
            "loss: 0.869571  [32000/40000]\n",
            "loss: 1.013722  [38400/40000]\n",
            "train loss: 0.9667457139968872, train_acc: 0.678725\n",
            "Test Error: \n",
            " Accuracy: 49.2%, Avg loss: 1.468529 \n",
            "\n",
            "Epoch 8\n",
            "-------------------------------\n",
            "loss: 0.942140  [    0/40000]\n",
            "loss: 0.758919  [ 6400/40000]\n",
            "loss: 0.805391  [12800/40000]\n",
            "loss: 0.866642  [19200/40000]\n",
            "loss: 0.912000  [25600/40000]\n",
            "loss: 0.926772  [32000/40000]\n",
            "loss: 0.955029  [38400/40000]\n",
            "train loss: 0.9037611788749694, train_acc: 0.7017\n",
            "Test Error: \n",
            " Accuracy: 50.9%, Avg loss: 1.389849 \n",
            "\n",
            "Epoch 9\n",
            "-------------------------------\n",
            "loss: 0.667862  [    0/40000]\n",
            "loss: 0.802104  [ 6400/40000]\n",
            "loss: 0.789556  [12800/40000]\n",
            "loss: 0.915203  [19200/40000]\n",
            "loss: 0.868981  [25600/40000]\n",
            "loss: 0.982550  [32000/40000]\n",
            "loss: 0.901272  [38400/40000]\n",
            "train loss: 0.8381934819221497, train_acc: 0.72735\n",
            "Test Error: \n",
            " Accuracy: 51.1%, Avg loss: 1.429157 \n",
            "\n",
            "Epoch 10\n",
            "-------------------------------\n",
            "loss: 0.638966  [    0/40000]\n",
            "loss: 0.784662  [ 6400/40000]\n",
            "loss: 0.735874  [12800/40000]\n",
            "loss: 0.976500  [19200/40000]\n",
            "loss: 0.770183  [25600/40000]\n",
            "loss: 0.795639  [32000/40000]\n",
            "loss: 0.716991  [38400/40000]\n",
            "train loss: 0.7844936175346374, train_acc: 0.749425\n",
            "Test Error: \n",
            " Accuracy: 52.0%, Avg loss: 1.423092 \n",
            "\n",
            "Epoch 11\n",
            "-------------------------------\n",
            "loss: 0.638004  [    0/40000]\n",
            "loss: 0.760795  [ 6400/40000]\n",
            "loss: 0.708007  [12800/40000]\n",
            "loss: 0.863556  [19200/40000]\n",
            "loss: 0.953749  [25600/40000]\n",
            "loss: 0.708795  [32000/40000]\n",
            "loss: 0.728794  [38400/40000]\n",
            "train loss: 0.729024598312378, train_acc: 0.769475\n",
            "Test Error: \n",
            " Accuracy: 53.3%, Avg loss: 1.361003 \n",
            "\n",
            "Epoch 12\n",
            "-------------------------------\n",
            "loss: 0.652430  [    0/40000]\n",
            "loss: 0.637341  [ 6400/40000]\n",
            "loss: 0.703072  [12800/40000]\n",
            "loss: 0.678942  [19200/40000]\n",
            "loss: 0.679336  [25600/40000]\n",
            "loss: 0.705615  [32000/40000]\n",
            "loss: 0.576259  [38400/40000]\n",
            "train loss: 0.6759276713848114, train_acc: 0.793325\n",
            "Test Error: \n",
            " Accuracy: 51.5%, Avg loss: 1.446223 \n",
            "\n",
            "Epoch 13\n",
            "-------------------------------\n",
            "loss: 0.530882  [    0/40000]\n",
            "loss: 0.660423  [ 6400/40000]\n",
            "loss: 0.639806  [12800/40000]\n",
            "loss: 0.606581  [19200/40000]\n",
            "loss: 0.754793  [25600/40000]\n",
            "loss: 0.550859  [32000/40000]\n",
            "loss: 0.580126  [38400/40000]\n",
            "train loss: 0.6307289776802063, train_acc: 0.813625\n",
            "Test Error: \n",
            " Accuracy: 52.0%, Avg loss: 1.405335 \n",
            "\n",
            "Epoch 14\n",
            "-------------------------------\n",
            "loss: 0.707980  [    0/40000]\n",
            "loss: 0.771883  [ 6400/40000]\n",
            "loss: 0.574363  [12800/40000]\n",
            "loss: 0.580418  [19200/40000]\n",
            "loss: 0.693215  [25600/40000]\n",
            "loss: 0.582273  [32000/40000]\n",
            "loss: 0.593465  [38400/40000]\n",
            "train loss: 0.5942318902492523, train_acc: 0.828675\n",
            "Test Error: \n",
            " Accuracy: 53.3%, Avg loss: 1.373648 \n",
            "\n",
            "Epoch 15\n",
            "-------------------------------\n",
            "loss: 0.586537  [    0/40000]\n",
            "loss: 0.502930  [ 6400/40000]\n",
            "loss: 0.539188  [12800/40000]\n",
            "loss: 0.611135  [19200/40000]\n",
            "loss: 0.482172  [25600/40000]\n",
            "loss: 0.584574  [32000/40000]\n",
            "loss: 0.598499  [38400/40000]\n",
            "train loss: 0.5630480802536011, train_acc: 0.842525\n",
            "Test Error: \n",
            " Accuracy: 54.1%, Avg loss: 1.353190 \n",
            "\n",
            "Epoch 16\n",
            "-------------------------------\n",
            "loss: 0.587442  [    0/40000]\n",
            "loss: 0.436357  [ 6400/40000]\n",
            "loss: 0.674752  [12800/40000]\n",
            "loss: 0.542472  [19200/40000]\n",
            "loss: 0.460945  [25600/40000]\n",
            "loss: 0.563254  [32000/40000]\n",
            "loss: 0.441419  [38400/40000]\n",
            "train loss: 0.5359328997135162, train_acc: 0.855075\n",
            "Test Error: \n",
            " Accuracy: 54.6%, Avg loss: 1.355445 \n",
            "\n",
            "Epoch 17\n",
            "-------------------------------\n",
            "loss: 0.654246  [    0/40000]\n",
            "loss: 0.543988  [ 6400/40000]\n",
            "loss: 0.474295  [12800/40000]\n",
            "loss: 0.504807  [19200/40000]\n",
            "loss: 0.631315  [25600/40000]\n",
            "loss: 0.470421  [32000/40000]\n",
            "loss: 0.606053  [38400/40000]\n",
            "train loss: 0.5157989026069641, train_acc: 0.862925\n",
            "Test Error: \n",
            " Accuracy: 54.4%, Avg loss: 1.361793 \n",
            "\n",
            "Epoch 18\n",
            "-------------------------------\n",
            "loss: 0.583159  [    0/40000]\n",
            "loss: 0.452145  [ 6400/40000]\n",
            "loss: 0.364195  [12800/40000]\n",
            "loss: 0.400912  [19200/40000]\n",
            "loss: 0.638287  [25600/40000]\n",
            "loss: 0.424513  [32000/40000]\n",
            "loss: 0.485552  [38400/40000]\n",
            "train loss: 0.500823400259018, train_acc: 0.867725\n",
            "Test Error: \n",
            " Accuracy: 54.4%, Avg loss: 1.341106 \n",
            "\n",
            "Epoch 19\n",
            "-------------------------------\n",
            "loss: 0.450807  [    0/40000]\n",
            "loss: 0.446471  [ 6400/40000]\n",
            "loss: 0.336047  [12800/40000]\n",
            "loss: 0.452298  [19200/40000]\n",
            "loss: 0.523429  [25600/40000]\n",
            "loss: 0.496079  [32000/40000]\n",
            "loss: 0.349587  [38400/40000]\n",
            "train loss: 0.4925736090183258, train_acc: 0.87295\n",
            "Test Error: \n",
            " Accuracy: 54.5%, Avg loss: 1.345519 \n",
            "\n",
            "Epoch 20\n",
            "-------------------------------\n",
            "loss: 0.493485  [    0/40000]\n",
            "loss: 0.510776  [ 6400/40000]\n",
            "loss: 0.453659  [12800/40000]\n",
            "loss: 0.355059  [19200/40000]\n",
            "loss: 0.416687  [25600/40000]\n",
            "loss: 0.463485  [32000/40000]\n",
            "loss: 0.586096  [38400/40000]\n",
            "train loss: 0.48799409465789795, train_acc: 0.877125\n",
            "Test Error: \n",
            " Accuracy: 54.7%, Avg loss: 1.343036 \n",
            "\n",
            "Done!\n",
            "Best dev accuracy: 0.5471 in epoch 20\n",
            "Training time: 146.34935927391052\n"
          ]
        }
      ]
    },
    {
      "cell_type": "code",
      "metadata": {
        "id": "lRGJxq13RcLv",
        "colab": {
          "base_uri": "https://localhost:8080/",
          "height": 297
        },
        "outputId": "07d03263-4aea-4706-f755-35d6e53bb5c5"
      },
      "source": [
        "import matplotlib.pyplot as plt\n",
        "\n",
        "plt.subplot(1, 2, 1)\n",
        "plt.plot(range(epochs), train_losses, color='blue', label='train')\n",
        "plt.plot(range(epochs), dev_losses, color='green', label='dev')\n",
        "plt.xlabel('epochs')\n",
        "plt.ylabel('loss')\n",
        "plt.legend(loc='upper right')\n",
        "\n",
        "plt.subplot(1, 2, 2)\n",
        "plt.plot(range(epochs), train_accuracies, color='blue', label='train')\n",
        "plt.plot(range(epochs), dev_accuracies, color='green', label='dev')\n",
        "plt.xlabel('epochs')\n",
        "plt.ylabel('accuracy')\n",
        "plt.legend(loc='upper left')\n",
        "\n",
        "plt.tight_layout()\n",
        "plt.show()"
      ],
      "execution_count": null,
      "outputs": [
        {
          "output_type": "display_data",
          "data": {
            "text/plain": [
              "<Figure size 432x288 with 2 Axes>"
            ],
            "image/png": "[encoded data removed]"
          },
          "metadata": {
            "needs_background": "light"
          }
        }
      ]
    },
    {
      "cell_type": "markdown",
      "metadata": {
        "id": "ujhgkuaBVpbj"
      },
      "source": [
        "The development performance plateaus very early in the training process. That means that the features learned during the training phase do not help for development (new) data. Our network is learning irrelevant features for the problem. We have to attack that problem now, and our weapons are regularization techniques."
      ]
    },
    {
      "cell_type": "markdown",
      "metadata": {
        "id": "JDNKbYi5HQZ9"
      },
      "source": [
        "###Data augmentation\n",
        "Data augmentation is always a good idea and it is specially well suited for images. In Pytorch, using the torchvision library, it is remarkably easy to implement data augmentation pipelines. You can have a look [here](https://pytorch.org/vision/stable/auto_examples/plot_transforms.html#sphx-glr-auto-examples-plot-transforms-py) to see the available transformations and their effects.\n",
        "\n",
        "**EXERCISE:** Using `transforms.Compose`, build the data augmentation pipeline in the variable `our_transforms`. Use the following transforms for the pipeline: random horizontal flip (probability of 0.5), color jitter (default parameters), random crop (size $28 \\times 28$) and random invert (probability of 0.5).\n",
        "\n",
        "**NOTE FOR THE EXERCISE:** after applying a random crop, your image will become of size $28 \\times 28$. Check what you should do to restore its previous size."
      ]
    },
    {
      "cell_type": "code",
      "metadata": {
        "id": "uDtEZDiZH2cS",
        "colab": {
          "base_uri": "https://localhost:8080/",
          "height": 152
        },
        "outputId": "7de089c5-d753-46de-f6bc-12e23d0fa01e"
      },
      "source": [
        "import torchvision\n",
        "\n",
        "our_transforms = transforms.Compose([\n",
        "                    torchvision.transforms.RandomHorizontalFlip(p=0.5),\n",
        "                    torchvision.transforms.ColorJitter(),\n",
        "                    torchvision.transforms.RandomCrop(size=(28,28)),\n",
        "                    torchvision.transforms.RandomInvert(p=0.5),\n",
        "                    torchvision.transforms.ToTensor()])\n",
        "\n",
        "# Add the transforms to our dataset\n",
        "# NOTE: From now on, train_set will always have these transforms\n",
        "train_set.dataset.transform = our_transforms \n",
        "\n",
        "# Let's visualize some images\n",
        "train_dataloader = DataLoader(train_set, batch_size=4, shuffle=True)\n",
        "imgs, labels = next(iter(train_dataloader)) # We have a batch of 4 images and labels\n",
        "\n",
        "def imshow(inp, title=None):\n",
        "    \"\"\"Imshow for Tensor.\"\"\"\n",
        "    inp = inp.numpy().transpose((1, 2, 0))    \n",
        "    inp = np.clip(inp, 0, 1)\n",
        "    plt.imshow(inp)\n",
        "    if title is not None:\n",
        "        plt.title(title)\n",
        "    plt.pause(0.001)  # pause a bit so that plots are updated\n",
        "\n",
        "\n",
        "# Make a grid from batch\n",
        "out = torchvision.utils.make_grid(imgs)\n",
        "\n",
        "imshow(out, title=[labels_map[x.item()] for x in labels])\n",
        "\n"
      ],
      "execution_count": null,
      "outputs": [
        {
          "output_type": "display_data",
          "data": {
            "text/plain": [
              "<Figure size 432x288 with 1 Axes>"
            ],
            "image/png": "[encoded data removed]"
          },
          "metadata": {
            "needs_background": "light"
          }
        }
      ]
    },
    {
      "cell_type": "markdown",
      "metadata": {
        "id": "phoeGJM74K8D"
      },
      "source": [
        "Data augmentation, and all the other regularization techniques, make training more difficult, so we will need more epochs to obtain good results. However, increasing the number of epochs we also increase the training time, which is a problem for this lab. For that reason, we will restrict ourselves to 20 epochs of training and try to gain intuition looking at learning curves, and comparing regularization techniques on this basis. So, please, analyse the obtained results into this context. And be patient, since the following experiments needs around **6 minutes** to be completed."
      ]
    },
    {
      "cell_type": "code",
      "metadata": {
        "id": "HJyS_xyrSTBj"
      },
      "source": [
        "import time\n",
        "\n",
        "learning_rate = 1e-4\n",
        "batch_size = 64\n",
        "epochs = 20 # Restrict epochs to reduce training time\n",
        "\n",
        "# For reproducibility\n",
        "torch.manual_seed(0)\n",
        "\n",
        "model = MyMLPBN()\n",
        "model = model.to(device)\n",
        "\n",
        "train_dataloader = DataLoader(train_set, batch_size=batch_size, shuffle=True)\n",
        "dev_dataloader = DataLoader(dev_set, batch_size=batch_size, shuffle=False)\n",
        "\n",
        "loss_fn = nn.CrossEntropyLoss()\n",
        "optimizer = torch.optim.Adam(model.parameters(), lr=learning_rate)\n",
        "scheduler = torch.optim.lr_scheduler.CosineAnnealingLR(optimizer, T_max=epochs)\n",
        "\n",
        "train_losses, train_accuracies, dev_accuracies, dev_losses  = [], [], [], []\n",
        "start = time.time()\n",
        "for t in range(epochs):\n",
        "    print(f\"Epoch {t+1}\\n-------------------------------\")\n",
        "    train_loss, train_acc = train_loop_scheduler(train_dataloader, model, loss_fn, optimizer, scheduler, device)\n",
        "    print(f'train loss: {train_loss}, train_acc: {train_acc}')\n",
        "    train_losses.append(train_loss)\n",
        "    train_accuracies.append(train_acc)\n",
        "    dev_loss, dev_acc = test_loop(dev_dataloader, model, loss_fn, device)\n",
        "    dev_losses.append(dev_loss)\n",
        "    dev_accuracies.append(dev_acc)    \n",
        "end = time.time()\n",
        "print(\"Done!\")\n",
        "\n",
        "print(f'Best dev accuracy: {max(dev_accuracies)} in epoch {dev_accuracies.index(max(dev_accuracies))+1}')\n",
        "print(f'Training time: {end-start}')"
      ],
      "execution_count": null,
      "outputs": []
    },
    {
      "cell_type": "code",
      "metadata": {
        "id": "HusEPygXdBrv"
      },
      "source": [
        "import matplotlib.pyplot as plt\n",
        "\n",
        "plt.subplot(1, 2, 1)\n",
        "plt.plot(range(epochs), train_losses, color='blue', label='train')\n",
        "plt.plot(range(epochs), dev_losses, color='green', label='dev')\n",
        "plt.xlabel('epochs')\n",
        "plt.ylabel('loss')\n",
        "plt.legend(loc='upper right')\n",
        "\n",
        "plt.subplot(1, 2, 2)\n",
        "plt.plot(range(epochs), train_accuracies, color='blue', label='train')\n",
        "plt.plot(range(epochs), dev_accuracies, color='green', label='dev')\n",
        "plt.xlabel('epochs')\n",
        "plt.ylabel('accuracy')\n",
        "plt.legend(loc='upper left')\n",
        "\n",
        "plt.tight_layout()\n",
        "plt.show()"
      ],
      "execution_count": null,
      "outputs": []
    },
    {
      "cell_type": "markdown",
      "metadata": {
        "id": "KFlA2kGSu_d5"
      },
      "source": [
        "Learning curves are completely different now. Training and dev metrics are going together, which means that training performance is transferring to development performance. However, as can be seen, the best training accuracy (\\~0.50) is very far from the accuracies we obtained without data augmentation (\\~0.98). That means that training is now much harder, as the model is processing different images in each epoch. But our objective is to improve the performance in new images, i.e. dev accuracy. The best dev accuracy is 0.50, close to what we obtained with the previous model. Take into account that we trained only for 20 epochs now. And if we look at the curves, it seems our model could keep improving. Also you can try different transformations, besides the ones used here, and see what combination works better for this problem."
      ]
    },
    {
      "cell_type": "markdown",
      "metadata": {
        "id": "jsp8HEa3HPPp"
      },
      "source": [
        "###Weight decay\n",
        "Another regularization technique we saw is **weight decay**. More concretely, we will use $L2$ regularization, specifying a value for the hyperparameter $\\lambda$. \n",
        "\n",
        "**EXERCISE:** Modify the code below to include weight decay in our training process (expected training time around **6 minutes**). \n",
        "\n",
        "**HINT:** In Pytorch, weight decay has to be added in the optimizer."
      ]
    },
    {
      "cell_type": "code",
      "metadata": {
        "id": "f-C8u3TyV93P"
      },
      "source": [
        "import time\n",
        "\n",
        "learning_rate = 1e-4\n",
        "batch_size = 64\n",
        "epochs = 20\n",
        "weight_decay = 1e-3\n",
        "\n",
        "# For reproducibility\n",
        "torch.manual_seed(0)\n",
        "\n",
        "model = MyMLPBN()\n",
        "model = model.to(device)\n",
        "\n",
        "train_dataloader = DataLoader(train_set, batch_size=batch_size, shuffle=True)\n",
        "dev_dataloader = DataLoader(dev_set, batch_size=batch_size, shuffle=False)\n",
        "\n",
        "loss_fn = nn.CrossEntropyLoss()\n",
        "### WRITE YOUR CODE HERE ### (≈ 1 line)\n",
        "\n",
        "########################\n",
        "scheduler = torch.optim.lr_scheduler.CosineAnnealingLR(optimizer, T_max=epochs)\n",
        "\n",
        "train_losses, train_accuracies, dev_accuracies, dev_losses  = [], [], [], []\n",
        "start = time.time()\n",
        "for t in range(epochs):\n",
        "    print(f\"Epoch {t+1}\\n-------------------------------\")\n",
        "    train_loss, train_acc = train_loop_scheduler(train_dataloader, model, loss_fn, optimizer, scheduler, device)\n",
        "    print(f'train loss: {train_loss}, train_acc: {train_acc}')\n",
        "    train_losses.append(train_loss)\n",
        "    train_accuracies.append(train_acc)\n",
        "    dev_loss, dev_acc = test_loop(dev_dataloader, model, loss_fn, device)\n",
        "    dev_losses.append(dev_loss)\n",
        "    dev_accuracies.append(dev_acc)    \n",
        "end = time.time()\n",
        "print(\"Done!\")\n",
        "\n",
        "print(f'Best dev accuracy: {max(dev_accuracies)} in epoch {dev_accuracies.index(max(dev_accuracies))+1}')\n",
        "print(f'Training time: {end-start}')"
      ],
      "execution_count": null,
      "outputs": []
    },
    {
      "cell_type": "markdown",
      "metadata": {
        "id": "WPWPgXgy6gcO"
      },
      "source": [
        "Using only data augmentation, we obtained 0.5 best dev accuracy. Now, we get 0.504, which is a slight improvement. Different values for $\\lambda$ should be tested, using random search, for example. However, I would not expect big improvements with weight decay in this specific problem. In any case, let's see the learning curves."
      ]
    },
    {
      "cell_type": "code",
      "metadata": {
        "id": "PZ_gw3suaZZC"
      },
      "source": [
        "import matplotlib.pyplot as plt\n",
        "\n",
        "plt.subplot(1, 2, 1)\n",
        "plt.plot(range(epochs), train_losses, color='blue', label='train')\n",
        "plt.plot(range(epochs), dev_losses, color='green', label='dev')\n",
        "plt.xlabel('epochs')\n",
        "plt.ylabel('loss')\n",
        "plt.legend(loc='upper right')\n",
        "\n",
        "plt.subplot(1, 2, 2)\n",
        "plt.plot(range(epochs), train_accuracies, color='blue', label='train')\n",
        "plt.plot(range(epochs), dev_accuracies, color='green', label='dev')\n",
        "plt.xlabel('epochs')\n",
        "plt.ylabel('accuracy')\n",
        "plt.legend(loc='upper left')\n",
        "\n",
        "plt.tight_layout()\n",
        "plt.show()"
      ],
      "execution_count": null,
      "outputs": []
    },
    {
      "cell_type": "markdown",
      "metadata": {
        "id": "C1cc9S8glouA"
      },
      "source": [
        "Again, we can see that train and dev metrics are going together, which is  good."
      ]
    },
    {
      "cell_type": "markdown",
      "metadata": {
        "id": "-qtTymXcpRcK"
      },
      "source": [
        "###Dropout\n",
        "We will try to use dropout. There are still some [discussions](https://stackoverflow.com/questions/39691902/ordering-of-batch-normalization-and-dropout) regarding batch normalization and dropout. It is not clear whether they should be used together and how. Here, we will try to combine both techniques and see how it performs.\n",
        "\n",
        "**EXERCISE:** Implement the `forward` dunction of the new class `MyMLPBNDrop` combining the usage of batch normalization and dropout. We added `dropout` as argument in the function `__init__` to specify the dropout probability. "
      ]
    },
    {
      "cell_type": "code",
      "metadata": {
        "id": "1iNIXzzfpnpp"
      },
      "source": [
        "class MyMLPBNDrop(nn.Module):\n",
        "    def __init__(self, dropout):\n",
        "      super(MyMLPBNDrop, self).__init__()\n",
        "      self.p = dropout\n",
        "      self.flatten = nn.Flatten()\n",
        "      self.linear1 = nn.Linear(3*32*32, 512)\n",
        "      torch.nn.init.kaiming_uniform_(self.linear1.weight)\n",
        "      self.bn1 = nn.BatchNorm1d(num_features=512)\n",
        "      self.linear2 = nn.Linear(512, 512)\n",
        "      torch.nn.init.kaiming_uniform_(self.linear2.weight)\n",
        "      self.bn2 = nn.BatchNorm1d(num_features=512)\n",
        "      self.linear3 = nn.Linear(512, 10)\n",
        "      torch.nn.init.kaiming_uniform_(self.linear3.weight)      \n",
        "\n",
        "    def forward(self, x):\n",
        "      ### WRITE YOUR CODE HERE ### (≈ 10 lines)\n",
        "      \n",
        "      \n",
        "      ########################\n",
        "      return logits"
      ],
      "execution_count": null,
      "outputs": []
    },
    {
      "cell_type": "markdown",
      "metadata": {
        "id": "HroHRZ1p79ep"
      },
      "source": [
        "We will train the new model with dropout to see its performance. The expected training time for the next experiment is around **12 minutes**."
      ]
    },
    {
      "cell_type": "code",
      "metadata": {
        "id": "gPgPmxF_8Ldp"
      },
      "source": [
        "import time\n",
        "\n",
        "learning_rate = 1e-4\n",
        "batch_size = 64\n",
        "epochs = 20\n",
        "weight_decay = 1e-3\n",
        "\n",
        "# For reproducibility\n",
        "torch.manual_seed(0)\n",
        "\n",
        "model = MyMLPBNDrop(0.5) # We will use 0.5 probability to drop neurons out\n",
        "model = model.to(device)\n",
        "\n",
        "train_dataloader = DataLoader(train_set, batch_size=batch_size, shuffle=True)\n",
        "dev_dataloader = DataLoader(dev_set, batch_size=batch_size, shuffle=False)\n",
        "\n",
        "loss_fn = nn.CrossEntropyLoss()\n",
        "optimizer = torch.optim.Adam(model.parameters(), lr=learning_rate, weight_decay=weight_decay)\n",
        "scheduler = torch.optim.lr_scheduler.CosineAnnealingLR(optimizer, T_max=epochs)\n",
        "\n",
        "train_losses, train_accuracies, dev_accuracies, dev_losses  = [], [], [], []\n",
        "start = time.time()\n",
        "for t in range(epochs):\n",
        "    print(f\"Epoch {t+1}\\n-------------------------------\")\n",
        "    train_loss, train_acc = train_loop_scheduler(train_dataloader, model, loss_fn, optimizer, scheduler, device)\n",
        "    print(f'train loss: {train_loss}, train_acc: {train_acc}')\n",
        "    train_losses.append(train_loss)\n",
        "    train_accuracies.append(train_acc)\n",
        "    dev_loss, dev_acc = test_loop(dev_dataloader, model, loss_fn, device)\n",
        "    dev_losses.append(dev_loss)\n",
        "    dev_accuracies.append(dev_acc)    \n",
        "end = time.time()\n",
        "print(\"Done!\")\n",
        "\n",
        "print(f'Best dev accuracy: {max(dev_accuracies)} in epoch {dev_accuracies.index(max(dev_accuracies))+1}')\n",
        "print(f'Training time: {end-start}')"
      ],
      "execution_count": null,
      "outputs": []
    },
    {
      "cell_type": "markdown",
      "metadata": {
        "id": "t90PyHqrAE_w"
      },
      "source": [
        "Both train and dev accuracy are lower than before. More concretely, best dev accuracy is now 0.38, far from the 0.5 we got before. Again, my guess is that we should train much longer to see the effects of dropout better. We should also test different dropout rates and combination approaches with batch normalization. "
      ]
    },
    {
      "cell_type": "markdown",
      "metadata": {
        "id": "0859IvbsFWeb"
      },
      "source": [
        "##Performance on test data\n",
        "Even though our exploration has not been exhaustive, we obtained very interesting conclusions for this specific task:\n",
        "\n",
        "1.   One time setup considerations:\n",
        "\n",
        "\n",
        "*   Data prepocessing: scaled data (values between $[0, 1]$) works well.\n",
        "*   Weight initialization: He intialization is the best option.\n",
        "*   Batch normalization: use it!\n",
        "\n",
        "2.   Improve your training error.\n",
        "\n",
        "\n",
        "*   Optimizers: Adam with $\\alpha=10^{-4}$ works.\n",
        "*   Schedulers: using cosine scheduler we improve training results slightly.\n",
        "\n",
        "\n",
        "3.   Improve your test error.\n",
        "\n",
        "\n",
        "*   Data augmentation helps considerably.\n",
        "*   Weight decay offers slight improvements.\n",
        "*   Dropout does not help for this problem, although we haven't explored it enough."
      ]
    },
    {
      "cell_type": "markdown",
      "metadata": {
        "id": "8BIAh98DK4dF"
      },
      "source": [
        "Let's train our final model, combining all those lessons and using **Early Stopping** for model selection. For Early Stopping, we have to make some decisions:\n",
        "\n",
        "\n",
        "1.   What performance indicator are we going to use to stop? In principle, we can choose between training loss, training accuracy, dev loss and dev accuracy. As we are trying to maximize dev accuracy, that will be our target metric.\n",
        "2.   How many epochs of patience will we allow? Patience is very important. Early stopping halts the training process when we do not improve a certain metric (dev accuracy, for example). However, patience allows to wait for some epochs before stopping. It could be the case where we do not improve for 4 epochs, but in the fifth one, we obtain a better result. If our patience is 0, we will not allow that kind of behaviours. So it is convenient to set a positive patience value, which is usually dependent on the total number of epochs.\n",
        "\n"
      ]
    },
    {
      "cell_type": "markdown",
      "metadata": {
        "id": "BvYoOCm_Nadn"
      },
      "source": [
        "As this is the final training process, you can set a big number of epochs. Early stopping will halt the process if no improvements are observed!\n",
        "\n",
        "**EXERCISE:** Implement Early Stopping with patience. Basically, you have to implement an if-else statement. If current `dev_acc` is greater than the best value so far, store it and save the model to disk under the name of *model.pth*. Else, update the variable `epoch_no_improve` and if it is equal than `patience`, halt the process. \n",
        "\n",
        "**WARNING!** Long training process ahead! The following training process takes more than 40 minutes."
      ]
    },
    {
      "cell_type": "code",
      "metadata": {
        "id": "zbAvi8oII3ch"
      },
      "source": [
        "import time\n",
        "\n",
        "learning_rate = 1e-4\n",
        "batch_size = 64\n",
        "epochs = 150\n",
        "weight_decay = 1e-3\n",
        "\n",
        "# For reproducibility\n",
        "torch.manual_seed(0)\n",
        "\n",
        "model = MyMLPBN()\n",
        "model = model.to(device)\n",
        "\n",
        "train_dataloader = DataLoader(train_set, batch_size=batch_size, shuffle=True)\n",
        "dev_dataloader = DataLoader(dev_set, batch_size=batch_size, shuffle=False)\n",
        "\n",
        "loss_fn = nn.CrossEntropyLoss()\n",
        "optimizer = torch.optim.Adam(model.parameters(), lr=learning_rate, weight_decay=weight_decay)\n",
        "scheduler = torch.optim.lr_scheduler.CosineAnnealingLR(optimizer, T_max=epochs)\n",
        "\n",
        "# Early stopping stuff\n",
        "patience = 10\n",
        "best_dev_acc = 0.0\n",
        "epochs_no_improve = 0\n",
        "\n",
        "train_losses, train_accuracies, dev_accuracies, dev_losses  = [], [], [], []\n",
        "start = time.time()\n",
        "for t in range(epochs):\n",
        "    print(f\"Epoch {t+1}\\n-------------------------------\")\n",
        "    train_loss, train_acc = train_loop_scheduler(train_dataloader, model, loss_fn, optimizer, scheduler, device)\n",
        "    print(f'train loss: {train_loss}, train_acc: {train_acc}')\n",
        "    train_losses.append(train_loss)\n",
        "    train_accuracies.append(train_acc)\n",
        "    dev_loss, dev_acc = test_loop(dev_dataloader, model, loss_fn, device)\n",
        "    dev_losses.append(dev_loss)\n",
        "    dev_accuracies.append(dev_acc)\n",
        "\n",
        "    # Early stopping code\n",
        "    ### WRITE YOUR CODE HERE ### (≈ 9 lines)\n",
        "    \n",
        "    ########################\n",
        "\n",
        "end = time.time()\n",
        "print(\"Done!\")\n",
        "\n",
        "print(f'Best dev accuracy: {max(dev_accuracies)} in epoch {dev_accuracies.index(max(dev_accuracies))+1}')\n",
        "print(f'Training time: {end-start}')"
      ],
      "execution_count": null,
      "outputs": []
    },
    {
      "cell_type": "markdown",
      "metadata": {
        "id": "jDGXPzIZA2dr"
      },
      "source": [
        "In my case, the experiment stopped at epoch 102. The best dev accuracy is 0.5763, obtained at epoch 92 (totally expected, as the patience value is 10). \n",
        "\n",
        "**HINT:** if you go to the file explorer in the left hand side of Colab, you can see the stored model *model.pth*. As Colab sessions are volatile, download the model to your local disk just in case. You can upload any file to your Colab disk in any moment.\n",
        "\n",
        "Let's visualize the learning curves:"
      ]
    },
    {
      "cell_type": "code",
      "metadata": {
        "id": "31CgLMRVKaV5"
      },
      "source": [
        "import matplotlib.pyplot as plt\n",
        "\n",
        "plt.subplot(1, 2, 1)\n",
        "plt.plot(range(len(train_losses)), train_losses, color='blue', label='train')\n",
        "plt.plot(range(len(train_losses)), dev_losses, color='green', label='dev')\n",
        "plt.xlabel('epochs')\n",
        "plt.ylabel('loss')\n",
        "plt.legend(loc='upper right')\n",
        "\n",
        "plt.subplot(1, 2, 2)\n",
        "plt.plot(range(len(train_accuracies)), train_accuracies, color='blue', label='train')\n",
        "plt.plot(range(len(train_accuracies)), dev_accuracies, color='green', label='dev')\n",
        "plt.xlabel('epochs')\n",
        "plt.ylabel('accuracy')\n",
        "plt.legend(loc='upper left')\n",
        "\n",
        "plt.tight_layout()\n",
        "plt.show()"
      ],
      "execution_count": null,
      "outputs": []
    },
    {
      "cell_type": "markdown",
      "metadata": {
        "id": "SomtpPj1Bm9p"
      },
      "source": [
        "As said before, using regularization makes training more difficult, so the network needs more epochs. We can observe that training and development metrics are going together, but the gap between both is getting bigger and bigger as epochs increase. In the final epochs, training continues its slow improvement. However, development no longer improves. Although we use regularization techniques, we cannot prevent overfitting completely. In any case, remember that our first unregularized model had 0.54 dev accuracy. The regularized one is above 0.57, so the improvement is significant. Probably, using a higher patience value, we could even improve a little bit more."
      ]
    },
    {
      "cell_type": "markdown",
      "metadata": {
        "id": "NrXNLl16P_WW"
      },
      "source": [
        "Now comes the most important part. Let's load the best model from our training process, stored in the disk and check its performance on test data. Test images have not been used during the design and development stages of our neural network, so they are acutally **new data**. The performance estimation obtained using those images will be a very good estimation of the real performance of our model."
      ]
    },
    {
      "cell_type": "code",
      "metadata": {
        "id": "Vb3ylwnVQB5J"
      },
      "source": [
        "model = torch.load('model.pth', map_location=torch.device(device))"
      ],
      "execution_count": null,
      "outputs": []
    },
    {
      "cell_type": "markdown",
      "metadata": {
        "id": "mvlwgU9EQC0B"
      },
      "source": [
        "Finally, download the test set and see how our model performs!"
      ]
    },
    {
      "cell_type": "code",
      "metadata": {
        "id": "LzsyqXzAG7Xp"
      },
      "source": [
        "test_data = datasets.CIFAR10(\n",
        "    root=\"data\",\n",
        "    train=False,\n",
        "    download=True,\n",
        "    transform=transforms.ToTensor()\n",
        ")\n",
        "\n",
        "print(f'Number of images: {len(test_data)}')"
      ],
      "execution_count": null,
      "outputs": []
    },
    {
      "cell_type": "code",
      "metadata": {
        "id": "4nMSXbfuQMUC"
      },
      "source": [
        "batch_size = 64\n",
        "loss_fn = nn.CrossEntropyLoss()\n",
        "\n",
        "test_dataloader = DataLoader(test_data, batch_size=batch_size, shuffle=False)\n",
        "\n",
        "test_loss, test_acc = test_loop(test_dataloader, model, loss_fn, device)\n",
        "\n",
        "print(f'test loss: {test_loss}, test accuracy: {test_acc}')"
      ],
      "execution_count": null,
      "outputs": []
    },
    {
      "cell_type": "markdown",
      "metadata": {
        "id": "7at3tli0QXLB"
      },
      "source": [
        "**This is our final result: 0.5837**. Our model can correctly classify almost 6 out of 10 images. Is this good enough? It depends on the application we pursue. But to have an idea, why don't you try it yourself?"
      ]
    },
    {
      "cell_type": "code",
      "metadata": {
        "id": "1rWYvhLhJS4v"
      },
      "source": [
        "# Let's visualize some images\n",
        "test_dataloader = DataLoader(test_data, batch_size=10, shuffle=True)\n",
        "imgs, labels = next(iter(test_dataloader)) # We have a batch of 10 images and labels\n",
        "\n",
        "# Make the predictions with our network\n",
        "model.eval()\n",
        "preds = model(imgs.to(device))\n",
        "pred_indices = preds.argmax(1).to('cpu').numpy()\n",
        "\n",
        "def imshow(inp, title=None):\n",
        "    \"\"\"Imshow for Tensor.\"\"\"\n",
        "    inp = inp.numpy().transpose((1, 2, 0))    \n",
        "    inp = np.clip(inp, 0, 1)\n",
        "    plt.imshow(inp)\n",
        "    if title is not None:\n",
        "        plt.title(title)\n",
        "    plt.pause(0.001)  # pause a bit so that plots are updated\n",
        "\n",
        "\n",
        "# Make a grid from batch\n",
        "out = torchvision.utils.make_grid(imgs, nrow=10) # TODO: test this\n",
        "\n",
        "#imshow(out, title=[labels_map[x.item()] for x in labels])\n",
        "imshow(out)"
      ],
      "execution_count": null,
      "outputs": []
    },
    {
      "cell_type": "markdown",
      "metadata": {
        "id": "29xvgZfWdd7j"
      },
      "source": [
        "Make your guess! You can right click the image above and open it in a new tab to zoom in and see each image better. Remember the possible labels:"
      ]
    },
    {
      "cell_type": "code",
      "metadata": {
        "id": "vhHcs-ecdobf"
      },
      "source": [
        "labels_map "
      ],
      "execution_count": null,
      "outputs": []
    },
    {
      "cell_type": "markdown",
      "metadata": {
        "id": "VnZuCijpdvj4"
      },
      "source": [
        "Here you have the predictions of the network and the real labels. What about you? Are you better than our network?"
      ]
    },
    {
      "cell_type": "code",
      "metadata": {
        "id": "O_OpVpWgd182"
      },
      "source": [
        "pred_labels = [labels_map[x] for x in pred_indices]\n",
        "print(f'Predicted labels: {pred_labels}')\n",
        "gt_labels = [labels_map[x.item()] for x in labels]\n",
        "print(f'Real labels: {gt_labels}')"
      ],
      "execution_count": null,
      "outputs": []
    },
    {
      "cell_type": "markdown",
      "metadata": {
        "id": "UubGFQRFQdFw"
      },
      "source": [
        "**FINAL NOTES:**\n",
        "\n",
        "In this lab, we have seen that the techniques to improve the training performance work very well. Weight initialization, batch normalization, optimizers and schedulers helped us to reach 0.98 training accuracy with a neural network that initially was only able to reach 0.29. \n",
        "\n",
        "However, when we tried to improve our test performance, we were not *that* successful. The first model we tested in development data had an accuracy of 0.54. After exploring data augmentation, weight decay and dropout, we managed to achieve an accuracy above 0.57. Compared to how training evolved, testing improvement might seem quite poor. But there are several reasons for this:\n",
        "\n",
        "\n",
        "1.   Given the limited time of the labs and the relatively long training times required, we could not explore in depth all the regularization alternatives. More experiments regarding different transformations for data augmentation, weight decay values and dropout values and configurations could be run. Surely, we could improve even more our final performance.\n",
        "2.   Regularization is much more difficult than optimization. The real challenge in machine learning in general, and deep learning in particular, is **generalization**. Nowadays, optimization is better understood and stronger solutions have been proposed.\n",
        "3.   In this lab, we did not explore different neural network architectures. It is well known that MLPs overfit easily to high-dimensional input data, such as images. Even though we try much harder, we will always have the limits imposed by the real capacity of our MLP. Indeed, for images (and for other input types also) a different neural architecture is more suitable: **Convolutional Neural Networks**. And that is precisely the next topic of our course!\n",
        "\n"
      ]
    }
  ]
}